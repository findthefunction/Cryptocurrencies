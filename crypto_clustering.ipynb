{
 "cells": [
  {
   "cell_type": "markdown",
   "metadata": {},
   "source": [
    "# Clustering Crypto"
   ]
  },
  {
   "cell_type": "code",
   "execution_count": 32,
   "metadata": {},
   "outputs": [],
   "source": [
    "# Initial imports\n",
    "import pandas as pd\n",
    "import hvplot.pandas\n",
    "from path import Path\n",
    "import plotly.express as px\n",
    "from sklearn.preprocessing import StandardScaler, MinMaxScaler\n",
    "from sklearn.decomposition import PCA\n",
    "from sklearn.cluster import KMeans\n"
   ]
  },
  {
   "cell_type": "markdown",
   "metadata": {},
   "source": [
    "### Deliverable 1: Preprocessing the Data for PCA"
   ]
  },
  {
   "cell_type": "code",
   "execution_count": 33,
   "metadata": {},
   "outputs": [
    {
     "data": {
      "text/html": [
       "<div>\n",
       "<style scoped>\n",
       "    .dataframe tbody tr th:only-of-type {\n",
       "        vertical-align: middle;\n",
       "    }\n",
       "\n",
       "    .dataframe tbody tr th {\n",
       "        vertical-align: top;\n",
       "    }\n",
       "\n",
       "    .dataframe thead th {\n",
       "        text-align: right;\n",
       "    }\n",
       "</style>\n",
       "<table border=\"1\" class=\"dataframe\">\n",
       "  <thead>\n",
       "    <tr style=\"text-align: right;\">\n",
       "      <th></th>\n",
       "      <th>Unnamed: 0</th>\n",
       "      <th>CoinName</th>\n",
       "      <th>Algorithm</th>\n",
       "      <th>IsTrading</th>\n",
       "      <th>ProofType</th>\n",
       "      <th>TotalCoinsMined</th>\n",
       "      <th>TotalCoinSupply</th>\n",
       "    </tr>\n",
       "  </thead>\n",
       "  <tbody>\n",
       "    <tr>\n",
       "      <th>0</th>\n",
       "      <td>42</td>\n",
       "      <td>42 Coin</td>\n",
       "      <td>Scrypt</td>\n",
       "      <td>True</td>\n",
       "      <td>PoW/PoS</td>\n",
       "      <td>4.199995e+01</td>\n",
       "      <td>42</td>\n",
       "    </tr>\n",
       "    <tr>\n",
       "      <th>1</th>\n",
       "      <td>365</td>\n",
       "      <td>365Coin</td>\n",
       "      <td>X11</td>\n",
       "      <td>True</td>\n",
       "      <td>PoW/PoS</td>\n",
       "      <td>NaN</td>\n",
       "      <td>2300000000</td>\n",
       "    </tr>\n",
       "    <tr>\n",
       "      <th>2</th>\n",
       "      <td>404</td>\n",
       "      <td>404Coin</td>\n",
       "      <td>Scrypt</td>\n",
       "      <td>True</td>\n",
       "      <td>PoW/PoS</td>\n",
       "      <td>1.055185e+09</td>\n",
       "      <td>532000000</td>\n",
       "    </tr>\n",
       "    <tr>\n",
       "      <th>3</th>\n",
       "      <td>611</td>\n",
       "      <td>SixEleven</td>\n",
       "      <td>SHA-256</td>\n",
       "      <td>True</td>\n",
       "      <td>PoW</td>\n",
       "      <td>NaN</td>\n",
       "      <td>611000</td>\n",
       "    </tr>\n",
       "    <tr>\n",
       "      <th>4</th>\n",
       "      <td>808</td>\n",
       "      <td>808</td>\n",
       "      <td>SHA-256</td>\n",
       "      <td>True</td>\n",
       "      <td>PoW/PoS</td>\n",
       "      <td>0.000000e+00</td>\n",
       "      <td>0</td>\n",
       "    </tr>\n",
       "  </tbody>\n",
       "</table>\n",
       "</div>"
      ],
      "text/plain": [
       "  Unnamed: 0   CoinName Algorithm  IsTrading ProofType  TotalCoinsMined  \\\n",
       "0         42    42 Coin    Scrypt       True   PoW/PoS     4.199995e+01   \n",
       "1        365    365Coin       X11       True   PoW/PoS              NaN   \n",
       "2        404    404Coin    Scrypt       True   PoW/PoS     1.055185e+09   \n",
       "3        611  SixEleven   SHA-256       True       PoW              NaN   \n",
       "4        808        808   SHA-256       True   PoW/PoS     0.000000e+00   \n",
       "\n",
       "  TotalCoinSupply  \n",
       "0              42  \n",
       "1      2300000000  \n",
       "2       532000000  \n",
       "3          611000  \n",
       "4               0  "
      ]
     },
     "execution_count": 33,
     "metadata": {},
     "output_type": "execute_result"
    }
   ],
   "source": [
    "# Load the crypto_data.csv dataset.\r\n",
    "file_path = \"crypto_data.csv\"\r\n",
    "crypto_df = pd.read_csv(file_path)\r\n",
    "crypto_df.head()"
   ]
  },
  {
   "cell_type": "code",
   "execution_count": 34,
   "metadata": {},
   "outputs": [
    {
     "data": {
      "text/plain": [
       "Index(['Unnamed: 0', 'CoinName', 'Algorithm', 'IsTrading', 'ProofType',\n",
       "       'TotalCoinsMined', 'TotalCoinSupply'],\n",
       "      dtype='object')"
      ]
     },
     "execution_count": 34,
     "metadata": {},
     "output_type": "execute_result"
    }
   ],
   "source": [
    "#list column names\r\n",
    "crypto_df.columns"
   ]
  },
  {
   "cell_type": "code",
   "execution_count": 35,
   "metadata": {},
   "outputs": [
    {
     "data": {
      "text/plain": [
       "Unnamed: 0         1144\n",
       "CoinName           1144\n",
       "Algorithm          1144\n",
       "IsTrading          1144\n",
       "ProofType          1144\n",
       "TotalCoinsMined     685\n",
       "TotalCoinSupply    1144\n",
       "dtype: int64"
      ]
     },
     "execution_count": 35,
     "metadata": {},
     "output_type": "execute_result"
    }
   ],
   "source": [
    "# Keep all the cryptocurrencies that are being traded.\r\n",
    "#new_crypto_df2 = crypto_df.drop(['Unnamed: 0'], axis=1)\r\n",
    "new_crypto_trading =crypto_df[crypto_df.IsTrading == True]\r\n",
    "new_crypto_trading.count()"
   ]
  },
  {
   "cell_type": "code",
   "execution_count": 36,
   "metadata": {},
   "outputs": [
    {
     "data": {
      "text/html": [
       "<div>\n",
       "<style scoped>\n",
       "    .dataframe tbody tr th:only-of-type {\n",
       "        vertical-align: middle;\n",
       "    }\n",
       "\n",
       "    .dataframe tbody tr th {\n",
       "        vertical-align: top;\n",
       "    }\n",
       "\n",
       "    .dataframe thead th {\n",
       "        text-align: right;\n",
       "    }\n",
       "</style>\n",
       "<table border=\"1\" class=\"dataframe\">\n",
       "  <thead>\n",
       "    <tr style=\"text-align: right;\">\n",
       "      <th></th>\n",
       "      <th>Unnamed: 0</th>\n",
       "      <th>CoinName</th>\n",
       "      <th>Algorithm</th>\n",
       "      <th>IsTrading</th>\n",
       "      <th>ProofType</th>\n",
       "      <th>TotalCoinsMined</th>\n",
       "      <th>TotalCoinSupply</th>\n",
       "    </tr>\n",
       "  </thead>\n",
       "  <tbody>\n",
       "    <tr>\n",
       "      <th>0</th>\n",
       "      <td>42</td>\n",
       "      <td>42 Coin</td>\n",
       "      <td>Scrypt</td>\n",
       "      <td>True</td>\n",
       "      <td>PoW/PoS</td>\n",
       "      <td>4.199995e+01</td>\n",
       "      <td>42</td>\n",
       "    </tr>\n",
       "    <tr>\n",
       "      <th>1</th>\n",
       "      <td>365</td>\n",
       "      <td>365Coin</td>\n",
       "      <td>X11</td>\n",
       "      <td>True</td>\n",
       "      <td>PoW/PoS</td>\n",
       "      <td>NaN</td>\n",
       "      <td>2300000000</td>\n",
       "    </tr>\n",
       "    <tr>\n",
       "      <th>2</th>\n",
       "      <td>404</td>\n",
       "      <td>404Coin</td>\n",
       "      <td>Scrypt</td>\n",
       "      <td>True</td>\n",
       "      <td>PoW/PoS</td>\n",
       "      <td>1.055185e+09</td>\n",
       "      <td>532000000</td>\n",
       "    </tr>\n",
       "    <tr>\n",
       "      <th>3</th>\n",
       "      <td>611</td>\n",
       "      <td>SixEleven</td>\n",
       "      <td>SHA-256</td>\n",
       "      <td>True</td>\n",
       "      <td>PoW</td>\n",
       "      <td>NaN</td>\n",
       "      <td>611000</td>\n",
       "    </tr>\n",
       "    <tr>\n",
       "      <th>4</th>\n",
       "      <td>808</td>\n",
       "      <td>808</td>\n",
       "      <td>SHA-256</td>\n",
       "      <td>True</td>\n",
       "      <td>PoW/PoS</td>\n",
       "      <td>0.000000e+00</td>\n",
       "      <td>0</td>\n",
       "    </tr>\n",
       "    <tr>\n",
       "      <th>...</th>\n",
       "      <td>...</td>\n",
       "      <td>...</td>\n",
       "      <td>...</td>\n",
       "      <td>...</td>\n",
       "      <td>...</td>\n",
       "      <td>...</td>\n",
       "      <td>...</td>\n",
       "    </tr>\n",
       "    <tr>\n",
       "      <th>1243</th>\n",
       "      <td>SERO</td>\n",
       "      <td>Super Zero</td>\n",
       "      <td>Ethash</td>\n",
       "      <td>True</td>\n",
       "      <td>PoW</td>\n",
       "      <td>NaN</td>\n",
       "      <td>1000000000</td>\n",
       "    </tr>\n",
       "    <tr>\n",
       "      <th>1244</th>\n",
       "      <td>UOS</td>\n",
       "      <td>UOS</td>\n",
       "      <td>SHA-256</td>\n",
       "      <td>True</td>\n",
       "      <td>DPoI</td>\n",
       "      <td>NaN</td>\n",
       "      <td>1000000000</td>\n",
       "    </tr>\n",
       "    <tr>\n",
       "      <th>1245</th>\n",
       "      <td>BDX</td>\n",
       "      <td>Beldex</td>\n",
       "      <td>CryptoNight</td>\n",
       "      <td>True</td>\n",
       "      <td>PoW</td>\n",
       "      <td>9.802226e+08</td>\n",
       "      <td>1400222610</td>\n",
       "    </tr>\n",
       "    <tr>\n",
       "      <th>1246</th>\n",
       "      <td>ZEN</td>\n",
       "      <td>Horizen</td>\n",
       "      <td>Equihash</td>\n",
       "      <td>True</td>\n",
       "      <td>PoW</td>\n",
       "      <td>7.296538e+06</td>\n",
       "      <td>21000000</td>\n",
       "    </tr>\n",
       "    <tr>\n",
       "      <th>1247</th>\n",
       "      <td>XBC</td>\n",
       "      <td>BitcoinPlus</td>\n",
       "      <td>Scrypt</td>\n",
       "      <td>True</td>\n",
       "      <td>PoS</td>\n",
       "      <td>1.283270e+05</td>\n",
       "      <td>1000000</td>\n",
       "    </tr>\n",
       "  </tbody>\n",
       "</table>\n",
       "<p>1144 rows × 7 columns</p>\n",
       "</div>"
      ],
      "text/plain": [
       "     Unnamed: 0     CoinName    Algorithm  IsTrading ProofType  \\\n",
       "0            42      42 Coin       Scrypt       True   PoW/PoS   \n",
       "1           365      365Coin          X11       True   PoW/PoS   \n",
       "2           404      404Coin       Scrypt       True   PoW/PoS   \n",
       "3           611    SixEleven      SHA-256       True       PoW   \n",
       "4           808          808      SHA-256       True   PoW/PoS   \n",
       "...         ...          ...          ...        ...       ...   \n",
       "1243       SERO   Super Zero       Ethash       True       PoW   \n",
       "1244        UOS          UOS      SHA-256       True      DPoI   \n",
       "1245        BDX       Beldex  CryptoNight       True       PoW   \n",
       "1246        ZEN      Horizen     Equihash       True       PoW   \n",
       "1247        XBC  BitcoinPlus       Scrypt       True       PoS   \n",
       "\n",
       "      TotalCoinsMined TotalCoinSupply  \n",
       "0        4.199995e+01              42  \n",
       "1                 NaN      2300000000  \n",
       "2        1.055185e+09       532000000  \n",
       "3                 NaN          611000  \n",
       "4        0.000000e+00               0  \n",
       "...               ...             ...  \n",
       "1243              NaN      1000000000  \n",
       "1244              NaN      1000000000  \n",
       "1245     9.802226e+08      1400222610  \n",
       "1246     7.296538e+06        21000000  \n",
       "1247     1.283270e+05         1000000  \n",
       "\n",
       "[1144 rows x 7 columns]"
      ]
     },
     "execution_count": 36,
     "metadata": {},
     "output_type": "execute_result"
    }
   ],
   "source": [
    "# Keep all the cryptocurrencies that have a working algorithm.\r\n",
    "new_crypto_df3 = new_crypto_trading.dropna(subset=['Algorithm'])\r\n",
    "new_crypto_df3"
   ]
  },
  {
   "cell_type": "code",
   "execution_count": 37,
   "metadata": {},
   "outputs": [
    {
     "data": {
      "text/html": [
       "<div>\n",
       "<style scoped>\n",
       "    .dataframe tbody tr th:only-of-type {\n",
       "        vertical-align: middle;\n",
       "    }\n",
       "\n",
       "    .dataframe tbody tr th {\n",
       "        vertical-align: top;\n",
       "    }\n",
       "\n",
       "    .dataframe thead th {\n",
       "        text-align: right;\n",
       "    }\n",
       "</style>\n",
       "<table border=\"1\" class=\"dataframe\">\n",
       "  <thead>\n",
       "    <tr style=\"text-align: right;\">\n",
       "      <th></th>\n",
       "      <th>Unnamed: 0</th>\n",
       "      <th>CoinName</th>\n",
       "      <th>Algorithm</th>\n",
       "      <th>ProofType</th>\n",
       "      <th>TotalCoinsMined</th>\n",
       "      <th>TotalCoinSupply</th>\n",
       "    </tr>\n",
       "  </thead>\n",
       "  <tbody>\n",
       "    <tr>\n",
       "      <th>0</th>\n",
       "      <td>42</td>\n",
       "      <td>42 Coin</td>\n",
       "      <td>Scrypt</td>\n",
       "      <td>PoW/PoS</td>\n",
       "      <td>4.199995e+01</td>\n",
       "      <td>42</td>\n",
       "    </tr>\n",
       "    <tr>\n",
       "      <th>1</th>\n",
       "      <td>365</td>\n",
       "      <td>365Coin</td>\n",
       "      <td>X11</td>\n",
       "      <td>PoW/PoS</td>\n",
       "      <td>NaN</td>\n",
       "      <td>2300000000</td>\n",
       "    </tr>\n",
       "    <tr>\n",
       "      <th>2</th>\n",
       "      <td>404</td>\n",
       "      <td>404Coin</td>\n",
       "      <td>Scrypt</td>\n",
       "      <td>PoW/PoS</td>\n",
       "      <td>1.055185e+09</td>\n",
       "      <td>532000000</td>\n",
       "    </tr>\n",
       "    <tr>\n",
       "      <th>3</th>\n",
       "      <td>611</td>\n",
       "      <td>SixEleven</td>\n",
       "      <td>SHA-256</td>\n",
       "      <td>PoW</td>\n",
       "      <td>NaN</td>\n",
       "      <td>611000</td>\n",
       "    </tr>\n",
       "    <tr>\n",
       "      <th>4</th>\n",
       "      <td>808</td>\n",
       "      <td>808</td>\n",
       "      <td>SHA-256</td>\n",
       "      <td>PoW/PoS</td>\n",
       "      <td>0.000000e+00</td>\n",
       "      <td>0</td>\n",
       "    </tr>\n",
       "  </tbody>\n",
       "</table>\n",
       "</div>"
      ],
      "text/plain": [
       "  Unnamed: 0   CoinName Algorithm ProofType  TotalCoinsMined TotalCoinSupply\n",
       "0         42    42 Coin    Scrypt   PoW/PoS     4.199995e+01              42\n",
       "1        365    365Coin       X11   PoW/PoS              NaN      2300000000\n",
       "2        404    404Coin    Scrypt   PoW/PoS     1.055185e+09       532000000\n",
       "3        611  SixEleven   SHA-256       PoW              NaN          611000\n",
       "4        808        808   SHA-256   PoW/PoS     0.000000e+00               0"
      ]
     },
     "execution_count": 37,
     "metadata": {},
     "output_type": "execute_result"
    }
   ],
   "source": [
    "# Remove the \"IsTrading\" column. \r\n",
    "new_crypto_df4 = new_crypto_df3.drop(['IsTrading'],axis=1)\r\n",
    "new_crypto_df4.head()"
   ]
  },
  {
   "cell_type": "code",
   "execution_count": 38,
   "metadata": {},
   "outputs": [
    {
     "data": {
      "text/html": [
       "<div>\n",
       "<style scoped>\n",
       "    .dataframe tbody tr th:only-of-type {\n",
       "        vertical-align: middle;\n",
       "    }\n",
       "\n",
       "    .dataframe tbody tr th {\n",
       "        vertical-align: top;\n",
       "    }\n",
       "\n",
       "    .dataframe thead th {\n",
       "        text-align: right;\n",
       "    }\n",
       "</style>\n",
       "<table border=\"1\" class=\"dataframe\">\n",
       "  <thead>\n",
       "    <tr style=\"text-align: right;\">\n",
       "      <th></th>\n",
       "      <th></th>\n",
       "      <th>CoinName</th>\n",
       "      <th>Algorithm</th>\n",
       "      <th>ProofType</th>\n",
       "      <th>TotalCoinsMined</th>\n",
       "      <th>TotalCoinSupply</th>\n",
       "    </tr>\n",
       "  </thead>\n",
       "  <tbody>\n",
       "    <tr>\n",
       "      <th>0</th>\n",
       "      <td>42</td>\n",
       "      <td>42 Coin</td>\n",
       "      <td>Scrypt</td>\n",
       "      <td>PoW/PoS</td>\n",
       "      <td>4.199995e+01</td>\n",
       "      <td>42</td>\n",
       "    </tr>\n",
       "    <tr>\n",
       "      <th>2</th>\n",
       "      <td>404</td>\n",
       "      <td>404Coin</td>\n",
       "      <td>Scrypt</td>\n",
       "      <td>PoW/PoS</td>\n",
       "      <td>1.055185e+09</td>\n",
       "      <td>532000000</td>\n",
       "    </tr>\n",
       "    <tr>\n",
       "      <th>4</th>\n",
       "      <td>808</td>\n",
       "      <td>808</td>\n",
       "      <td>SHA-256</td>\n",
       "      <td>PoW/PoS</td>\n",
       "      <td>0.000000e+00</td>\n",
       "      <td>0</td>\n",
       "    </tr>\n",
       "    <tr>\n",
       "      <th>5</th>\n",
       "      <td>1337</td>\n",
       "      <td>EliteCoin</td>\n",
       "      <td>X13</td>\n",
       "      <td>PoW/PoS</td>\n",
       "      <td>2.927942e+10</td>\n",
       "      <td>314159265359</td>\n",
       "    </tr>\n",
       "    <tr>\n",
       "      <th>7</th>\n",
       "      <td>BTC</td>\n",
       "      <td>Bitcoin</td>\n",
       "      <td>SHA-256</td>\n",
       "      <td>PoW</td>\n",
       "      <td>1.792718e+07</td>\n",
       "      <td>21000000</td>\n",
       "    </tr>\n",
       "    <tr>\n",
       "      <th>...</th>\n",
       "      <td>...</td>\n",
       "      <td>...</td>\n",
       "      <td>...</td>\n",
       "      <td>...</td>\n",
       "      <td>...</td>\n",
       "      <td>...</td>\n",
       "    </tr>\n",
       "    <tr>\n",
       "      <th>1238</th>\n",
       "      <td>ZEPH</td>\n",
       "      <td>ZEPHYR</td>\n",
       "      <td>SHA-256</td>\n",
       "      <td>DPoS</td>\n",
       "      <td>2.000000e+09</td>\n",
       "      <td>2000000000</td>\n",
       "    </tr>\n",
       "    <tr>\n",
       "      <th>1242</th>\n",
       "      <td>GAP</td>\n",
       "      <td>Gapcoin</td>\n",
       "      <td>Scrypt</td>\n",
       "      <td>PoW/PoS</td>\n",
       "      <td>1.493105e+07</td>\n",
       "      <td>250000000</td>\n",
       "    </tr>\n",
       "    <tr>\n",
       "      <th>1245</th>\n",
       "      <td>BDX</td>\n",
       "      <td>Beldex</td>\n",
       "      <td>CryptoNight</td>\n",
       "      <td>PoW</td>\n",
       "      <td>9.802226e+08</td>\n",
       "      <td>1400222610</td>\n",
       "    </tr>\n",
       "    <tr>\n",
       "      <th>1246</th>\n",
       "      <td>ZEN</td>\n",
       "      <td>Horizen</td>\n",
       "      <td>Equihash</td>\n",
       "      <td>PoW</td>\n",
       "      <td>7.296538e+06</td>\n",
       "      <td>21000000</td>\n",
       "    </tr>\n",
       "    <tr>\n",
       "      <th>1247</th>\n",
       "      <td>XBC</td>\n",
       "      <td>BitcoinPlus</td>\n",
       "      <td>Scrypt</td>\n",
       "      <td>PoS</td>\n",
       "      <td>1.283270e+05</td>\n",
       "      <td>1000000</td>\n",
       "    </tr>\n",
       "  </tbody>\n",
       "</table>\n",
       "<p>685 rows × 6 columns</p>\n",
       "</div>"
      ],
      "text/plain": [
       "               CoinName    Algorithm ProofType  TotalCoinsMined  \\\n",
       "0       42      42 Coin       Scrypt   PoW/PoS     4.199995e+01   \n",
       "2      404      404Coin       Scrypt   PoW/PoS     1.055185e+09   \n",
       "4      808          808      SHA-256   PoW/PoS     0.000000e+00   \n",
       "5     1337    EliteCoin          X13   PoW/PoS     2.927942e+10   \n",
       "7      BTC      Bitcoin      SHA-256       PoW     1.792718e+07   \n",
       "...    ...          ...          ...       ...              ...   \n",
       "1238  ZEPH       ZEPHYR      SHA-256      DPoS     2.000000e+09   \n",
       "1242   GAP      Gapcoin       Scrypt   PoW/PoS     1.493105e+07   \n",
       "1245   BDX       Beldex  CryptoNight       PoW     9.802226e+08   \n",
       "1246   ZEN      Horizen     Equihash       PoW     7.296538e+06   \n",
       "1247   XBC  BitcoinPlus       Scrypt       PoS     1.283270e+05   \n",
       "\n",
       "     TotalCoinSupply  \n",
       "0                 42  \n",
       "2          532000000  \n",
       "4                  0  \n",
       "5       314159265359  \n",
       "7           21000000  \n",
       "...              ...  \n",
       "1238      2000000000  \n",
       "1242       250000000  \n",
       "1245      1400222610  \n",
       "1246        21000000  \n",
       "1247         1000000  \n",
       "\n",
       "[685 rows x 6 columns]"
      ]
     },
     "execution_count": 38,
     "metadata": {},
     "output_type": "execute_result"
    }
   ],
   "source": [
    "# Remove rows that have at least 1 null value.\r\n",
    "new_crypto_df5 = new_crypto_df4.dropna().rename(columns={'Unnamed: 0': ' '})\r\n",
    "new_crypto_df5"
   ]
  },
  {
   "cell_type": "code",
   "execution_count": 39,
   "metadata": {},
   "outputs": [
    {
     "data": {
      "text/html": [
       "<div>\n",
       "<style scoped>\n",
       "    .dataframe tbody tr th:only-of-type {\n",
       "        vertical-align: middle;\n",
       "    }\n",
       "\n",
       "    .dataframe tbody tr th {\n",
       "        vertical-align: top;\n",
       "    }\n",
       "\n",
       "    .dataframe thead th {\n",
       "        text-align: right;\n",
       "    }\n",
       "</style>\n",
       "<table border=\"1\" class=\"dataframe\">\n",
       "  <thead>\n",
       "    <tr style=\"text-align: right;\">\n",
       "      <th></th>\n",
       "      <th>CoinName</th>\n",
       "      <th>Algorithm</th>\n",
       "      <th>ProofType</th>\n",
       "      <th>TotalCoinsMined</th>\n",
       "      <th>TotalCoinSupply</th>\n",
       "    </tr>\n",
       "    <tr>\n",
       "      <th></th>\n",
       "      <th></th>\n",
       "      <th></th>\n",
       "      <th></th>\n",
       "      <th></th>\n",
       "      <th></th>\n",
       "    </tr>\n",
       "  </thead>\n",
       "  <tbody>\n",
       "    <tr>\n",
       "      <th>42</th>\n",
       "      <td>42 Coin</td>\n",
       "      <td>Scrypt</td>\n",
       "      <td>PoW/PoS</td>\n",
       "      <td>4.199995e+01</td>\n",
       "      <td>42</td>\n",
       "    </tr>\n",
       "    <tr>\n",
       "      <th>404</th>\n",
       "      <td>404Coin</td>\n",
       "      <td>Scrypt</td>\n",
       "      <td>PoW/PoS</td>\n",
       "      <td>1.055185e+09</td>\n",
       "      <td>532000000</td>\n",
       "    </tr>\n",
       "    <tr>\n",
       "      <th>1337</th>\n",
       "      <td>EliteCoin</td>\n",
       "      <td>X13</td>\n",
       "      <td>PoW/PoS</td>\n",
       "      <td>2.927942e+10</td>\n",
       "      <td>314159265359</td>\n",
       "    </tr>\n",
       "    <tr>\n",
       "      <th>BTC</th>\n",
       "      <td>Bitcoin</td>\n",
       "      <td>SHA-256</td>\n",
       "      <td>PoW</td>\n",
       "      <td>1.792718e+07</td>\n",
       "      <td>21000000</td>\n",
       "    </tr>\n",
       "    <tr>\n",
       "      <th>ETH</th>\n",
       "      <td>Ethereum</td>\n",
       "      <td>Ethash</td>\n",
       "      <td>PoW</td>\n",
       "      <td>1.076842e+08</td>\n",
       "      <td>0</td>\n",
       "    </tr>\n",
       "  </tbody>\n",
       "</table>\n",
       "</div>"
      ],
      "text/plain": [
       "       CoinName Algorithm ProofType  TotalCoinsMined TotalCoinSupply\n",
       "                                                                    \n",
       "42      42 Coin    Scrypt   PoW/PoS     4.199995e+01              42\n",
       "404     404Coin    Scrypt   PoW/PoS     1.055185e+09       532000000\n",
       "1337  EliteCoin       X13   PoW/PoS     2.927942e+10    314159265359\n",
       "BTC     Bitcoin   SHA-256       PoW     1.792718e+07        21000000\n",
       "ETH    Ethereum    Ethash       PoW     1.076842e+08               0"
      ]
     },
     "execution_count": 39,
     "metadata": {},
     "output_type": "execute_result"
    }
   ],
   "source": [
    "# Keep the rows where coins are mined, set index\r\n",
    "new_crypto_df6 = new_crypto_df5[new_crypto_df5.TotalCoinsMined > 0].set_index(' ')\r\n",
    "new_crypto_df6.head(5)"
   ]
  },
  {
   "cell_type": "code",
   "execution_count": 40,
   "metadata": {},
   "outputs": [
    {
     "data": {
      "text/html": [
       "<div>\n",
       "<style scoped>\n",
       "    .dataframe tbody tr th:only-of-type {\n",
       "        vertical-align: middle;\n",
       "    }\n",
       "\n",
       "    .dataframe tbody tr th {\n",
       "        vertical-align: top;\n",
       "    }\n",
       "\n",
       "    .dataframe thead th {\n",
       "        text-align: right;\n",
       "    }\n",
       "</style>\n",
       "<table border=\"1\" class=\"dataframe\">\n",
       "  <thead>\n",
       "    <tr style=\"text-align: right;\">\n",
       "      <th></th>\n",
       "      <th>CoinName</th>\n",
       "      <th>Algorithm</th>\n",
       "      <th>ProofType</th>\n",
       "      <th>TotalCoinsMined</th>\n",
       "      <th>TotalCoinSupply</th>\n",
       "    </tr>\n",
       "    <tr>\n",
       "      <th></th>\n",
       "      <th></th>\n",
       "      <th></th>\n",
       "      <th></th>\n",
       "      <th></th>\n",
       "      <th></th>\n",
       "    </tr>\n",
       "  </thead>\n",
       "  <tbody>\n",
       "    <tr>\n",
       "      <th>42</th>\n",
       "      <td>42 Coin</td>\n",
       "      <td>Scrypt</td>\n",
       "      <td>PoW/PoS</td>\n",
       "      <td>4.199995e+01</td>\n",
       "      <td>42</td>\n",
       "    </tr>\n",
       "    <tr>\n",
       "      <th>404</th>\n",
       "      <td>404Coin</td>\n",
       "      <td>Scrypt</td>\n",
       "      <td>PoW/PoS</td>\n",
       "      <td>1.055185e+09</td>\n",
       "      <td>532000000</td>\n",
       "    </tr>\n",
       "    <tr>\n",
       "      <th>1337</th>\n",
       "      <td>EliteCoin</td>\n",
       "      <td>X13</td>\n",
       "      <td>PoW/PoS</td>\n",
       "      <td>2.927942e+10</td>\n",
       "      <td>314159265359</td>\n",
       "    </tr>\n",
       "    <tr>\n",
       "      <th>BTC</th>\n",
       "      <td>Bitcoin</td>\n",
       "      <td>SHA-256</td>\n",
       "      <td>PoW</td>\n",
       "      <td>1.792718e+07</td>\n",
       "      <td>21000000</td>\n",
       "    </tr>\n",
       "    <tr>\n",
       "      <th>ETH</th>\n",
       "      <td>Ethereum</td>\n",
       "      <td>Ethash</td>\n",
       "      <td>PoW</td>\n",
       "      <td>1.076842e+08</td>\n",
       "      <td>0</td>\n",
       "    </tr>\n",
       "    <tr>\n",
       "      <th>...</th>\n",
       "      <td>...</td>\n",
       "      <td>...</td>\n",
       "      <td>...</td>\n",
       "      <td>...</td>\n",
       "      <td>...</td>\n",
       "    </tr>\n",
       "    <tr>\n",
       "      <th>ZEPH</th>\n",
       "      <td>ZEPHYR</td>\n",
       "      <td>SHA-256</td>\n",
       "      <td>DPoS</td>\n",
       "      <td>2.000000e+09</td>\n",
       "      <td>2000000000</td>\n",
       "    </tr>\n",
       "    <tr>\n",
       "      <th>GAP</th>\n",
       "      <td>Gapcoin</td>\n",
       "      <td>Scrypt</td>\n",
       "      <td>PoW/PoS</td>\n",
       "      <td>1.493105e+07</td>\n",
       "      <td>250000000</td>\n",
       "    </tr>\n",
       "    <tr>\n",
       "      <th>BDX</th>\n",
       "      <td>Beldex</td>\n",
       "      <td>CryptoNight</td>\n",
       "      <td>PoW</td>\n",
       "      <td>9.802226e+08</td>\n",
       "      <td>1400222610</td>\n",
       "    </tr>\n",
       "    <tr>\n",
       "      <th>ZEN</th>\n",
       "      <td>Horizen</td>\n",
       "      <td>Equihash</td>\n",
       "      <td>PoW</td>\n",
       "      <td>7.296538e+06</td>\n",
       "      <td>21000000</td>\n",
       "    </tr>\n",
       "    <tr>\n",
       "      <th>XBC</th>\n",
       "      <td>BitcoinPlus</td>\n",
       "      <td>Scrypt</td>\n",
       "      <td>PoS</td>\n",
       "      <td>1.283270e+05</td>\n",
       "      <td>1000000</td>\n",
       "    </tr>\n",
       "  </tbody>\n",
       "</table>\n",
       "<p>532 rows × 5 columns</p>\n",
       "</div>"
      ],
      "text/plain": [
       "         CoinName    Algorithm ProofType  TotalCoinsMined TotalCoinSupply\n",
       "                                                                         \n",
       "42        42 Coin       Scrypt   PoW/PoS     4.199995e+01              42\n",
       "404       404Coin       Scrypt   PoW/PoS     1.055185e+09       532000000\n",
       "1337    EliteCoin          X13   PoW/PoS     2.927942e+10    314159265359\n",
       "BTC       Bitcoin      SHA-256       PoW     1.792718e+07        21000000\n",
       "ETH      Ethereum       Ethash       PoW     1.076842e+08               0\n",
       "...           ...          ...       ...              ...             ...\n",
       "ZEPH       ZEPHYR      SHA-256      DPoS     2.000000e+09      2000000000\n",
       "GAP       Gapcoin       Scrypt   PoW/PoS     1.493105e+07       250000000\n",
       "BDX        Beldex  CryptoNight       PoW     9.802226e+08      1400222610\n",
       "ZEN       Horizen     Equihash       PoW     7.296538e+06        21000000\n",
       "XBC   BitcoinPlus       Scrypt       PoS     1.283270e+05         1000000\n",
       "\n",
       "[532 rows x 5 columns]"
      ]
     },
     "execution_count": 40,
     "metadata": {},
     "output_type": "execute_result"
    }
   ],
   "source": [
    "clean_crypto_df = new_crypto_df6\r\n",
    "clean_crypto_df"
   ]
  },
  {
   "cell_type": "code",
   "execution_count": 41,
   "metadata": {},
   "outputs": [
    {
     "data": {
      "text/html": [
       "<div>\n",
       "<style scoped>\n",
       "    .dataframe tbody tr th:only-of-type {\n",
       "        vertical-align: middle;\n",
       "    }\n",
       "\n",
       "    .dataframe tbody tr th {\n",
       "        vertical-align: top;\n",
       "    }\n",
       "\n",
       "    .dataframe thead th {\n",
       "        text-align: right;\n",
       "    }\n",
       "</style>\n",
       "<table border=\"1\" class=\"dataframe\">\n",
       "  <thead>\n",
       "    <tr style=\"text-align: right;\">\n",
       "      <th></th>\n",
       "      <th>CoinName</th>\n",
       "    </tr>\n",
       "    <tr>\n",
       "      <th></th>\n",
       "      <th></th>\n",
       "    </tr>\n",
       "  </thead>\n",
       "  <tbody>\n",
       "    <tr>\n",
       "      <th>42</th>\n",
       "      <td>42 Coin</td>\n",
       "    </tr>\n",
       "    <tr>\n",
       "      <th>404</th>\n",
       "      <td>404Coin</td>\n",
       "    </tr>\n",
       "    <tr>\n",
       "      <th>1337</th>\n",
       "      <td>EliteCoin</td>\n",
       "    </tr>\n",
       "    <tr>\n",
       "      <th>BTC</th>\n",
       "      <td>Bitcoin</td>\n",
       "    </tr>\n",
       "    <tr>\n",
       "      <th>ETH</th>\n",
       "      <td>Ethereum</td>\n",
       "    </tr>\n",
       "    <tr>\n",
       "      <th>...</th>\n",
       "      <td>...</td>\n",
       "    </tr>\n",
       "    <tr>\n",
       "      <th>ZEPH</th>\n",
       "      <td>ZEPHYR</td>\n",
       "    </tr>\n",
       "    <tr>\n",
       "      <th>GAP</th>\n",
       "      <td>Gapcoin</td>\n",
       "    </tr>\n",
       "    <tr>\n",
       "      <th>BDX</th>\n",
       "      <td>Beldex</td>\n",
       "    </tr>\n",
       "    <tr>\n",
       "      <th>ZEN</th>\n",
       "      <td>Horizen</td>\n",
       "    </tr>\n",
       "    <tr>\n",
       "      <th>XBC</th>\n",
       "      <td>BitcoinPlus</td>\n",
       "    </tr>\n",
       "  </tbody>\n",
       "</table>\n",
       "<p>532 rows × 1 columns</p>\n",
       "</div>"
      ],
      "text/plain": [
       "         CoinName\n",
       "                 \n",
       "42        42 Coin\n",
       "404       404Coin\n",
       "1337    EliteCoin\n",
       "BTC       Bitcoin\n",
       "ETH      Ethereum\n",
       "...           ...\n",
       "ZEPH       ZEPHYR\n",
       "GAP       Gapcoin\n",
       "BDX        Beldex\n",
       "ZEN       Horizen\n",
       "XBC   BitcoinPlus\n",
       "\n",
       "[532 rows x 1 columns]"
      ]
     },
     "execution_count": 41,
     "metadata": {},
     "output_type": "execute_result"
    }
   ],
   "source": [
    "# Create a new DataFrame that holds only the cryptocurrencies names.\r\n",
    "coin_names = clean_crypto_df[['CoinName']]\r\n",
    "coin_names"
   ]
  },
  {
   "cell_type": "code",
   "execution_count": 42,
   "metadata": {},
   "outputs": [
    {
     "data": {
      "text/html": [
       "<div>\n",
       "<style scoped>\n",
       "    .dataframe tbody tr th:only-of-type {\n",
       "        vertical-align: middle;\n",
       "    }\n",
       "\n",
       "    .dataframe tbody tr th {\n",
       "        vertical-align: top;\n",
       "    }\n",
       "\n",
       "    .dataframe thead th {\n",
       "        text-align: right;\n",
       "    }\n",
       "</style>\n",
       "<table border=\"1\" class=\"dataframe\">\n",
       "  <thead>\n",
       "    <tr style=\"text-align: right;\">\n",
       "      <th></th>\n",
       "      <th>Algorithm</th>\n",
       "      <th>ProofType</th>\n",
       "      <th>TotalCoinsMined</th>\n",
       "      <th>TotalCoinSupply</th>\n",
       "    </tr>\n",
       "    <tr>\n",
       "      <th></th>\n",
       "      <th></th>\n",
       "      <th></th>\n",
       "      <th></th>\n",
       "      <th></th>\n",
       "    </tr>\n",
       "  </thead>\n",
       "  <tbody>\n",
       "    <tr>\n",
       "      <th>42</th>\n",
       "      <td>Scrypt</td>\n",
       "      <td>PoW/PoS</td>\n",
       "      <td>4.199995e+01</td>\n",
       "      <td>42</td>\n",
       "    </tr>\n",
       "    <tr>\n",
       "      <th>404</th>\n",
       "      <td>Scrypt</td>\n",
       "      <td>PoW/PoS</td>\n",
       "      <td>1.055185e+09</td>\n",
       "      <td>532000000</td>\n",
       "    </tr>\n",
       "    <tr>\n",
       "      <th>1337</th>\n",
       "      <td>X13</td>\n",
       "      <td>PoW/PoS</td>\n",
       "      <td>2.927942e+10</td>\n",
       "      <td>314159265359</td>\n",
       "    </tr>\n",
       "    <tr>\n",
       "      <th>BTC</th>\n",
       "      <td>SHA-256</td>\n",
       "      <td>PoW</td>\n",
       "      <td>1.792718e+07</td>\n",
       "      <td>21000000</td>\n",
       "    </tr>\n",
       "    <tr>\n",
       "      <th>ETH</th>\n",
       "      <td>Ethash</td>\n",
       "      <td>PoW</td>\n",
       "      <td>1.076842e+08</td>\n",
       "      <td>0</td>\n",
       "    </tr>\n",
       "    <tr>\n",
       "      <th>...</th>\n",
       "      <td>...</td>\n",
       "      <td>...</td>\n",
       "      <td>...</td>\n",
       "      <td>...</td>\n",
       "    </tr>\n",
       "    <tr>\n",
       "      <th>ZEPH</th>\n",
       "      <td>SHA-256</td>\n",
       "      <td>DPoS</td>\n",
       "      <td>2.000000e+09</td>\n",
       "      <td>2000000000</td>\n",
       "    </tr>\n",
       "    <tr>\n",
       "      <th>GAP</th>\n",
       "      <td>Scrypt</td>\n",
       "      <td>PoW/PoS</td>\n",
       "      <td>1.493105e+07</td>\n",
       "      <td>250000000</td>\n",
       "    </tr>\n",
       "    <tr>\n",
       "      <th>BDX</th>\n",
       "      <td>CryptoNight</td>\n",
       "      <td>PoW</td>\n",
       "      <td>9.802226e+08</td>\n",
       "      <td>1400222610</td>\n",
       "    </tr>\n",
       "    <tr>\n",
       "      <th>ZEN</th>\n",
       "      <td>Equihash</td>\n",
       "      <td>PoW</td>\n",
       "      <td>7.296538e+06</td>\n",
       "      <td>21000000</td>\n",
       "    </tr>\n",
       "    <tr>\n",
       "      <th>XBC</th>\n",
       "      <td>Scrypt</td>\n",
       "      <td>PoS</td>\n",
       "      <td>1.283270e+05</td>\n",
       "      <td>1000000</td>\n",
       "    </tr>\n",
       "  </tbody>\n",
       "</table>\n",
       "<p>532 rows × 4 columns</p>\n",
       "</div>"
      ],
      "text/plain": [
       "        Algorithm ProofType  TotalCoinsMined TotalCoinSupply\n",
       "                                                            \n",
       "42         Scrypt   PoW/PoS     4.199995e+01              42\n",
       "404        Scrypt   PoW/PoS     1.055185e+09       532000000\n",
       "1337          X13   PoW/PoS     2.927942e+10    314159265359\n",
       "BTC       SHA-256       PoW     1.792718e+07        21000000\n",
       "ETH        Ethash       PoW     1.076842e+08               0\n",
       "...           ...       ...              ...             ...\n",
       "ZEPH      SHA-256      DPoS     2.000000e+09      2000000000\n",
       "GAP        Scrypt   PoW/PoS     1.493105e+07       250000000\n",
       "BDX   CryptoNight       PoW     9.802226e+08      1400222610\n",
       "ZEN      Equihash       PoW     7.296538e+06        21000000\n",
       "XBC        Scrypt       PoS     1.283270e+05         1000000\n",
       "\n",
       "[532 rows x 4 columns]"
      ]
     },
     "execution_count": 42,
     "metadata": {},
     "output_type": "execute_result"
    }
   ],
   "source": [
    "# Drop the 'CoinName' column since it's not going to be used on the clustering algorithm.\r\n",
    "crypto_clustering_df = clean_crypto_df.drop(columns='CoinName')\r\n",
    "crypto_clustering_df"
   ]
  },
  {
   "cell_type": "code",
   "execution_count": 61,
   "metadata": {},
   "outputs": [
    {
     "data": {
      "text/html": [
       "<div>\n",
       "<style scoped>\n",
       "    .dataframe tbody tr th:only-of-type {\n",
       "        vertical-align: middle;\n",
       "    }\n",
       "\n",
       "    .dataframe tbody tr th {\n",
       "        vertical-align: top;\n",
       "    }\n",
       "\n",
       "    .dataframe thead th {\n",
       "        text-align: right;\n",
       "    }\n",
       "</style>\n",
       "<table border=\"1\" class=\"dataframe\">\n",
       "  <thead>\n",
       "    <tr style=\"text-align: right;\">\n",
       "      <th></th>\n",
       "      <th>TotalCoinsMined</th>\n",
       "      <th>TotalCoinSupply</th>\n",
       "      <th>Algorithm_536</th>\n",
       "      <th>Algorithm_Argon2d</th>\n",
       "      <th>Algorithm_BLAKE256</th>\n",
       "      <th>Algorithm_Blake</th>\n",
       "      <th>Algorithm_Blake2S</th>\n",
       "      <th>Algorithm_Blake2b</th>\n",
       "      <th>Algorithm_C11</th>\n",
       "      <th>Algorithm_Cloverhash</th>\n",
       "      <th>...</th>\n",
       "      <th>ProofType_PoW/PoS</th>\n",
       "      <th>ProofType_PoW/PoS</th>\n",
       "      <th>ProofType_PoW/PoW</th>\n",
       "      <th>ProofType_PoW/nPoS</th>\n",
       "      <th>ProofType_Pos</th>\n",
       "      <th>ProofType_Proof of Authority</th>\n",
       "      <th>ProofType_Proof of Trust</th>\n",
       "      <th>ProofType_TPoS</th>\n",
       "      <th>ProofType_Zero-Knowledge Proof</th>\n",
       "      <th>ProofType_dPoW/PoW</th>\n",
       "    </tr>\n",
       "    <tr>\n",
       "      <th></th>\n",
       "      <th></th>\n",
       "      <th></th>\n",
       "      <th></th>\n",
       "      <th></th>\n",
       "      <th></th>\n",
       "      <th></th>\n",
       "      <th></th>\n",
       "      <th></th>\n",
       "      <th></th>\n",
       "      <th></th>\n",
       "      <th></th>\n",
       "      <th></th>\n",
       "      <th></th>\n",
       "      <th></th>\n",
       "      <th></th>\n",
       "      <th></th>\n",
       "      <th></th>\n",
       "      <th></th>\n",
       "      <th></th>\n",
       "      <th></th>\n",
       "      <th></th>\n",
       "    </tr>\n",
       "  </thead>\n",
       "  <tbody>\n",
       "    <tr>\n",
       "      <th>42</th>\n",
       "      <td>4.199995e+01</td>\n",
       "      <td>42</td>\n",
       "      <td>0</td>\n",
       "      <td>0</td>\n",
       "      <td>0</td>\n",
       "      <td>0</td>\n",
       "      <td>0</td>\n",
       "      <td>0</td>\n",
       "      <td>0</td>\n",
       "      <td>0</td>\n",
       "      <td>...</td>\n",
       "      <td>1</td>\n",
       "      <td>0</td>\n",
       "      <td>0</td>\n",
       "      <td>0</td>\n",
       "      <td>0</td>\n",
       "      <td>0</td>\n",
       "      <td>0</td>\n",
       "      <td>0</td>\n",
       "      <td>0</td>\n",
       "      <td>0</td>\n",
       "    </tr>\n",
       "    <tr>\n",
       "      <th>404</th>\n",
       "      <td>1.055185e+09</td>\n",
       "      <td>532000000</td>\n",
       "      <td>0</td>\n",
       "      <td>0</td>\n",
       "      <td>0</td>\n",
       "      <td>0</td>\n",
       "      <td>0</td>\n",
       "      <td>0</td>\n",
       "      <td>0</td>\n",
       "      <td>0</td>\n",
       "      <td>...</td>\n",
       "      <td>1</td>\n",
       "      <td>0</td>\n",
       "      <td>0</td>\n",
       "      <td>0</td>\n",
       "      <td>0</td>\n",
       "      <td>0</td>\n",
       "      <td>0</td>\n",
       "      <td>0</td>\n",
       "      <td>0</td>\n",
       "      <td>0</td>\n",
       "    </tr>\n",
       "    <tr>\n",
       "      <th>1337</th>\n",
       "      <td>2.927942e+10</td>\n",
       "      <td>314159265359</td>\n",
       "      <td>0</td>\n",
       "      <td>0</td>\n",
       "      <td>0</td>\n",
       "      <td>0</td>\n",
       "      <td>0</td>\n",
       "      <td>0</td>\n",
       "      <td>0</td>\n",
       "      <td>0</td>\n",
       "      <td>...</td>\n",
       "      <td>1</td>\n",
       "      <td>0</td>\n",
       "      <td>0</td>\n",
       "      <td>0</td>\n",
       "      <td>0</td>\n",
       "      <td>0</td>\n",
       "      <td>0</td>\n",
       "      <td>0</td>\n",
       "      <td>0</td>\n",
       "      <td>0</td>\n",
       "    </tr>\n",
       "    <tr>\n",
       "      <th>BTC</th>\n",
       "      <td>1.792718e+07</td>\n",
       "      <td>21000000</td>\n",
       "      <td>0</td>\n",
       "      <td>0</td>\n",
       "      <td>0</td>\n",
       "      <td>0</td>\n",
       "      <td>0</td>\n",
       "      <td>0</td>\n",
       "      <td>0</td>\n",
       "      <td>0</td>\n",
       "      <td>...</td>\n",
       "      <td>0</td>\n",
       "      <td>0</td>\n",
       "      <td>0</td>\n",
       "      <td>0</td>\n",
       "      <td>0</td>\n",
       "      <td>0</td>\n",
       "      <td>0</td>\n",
       "      <td>0</td>\n",
       "      <td>0</td>\n",
       "      <td>0</td>\n",
       "    </tr>\n",
       "    <tr>\n",
       "      <th>ETH</th>\n",
       "      <td>1.076842e+08</td>\n",
       "      <td>0</td>\n",
       "      <td>0</td>\n",
       "      <td>0</td>\n",
       "      <td>0</td>\n",
       "      <td>0</td>\n",
       "      <td>0</td>\n",
       "      <td>0</td>\n",
       "      <td>0</td>\n",
       "      <td>0</td>\n",
       "      <td>...</td>\n",
       "      <td>0</td>\n",
       "      <td>0</td>\n",
       "      <td>0</td>\n",
       "      <td>0</td>\n",
       "      <td>0</td>\n",
       "      <td>0</td>\n",
       "      <td>0</td>\n",
       "      <td>0</td>\n",
       "      <td>0</td>\n",
       "      <td>0</td>\n",
       "    </tr>\n",
       "    <tr>\n",
       "      <th>...</th>\n",
       "      <td>...</td>\n",
       "      <td>...</td>\n",
       "      <td>...</td>\n",
       "      <td>...</td>\n",
       "      <td>...</td>\n",
       "      <td>...</td>\n",
       "      <td>...</td>\n",
       "      <td>...</td>\n",
       "      <td>...</td>\n",
       "      <td>...</td>\n",
       "      <td>...</td>\n",
       "      <td>...</td>\n",
       "      <td>...</td>\n",
       "      <td>...</td>\n",
       "      <td>...</td>\n",
       "      <td>...</td>\n",
       "      <td>...</td>\n",
       "      <td>...</td>\n",
       "      <td>...</td>\n",
       "      <td>...</td>\n",
       "      <td>...</td>\n",
       "    </tr>\n",
       "    <tr>\n",
       "      <th>ZEPH</th>\n",
       "      <td>2.000000e+09</td>\n",
       "      <td>2000000000</td>\n",
       "      <td>0</td>\n",
       "      <td>0</td>\n",
       "      <td>0</td>\n",
       "      <td>0</td>\n",
       "      <td>0</td>\n",
       "      <td>0</td>\n",
       "      <td>0</td>\n",
       "      <td>0</td>\n",
       "      <td>...</td>\n",
       "      <td>0</td>\n",
       "      <td>0</td>\n",
       "      <td>0</td>\n",
       "      <td>0</td>\n",
       "      <td>0</td>\n",
       "      <td>0</td>\n",
       "      <td>0</td>\n",
       "      <td>0</td>\n",
       "      <td>0</td>\n",
       "      <td>0</td>\n",
       "    </tr>\n",
       "    <tr>\n",
       "      <th>GAP</th>\n",
       "      <td>1.493105e+07</td>\n",
       "      <td>250000000</td>\n",
       "      <td>0</td>\n",
       "      <td>0</td>\n",
       "      <td>0</td>\n",
       "      <td>0</td>\n",
       "      <td>0</td>\n",
       "      <td>0</td>\n",
       "      <td>0</td>\n",
       "      <td>0</td>\n",
       "      <td>...</td>\n",
       "      <td>1</td>\n",
       "      <td>0</td>\n",
       "      <td>0</td>\n",
       "      <td>0</td>\n",
       "      <td>0</td>\n",
       "      <td>0</td>\n",
       "      <td>0</td>\n",
       "      <td>0</td>\n",
       "      <td>0</td>\n",
       "      <td>0</td>\n",
       "    </tr>\n",
       "    <tr>\n",
       "      <th>BDX</th>\n",
       "      <td>9.802226e+08</td>\n",
       "      <td>1400222610</td>\n",
       "      <td>0</td>\n",
       "      <td>0</td>\n",
       "      <td>0</td>\n",
       "      <td>0</td>\n",
       "      <td>0</td>\n",
       "      <td>0</td>\n",
       "      <td>0</td>\n",
       "      <td>0</td>\n",
       "      <td>...</td>\n",
       "      <td>0</td>\n",
       "      <td>0</td>\n",
       "      <td>0</td>\n",
       "      <td>0</td>\n",
       "      <td>0</td>\n",
       "      <td>0</td>\n",
       "      <td>0</td>\n",
       "      <td>0</td>\n",
       "      <td>0</td>\n",
       "      <td>0</td>\n",
       "    </tr>\n",
       "    <tr>\n",
       "      <th>ZEN</th>\n",
       "      <td>7.296538e+06</td>\n",
       "      <td>21000000</td>\n",
       "      <td>0</td>\n",
       "      <td>0</td>\n",
       "      <td>0</td>\n",
       "      <td>0</td>\n",
       "      <td>0</td>\n",
       "      <td>0</td>\n",
       "      <td>0</td>\n",
       "      <td>0</td>\n",
       "      <td>...</td>\n",
       "      <td>0</td>\n",
       "      <td>0</td>\n",
       "      <td>0</td>\n",
       "      <td>0</td>\n",
       "      <td>0</td>\n",
       "      <td>0</td>\n",
       "      <td>0</td>\n",
       "      <td>0</td>\n",
       "      <td>0</td>\n",
       "      <td>0</td>\n",
       "    </tr>\n",
       "    <tr>\n",
       "      <th>XBC</th>\n",
       "      <td>1.283270e+05</td>\n",
       "      <td>1000000</td>\n",
       "      <td>0</td>\n",
       "      <td>0</td>\n",
       "      <td>0</td>\n",
       "      <td>0</td>\n",
       "      <td>0</td>\n",
       "      <td>0</td>\n",
       "      <td>0</td>\n",
       "      <td>0</td>\n",
       "      <td>...</td>\n",
       "      <td>0</td>\n",
       "      <td>0</td>\n",
       "      <td>0</td>\n",
       "      <td>0</td>\n",
       "      <td>0</td>\n",
       "      <td>0</td>\n",
       "      <td>0</td>\n",
       "      <td>0</td>\n",
       "      <td>0</td>\n",
       "      <td>0</td>\n",
       "    </tr>\n",
       "  </tbody>\n",
       "</table>\n",
       "<p>532 rows × 96 columns</p>\n",
       "</div>"
      ],
      "text/plain": [
       "      TotalCoinsMined TotalCoinSupply  Algorithm_536  Algorithm_Argon2d  \\\n",
       "                                                                          \n",
       "42       4.199995e+01              42              0                  0   \n",
       "404      1.055185e+09       532000000              0                  0   \n",
       "1337     2.927942e+10    314159265359              0                  0   \n",
       "BTC      1.792718e+07        21000000              0                  0   \n",
       "ETH      1.076842e+08               0              0                  0   \n",
       "...               ...             ...            ...                ...   \n",
       "ZEPH     2.000000e+09      2000000000              0                  0   \n",
       "GAP      1.493105e+07       250000000              0                  0   \n",
       "BDX      9.802226e+08      1400222610              0                  0   \n",
       "ZEN      7.296538e+06        21000000              0                  0   \n",
       "XBC      1.283270e+05         1000000              0                  0   \n",
       "\n",
       "      Algorithm_BLAKE256  Algorithm_Blake  Algorithm_Blake2S  \\\n",
       "                                                               \n",
       "42                     0                0                  0   \n",
       "404                    0                0                  0   \n",
       "1337                   0                0                  0   \n",
       "BTC                    0                0                  0   \n",
       "ETH                    0                0                  0   \n",
       "...                  ...              ...                ...   \n",
       "ZEPH                   0                0                  0   \n",
       "GAP                    0                0                  0   \n",
       "BDX                    0                0                  0   \n",
       "ZEN                    0                0                  0   \n",
       "XBC                    0                0                  0   \n",
       "\n",
       "      Algorithm_Blake2b  Algorithm_C11  Algorithm_Cloverhash  ...  \\\n",
       "                                                              ...   \n",
       "42                    0              0                     0  ...   \n",
       "404                   0              0                     0  ...   \n",
       "1337                  0              0                     0  ...   \n",
       "BTC                   0              0                     0  ...   \n",
       "ETH                   0              0                     0  ...   \n",
       "...                 ...            ...                   ...  ...   \n",
       "ZEPH                  0              0                     0  ...   \n",
       "GAP                   0              0                     0  ...   \n",
       "BDX                   0              0                     0  ...   \n",
       "ZEN                   0              0                     0  ...   \n",
       "XBC                   0              0                     0  ...   \n",
       "\n",
       "      ProofType_PoW/PoS  ProofType_PoW/PoS   ProofType_PoW/PoW  \\\n",
       "                                                                 \n",
       "42                    1                   0                  0   \n",
       "404                   1                   0                  0   \n",
       "1337                  1                   0                  0   \n",
       "BTC                   0                   0                  0   \n",
       "ETH                   0                   0                  0   \n",
       "...                 ...                 ...                ...   \n",
       "ZEPH                  0                   0                  0   \n",
       "GAP                   1                   0                  0   \n",
       "BDX                   0                   0                  0   \n",
       "ZEN                   0                   0                  0   \n",
       "XBC                   0                   0                  0   \n",
       "\n",
       "      ProofType_PoW/nPoS  ProofType_Pos  ProofType_Proof of Authority  \\\n",
       "                                                                        \n",
       "42                     0              0                             0   \n",
       "404                    0              0                             0   \n",
       "1337                   0              0                             0   \n",
       "BTC                    0              0                             0   \n",
       "ETH                    0              0                             0   \n",
       "...                  ...            ...                           ...   \n",
       "ZEPH                   0              0                             0   \n",
       "GAP                    0              0                             0   \n",
       "BDX                    0              0                             0   \n",
       "ZEN                    0              0                             0   \n",
       "XBC                    0              0                             0   \n",
       "\n",
       "      ProofType_Proof of Trust  ProofType_TPoS  \\\n",
       "                                                 \n",
       "42                           0               0   \n",
       "404                          0               0   \n",
       "1337                         0               0   \n",
       "BTC                          0               0   \n",
       "ETH                          0               0   \n",
       "...                        ...             ...   \n",
       "ZEPH                         0               0   \n",
       "GAP                          0               0   \n",
       "BDX                          0               0   \n",
       "ZEN                          0               0   \n",
       "XBC                          0               0   \n",
       "\n",
       "      ProofType_Zero-Knowledge Proof  ProofType_dPoW/PoW  \n",
       "                                                          \n",
       "42                                 0                   0  \n",
       "404                                0                   0  \n",
       "1337                               0                   0  \n",
       "BTC                                0                   0  \n",
       "ETH                                0                   0  \n",
       "...                              ...                 ...  \n",
       "ZEPH                               0                   0  \n",
       "GAP                                0                   0  \n",
       "BDX                                0                   0  \n",
       "ZEN                                0                   0  \n",
       "XBC                                0                   0  \n",
       "\n",
       "[532 rows x 96 columns]"
      ]
     },
     "execution_count": 61,
     "metadata": {},
     "output_type": "execute_result"
    }
   ],
   "source": [
    "# Use get_dummies() to create variables for text features, using SparseArray = True for memory efficiency\r\n",
    "X = pd.get_dummies(crypto_clustering_df, sparse= True, columns=['Algorithm', 'ProofType'], drop_first = True)\r\n",
    "X"
   ]
  },
  {
   "cell_type": "code",
   "execution_count": 62,
   "metadata": {},
   "outputs": [
    {
     "name": "stderr",
     "output_type": "stream",
     "text": [
      "C:\\Users\\findt\\anaconda3\\envs\\mlenv\\lib\\site-packages\\sklearn\\utils\\validation.py:515: UserWarning:\n",
      "\n",
      "pandas.DataFrame with sparse columns found.It will be converted to a dense numpy array.\n",
      "\n",
      "C:\\Users\\findt\\anaconda3\\envs\\mlenv\\lib\\site-packages\\sklearn\\utils\\validation.py:515: UserWarning:\n",
      "\n",
      "pandas.DataFrame with sparse columns found.It will be converted to a dense numpy array.\n",
      "\n"
     ]
    },
    {
     "data": {
      "text/plain": [
       "array([[-0.11710817, -0.1528703 , -0.0433963 , ..., -0.0433963 ,\n",
       "        -0.0433963 , -0.0433963 ],\n",
       "       [-0.09396955, -0.145009  , -0.0433963 , ..., -0.0433963 ,\n",
       "        -0.0433963 , -0.0433963 ],\n",
       "       [ 0.52494561,  4.48942416, -0.0433963 , ..., -0.0433963 ,\n",
       "        -0.0433963 , -0.0433963 ],\n",
       "       ...,\n",
       "       [-0.09561336, -0.13217937, -0.0433963 , ..., -0.0433963 ,\n",
       "        -0.0433963 , -0.0433963 ],\n",
       "       [-0.11694817, -0.15255998, -0.0433963 , ..., -0.0433963 ,\n",
       "        -0.0433963 , -0.0433963 ],\n",
       "       [-0.11710536, -0.15285552, -0.0433963 , ..., -0.0433963 ,\n",
       "        -0.0433963 , -0.0433963 ]])"
      ]
     },
     "execution_count": 62,
     "metadata": {},
     "output_type": "execute_result"
    }
   ],
   "source": [
    "# Standardize the data with StandardScaler().\r\n",
    "X_scaled = StandardScaler().fit_transform(X)\r\n",
    "X_scaled"
   ]
  },
  {
   "cell_type": "markdown",
   "metadata": {},
   "source": [
    "### Deliverable 2: Reducing Data Dimensions Using PCA"
   ]
  },
  {
   "cell_type": "code",
   "execution_count": 63,
   "metadata": {},
   "outputs": [],
   "source": [
    "# Using PCA to reduce dimension to three principal components.\r\n",
    "pca = PCA(n_components=3)\r\n",
    "X_pca = pca.fit_transform(X_scaled)\r\n"
   ]
  },
  {
   "cell_type": "code",
   "execution_count": 64,
   "metadata": {},
   "outputs": [
    {
     "data": {
      "text/html": [
       "<div>\n",
       "<style scoped>\n",
       "    .dataframe tbody tr th:only-of-type {\n",
       "        vertical-align: middle;\n",
       "    }\n",
       "\n",
       "    .dataframe tbody tr th {\n",
       "        vertical-align: top;\n",
       "    }\n",
       "\n",
       "    .dataframe thead th {\n",
       "        text-align: right;\n",
       "    }\n",
       "</style>\n",
       "<table border=\"1\" class=\"dataframe\">\n",
       "  <thead>\n",
       "    <tr style=\"text-align: right;\">\n",
       "      <th></th>\n",
       "      <th>PC_1</th>\n",
       "      <th>PC_2</th>\n",
       "      <th>PC_3</th>\n",
       "    </tr>\n",
       "    <tr>\n",
       "      <th></th>\n",
       "      <th></th>\n",
       "      <th></th>\n",
       "      <th></th>\n",
       "    </tr>\n",
       "  </thead>\n",
       "  <tbody>\n",
       "    <tr>\n",
       "      <th>42</th>\n",
       "      <td>-0.342809</td>\n",
       "      <td>0.980233</td>\n",
       "      <td>-0.467273</td>\n",
       "    </tr>\n",
       "    <tr>\n",
       "      <th>404</th>\n",
       "      <td>-0.326138</td>\n",
       "      <td>0.980434</td>\n",
       "      <td>-0.467819</td>\n",
       "    </tr>\n",
       "    <tr>\n",
       "      <th>1337</th>\n",
       "      <td>2.309896</td>\n",
       "      <td>1.692079</td>\n",
       "      <td>-0.594735</td>\n",
       "    </tr>\n",
       "    <tr>\n",
       "      <th>BTC</th>\n",
       "      <td>-0.140079</td>\n",
       "      <td>-1.310683</td>\n",
       "      <td>0.167199</td>\n",
       "    </tr>\n",
       "    <tr>\n",
       "      <th>ETH</th>\n",
       "      <td>-0.143682</td>\n",
       "      <td>-2.055868</td>\n",
       "      <td>0.271050</td>\n",
       "    </tr>\n",
       "  </tbody>\n",
       "</table>\n",
       "</div>"
      ],
      "text/plain": [
       "          PC_1      PC_2      PC_3\n",
       "                                  \n",
       "42   -0.342809  0.980233 -0.467273\n",
       "404  -0.326138  0.980434 -0.467819\n",
       "1337  2.309896  1.692079 -0.594735\n",
       "BTC  -0.140079 -1.310683  0.167199\n",
       "ETH  -0.143682 -2.055868  0.271050"
      ]
     },
     "execution_count": 64,
     "metadata": {},
     "output_type": "execute_result"
    }
   ],
   "source": [
    "# Create a DataFrame with the three principal components.\r\n",
    "crypto_pcs_df = pd.DataFrame(data=X_pca, columns=['PC_1', 'PC_2', 'PC_3']).set_index(X.index, drop=False)\r\n",
    "\r\n",
    "crypto_pcs_df.head()"
   ]
  },
  {
   "cell_type": "markdown",
   "metadata": {},
   "source": [
    "### Deliverable 3: Clustering Crytocurrencies Using K-Means\n",
    "\n",
    "#### Finding the Best Value for `k` Using the Elbow Curve"
   ]
  },
  {
   "cell_type": "code",
   "execution_count": 65,
   "metadata": {},
   "outputs": [
    {
     "name": "stderr",
     "output_type": "stream",
     "text": [
      "C:\\Users\\findt\\anaconda3\\envs\\mlenv\\lib\\site-packages\\sklearn\\cluster\\_kmeans.py:881: UserWarning:\n",
      "\n",
      "KMeans is known to have a memory leak on Windows with MKL, when there are less chunks than available threads. You can avoid it by setting the environment variable OMP_NUM_THREADS=3.\n",
      "\n"
     ]
    },
    {
     "data": {},
     "metadata": {},
     "output_type": "display_data"
    },
    {
     "data": {
      "application/vnd.holoviews_exec.v0+json": "",
      "text/html": [
       "<div id='2496'>\n",
       "\n",
       "\n",
       "\n",
       "\n",
       "\n",
       "  <div class=\"bk-root\" id=\"3d8ccd19-5f9b-496c-925f-262eb4a617c6\" data-root-id=\"2496\"></div>\n",
       "</div>\n",
       "<script type=\"application/javascript\">(function(root) {\n",
       "  function embed_document(root) {\n",
       "    var docs_json = {\"57e06360-e3f4-4c49-af3b-6ee7ca3886c4\":{\"defs\":[],\"roots\":{\"references\":[{\"attributes\":{\"children\":[{\"id\":\"2497\"},{\"id\":\"2501\"},{\"id\":\"2567\"}],\"margin\":[0,0,0,0],\"name\":\"Row05022\",\"tags\":[\"embedded\"]},\"id\":\"2496\",\"type\":\"Row\"},{\"attributes\":{},\"id\":\"2522\",\"type\":\"ResetTool\"},{\"attributes\":{\"active_multi\":null,\"tools\":[{\"id\":\"2500\"},{\"id\":\"2518\"},{\"id\":\"2519\"},{\"id\":\"2520\"},{\"id\":\"2521\"},{\"id\":\"2522\"}]},\"id\":\"2524\",\"type\":\"Toolbar\"},{\"attributes\":{\"bottom_units\":\"screen\",\"fill_alpha\":0.5,\"fill_color\":\"lightgrey\",\"left_units\":\"screen\",\"level\":\"overlay\",\"line_alpha\":1.0,\"line_color\":\"black\",\"line_dash\":[4,4],\"line_width\":2,\"right_units\":\"screen\",\"syncable\":false,\"top_units\":\"screen\"},\"id\":\"2523\",\"type\":\"BoxAnnotation\"},{\"attributes\":{\"data_source\":{\"id\":\"2531\"},\"glyph\":{\"id\":\"2534\"},\"hover_glyph\":null,\"muted_glyph\":{\"id\":\"2536\"},\"nonselection_glyph\":{\"id\":\"2535\"},\"selection_glyph\":{\"id\":\"2539\"},\"view\":{\"id\":\"2538\"}},\"id\":\"2537\",\"type\":\"GlyphRenderer\"},{\"attributes\":{\"source\":{\"id\":\"2531\"}},\"id\":\"2538\",\"type\":\"CDSView\"},{\"attributes\":{},\"id\":\"2541\",\"type\":\"BasicTickFormatter\"},{\"attributes\":{\"ticks\":[1,2,3,4,5,6,7,8,9,10]},\"id\":\"2540\",\"type\":\"FixedTicker\"},{\"attributes\":{\"line_color\":\"#30a2da\",\"line_width\":2,\"x\":{\"field\":\"k\"},\"y\":{\"field\":\"inertia\"}},\"id\":\"2539\",\"type\":\"Line\"},{\"attributes\":{},\"id\":\"2543\",\"type\":\"AllLabels\"},{\"attributes\":{\"line_alpha\":0.2,\"line_color\":\"#30a2da\",\"line_width\":2,\"x\":{\"field\":\"k\"},\"y\":{\"field\":\"inertia\"}},\"id\":\"2536\",\"type\":\"Line\"},{\"attributes\":{},\"id\":\"2519\",\"type\":\"PanTool\"},{\"attributes\":{\"margin\":[5,5,5,5],\"name\":\"HSpacer05026\",\"sizing_mode\":\"stretch_width\"},\"id\":\"2497\",\"type\":\"Spacer\"},{\"attributes\":{\"margin\":[5,5,5,5],\"name\":\"HSpacer05027\",\"sizing_mode\":\"stretch_width\"},\"id\":\"2567\",\"type\":\"Spacer\"},{\"attributes\":{},\"id\":\"2555\",\"type\":\"UnionRenderers\"},{\"attributes\":{\"overlay\":{\"id\":\"2523\"}},\"id\":\"2521\",\"type\":\"BoxZoomTool\"},{\"attributes\":{},\"id\":\"2520\",\"type\":\"WheelZoomTool\"},{\"attributes\":{\"below\":[{\"id\":\"2510\"}],\"center\":[{\"id\":\"2513\"},{\"id\":\"2517\"}],\"height\":300,\"left\":[{\"id\":\"2514\"}],\"margin\":[5,5,5,5],\"min_border_bottom\":10,\"min_border_left\":10,\"min_border_right\":10,\"min_border_top\":10,\"renderers\":[{\"id\":\"2537\"}],\"sizing_mode\":\"fixed\",\"title\":{\"id\":\"2502\"},\"toolbar\":{\"id\":\"2524\"},\"width\":700,\"x_range\":{\"id\":\"2498\"},\"x_scale\":{\"id\":\"2506\"},\"y_range\":{\"id\":\"2499\"},\"y_scale\":{\"id\":\"2508\"}},\"id\":\"2501\",\"subtype\":\"Figure\",\"type\":\"Plot\"},{\"attributes\":{},\"id\":\"2532\",\"type\":\"Selection\"},{\"attributes\":{\"line_color\":\"#30a2da\",\"line_width\":2,\"x\":{\"field\":\"k\"},\"y\":{\"field\":\"inertia\"}},\"id\":\"2534\",\"type\":\"Line\"},{\"attributes\":{},\"id\":\"2548\",\"type\":\"AllLabels\"},{\"attributes\":{\"end\":3992.596589852058,\"reset_end\":3992.596589852058,\"reset_start\":-262.48120537296836,\"start\":-262.48120537296836,\"tags\":[[[\"inertia\",\"inertia\",null]]]},\"id\":\"2499\",\"type\":\"Range1d\"},{\"attributes\":{\"axis_label\":\"k\",\"formatter\":{\"id\":\"2541\"},\"major_label_policy\":{\"id\":\"2543\"},\"ticker\":{\"id\":\"2540\"}},\"id\":\"2510\",\"type\":\"LinearAxis\"},{\"attributes\":{\"data\":{\"inertia\":{\"__ndarray__\":\"jb3TdwNsrEBwsGLbJ0ujQCu17lN4JpdA1MUUYUk7gEDro9jPhb51QIS4rm66s29A0E+7c+JVaECeoVc9nepiQDeiAkjuwF1AYlgde/MGV0A=\",\"dtype\":\"float64\",\"order\":\"little\",\"shape\":[10]},\"k\":[1,2,3,4,5,6,7,8,9,10]},\"selected\":{\"id\":\"2532\"},\"selection_policy\":{\"id\":\"2555\"}},\"id\":\"2531\",\"type\":\"ColumnDataSource\"},{\"attributes\":{\"callback\":null,\"renderers\":[{\"id\":\"2537\"}],\"tags\":[\"hv_created\"],\"tooltips\":[[\"k\",\"@{k}\"],[\"inertia\",\"@{inertia}\"]]},\"id\":\"2500\",\"type\":\"HoverTool\"},{\"attributes\":{},\"id\":\"2546\",\"type\":\"BasicTickFormatter\"},{\"attributes\":{\"axis\":{\"id\":\"2514\"},\"dimension\":1,\"grid_line_color\":null,\"ticker\":null},\"id\":\"2517\",\"type\":\"Grid\"},{\"attributes\":{\"axis\":{\"id\":\"2510\"},\"grid_line_color\":null,\"ticker\":null},\"id\":\"2513\",\"type\":\"Grid\"},{\"attributes\":{},\"id\":\"2518\",\"type\":\"SaveTool\"},{\"attributes\":{},\"id\":\"2508\",\"type\":\"LinearScale\"},{\"attributes\":{},\"id\":\"2506\",\"type\":\"LinearScale\"},{\"attributes\":{\"line_alpha\":0.1,\"line_color\":\"#30a2da\",\"line_width\":2,\"x\":{\"field\":\"k\"},\"y\":{\"field\":\"inertia\"}},\"id\":\"2535\",\"type\":\"Line\"},{\"attributes\":{\"text\":\"Crypto Elbow Curve\",\"text_color\":\"black\",\"text_font_size\":\"12pt\"},\"id\":\"2502\",\"type\":\"Title\"},{\"attributes\":{\"axis_label\":\"inertia\",\"formatter\":{\"id\":\"2546\"},\"major_label_policy\":{\"id\":\"2548\"},\"ticker\":{\"id\":\"2515\"}},\"id\":\"2514\",\"type\":\"LinearAxis\"},{\"attributes\":{\"end\":10.0,\"reset_end\":10.0,\"reset_start\":1.0,\"start\":1.0,\"tags\":[[[\"k\",\"k\",null]]]},\"id\":\"2498\",\"type\":\"Range1d\"},{\"attributes\":{},\"id\":\"2515\",\"type\":\"BasicTicker\"}],\"root_ids\":[\"2496\"]},\"title\":\"Bokeh Application\",\"version\":\"2.3.2\"}};\n",
       "    var render_items = [{\"docid\":\"57e06360-e3f4-4c49-af3b-6ee7ca3886c4\",\"root_ids\":[\"2496\"],\"roots\":{\"2496\":\"3d8ccd19-5f9b-496c-925f-262eb4a617c6\"}}];\n",
       "    root.Bokeh.embed.embed_items_notebook(docs_json, render_items);\n",
       "  }\n",
       "  if (root.Bokeh !== undefined && root.Bokeh.Panel !== undefined) {\n",
       "    embed_document(root);\n",
       "  } else {\n",
       "    var attempts = 0;\n",
       "    var timer = setInterval(function(root) {\n",
       "      if (root.Bokeh !== undefined && root.Bokeh.Panel !== undefined) {\n",
       "        clearInterval(timer);\n",
       "        embed_document(root);\n",
       "      } else if (document.readyState == \"complete\") {\n",
       "        attempts++;\n",
       "        if (attempts > 100) {\n",
       "          clearInterval(timer);\n",
       "          console.log(\"Bokeh: ERROR: Unable to run BokehJS code because BokehJS library is missing\");\n",
       "        }\n",
       "      }\n",
       "    }, 10, root)\n",
       "  }\n",
       "})(window);</script>"
      ],
      "text/plain": [
       ":Curve   [k]   (inertia)"
      ]
     },
     "execution_count": 65,
     "metadata": {
      "application/vnd.holoviews_exec.v0+json": {
       "id": "2496"
      }
     },
     "output_type": "execute_result"
    }
   ],
   "source": [
    "# Create an elbow curve to find the best value for K.\r\n",
    "inertia = []\r\n",
    "k = list(range(1, 11))\r\n",
    "\r\n",
    "for i in k:\r\n",
    "    km = KMeans(n_clusters=i, random_state=0)\r\n",
    "    km.fit(crypto_pcs_df)\r\n",
    "    inertia.append(km.inertia_)\r\n",
    "    \r\n",
    "elbow_data = {'k':k, 'inertia':inertia}\r\n",
    "crypto_df_elbow = pd.DataFrame(elbow_data)\r\n",
    "crypto_df_elbow.hvplot.line(x='k', y='inertia', xticks=k, title= 'Crypto Elbow Curve')\r\n"
   ]
  },
  {
   "cell_type": "markdown",
   "metadata": {},
   "source": [
    "Running K-Means with `k=4`"
   ]
  },
  {
   "cell_type": "code",
   "execution_count": 66,
   "metadata": {},
   "outputs": [],
   "source": [
    "# Initialize the K-Means model.\r\n",
    "model = KMeans(n_clusters=5, random_state=0)\r\n",
    "\r\n",
    "# Fit the model\r\n",
    "model.fit(crypto_pcs_df)\r\n",
    "\r\n",
    "# Predict clusters\r\n",
    "predictions = model.predict(crypto_pcs_df)"
   ]
  },
  {
   "cell_type": "code",
   "execution_count": 67,
   "metadata": {},
   "outputs": [
    {
     "name": "stdout",
     "output_type": "stream",
     "text": [
      "(532, 9)\n"
     ]
    },
    {
     "data": {
      "text/html": [
       "<div>\n",
       "<style scoped>\n",
       "    .dataframe tbody tr th:only-of-type {\n",
       "        vertical-align: middle;\n",
       "    }\n",
       "\n",
       "    .dataframe tbody tr th {\n",
       "        vertical-align: top;\n",
       "    }\n",
       "\n",
       "    .dataframe thead th {\n",
       "        text-align: right;\n",
       "    }\n",
       "</style>\n",
       "<table border=\"1\" class=\"dataframe\">\n",
       "  <thead>\n",
       "    <tr style=\"text-align: right;\">\n",
       "      <th></th>\n",
       "      <th>Algorithm</th>\n",
       "      <th>ProofType</th>\n",
       "      <th>TotalCoinsMined</th>\n",
       "      <th>TotalCoinSupply</th>\n",
       "      <th>PC_1</th>\n",
       "      <th>PC_2</th>\n",
       "      <th>PC_3</th>\n",
       "      <th>CoinName</th>\n",
       "      <th>Class</th>\n",
       "    </tr>\n",
       "    <tr>\n",
       "      <th></th>\n",
       "      <th></th>\n",
       "      <th></th>\n",
       "      <th></th>\n",
       "      <th></th>\n",
       "      <th></th>\n",
       "      <th></th>\n",
       "      <th></th>\n",
       "      <th></th>\n",
       "      <th></th>\n",
       "    </tr>\n",
       "  </thead>\n",
       "  <tbody>\n",
       "    <tr>\n",
       "      <th>42</th>\n",
       "      <td>Scrypt</td>\n",
       "      <td>PoW/PoS</td>\n",
       "      <td>4.199995e+01</td>\n",
       "      <td>42</td>\n",
       "      <td>-0.342809</td>\n",
       "      <td>0.980233</td>\n",
       "      <td>-0.467273</td>\n",
       "      <td>42 Coin</td>\n",
       "      <td>0</td>\n",
       "    </tr>\n",
       "    <tr>\n",
       "      <th>404</th>\n",
       "      <td>Scrypt</td>\n",
       "      <td>PoW/PoS</td>\n",
       "      <td>1.055185e+09</td>\n",
       "      <td>532000000</td>\n",
       "      <td>-0.326138</td>\n",
       "      <td>0.980434</td>\n",
       "      <td>-0.467819</td>\n",
       "      <td>404Coin</td>\n",
       "      <td>0</td>\n",
       "    </tr>\n",
       "    <tr>\n",
       "      <th>1337</th>\n",
       "      <td>X13</td>\n",
       "      <td>PoW/PoS</td>\n",
       "      <td>2.927942e+10</td>\n",
       "      <td>314159265359</td>\n",
       "      <td>2.309896</td>\n",
       "      <td>1.692079</td>\n",
       "      <td>-0.594735</td>\n",
       "      <td>EliteCoin</td>\n",
       "      <td>4</td>\n",
       "    </tr>\n",
       "    <tr>\n",
       "      <th>BTC</th>\n",
       "      <td>SHA-256</td>\n",
       "      <td>PoW</td>\n",
       "      <td>1.792718e+07</td>\n",
       "      <td>21000000</td>\n",
       "      <td>-0.140079</td>\n",
       "      <td>-1.310683</td>\n",
       "      <td>0.167199</td>\n",
       "      <td>Bitcoin</td>\n",
       "      <td>1</td>\n",
       "    </tr>\n",
       "    <tr>\n",
       "      <th>ETH</th>\n",
       "      <td>Ethash</td>\n",
       "      <td>PoW</td>\n",
       "      <td>1.076842e+08</td>\n",
       "      <td>0</td>\n",
       "      <td>-0.143682</td>\n",
       "      <td>-2.055868</td>\n",
       "      <td>0.271050</td>\n",
       "      <td>Ethereum</td>\n",
       "      <td>1</td>\n",
       "    </tr>\n",
       "    <tr>\n",
       "      <th>LTC</th>\n",
       "      <td>Scrypt</td>\n",
       "      <td>PoW</td>\n",
       "      <td>6.303924e+07</td>\n",
       "      <td>84000000</td>\n",
       "      <td>-0.173466</td>\n",
       "      <td>-1.176341</td>\n",
       "      <td>0.050394</td>\n",
       "      <td>Litecoin</td>\n",
       "      <td>1</td>\n",
       "    </tr>\n",
       "    <tr>\n",
       "      <th>DASH</th>\n",
       "      <td>X11</td>\n",
       "      <td>PoW/PoS</td>\n",
       "      <td>9.031294e+06</td>\n",
       "      <td>22000000</td>\n",
       "      <td>-0.392571</td>\n",
       "      <td>1.305580</td>\n",
       "      <td>-0.551876</td>\n",
       "      <td>Dash</td>\n",
       "      <td>0</td>\n",
       "    </tr>\n",
       "    <tr>\n",
       "      <th>XMR</th>\n",
       "      <td>CryptoNight-V7</td>\n",
       "      <td>PoW</td>\n",
       "      <td>1.720114e+07</td>\n",
       "      <td>0</td>\n",
       "      <td>-0.145477</td>\n",
       "      <td>-2.174972</td>\n",
       "      <td>0.411766</td>\n",
       "      <td>Monero</td>\n",
       "      <td>1</td>\n",
       "    </tr>\n",
       "    <tr>\n",
       "      <th>ETC</th>\n",
       "      <td>Ethash</td>\n",
       "      <td>PoW</td>\n",
       "      <td>1.133597e+08</td>\n",
       "      <td>210000000</td>\n",
       "      <td>-0.142123</td>\n",
       "      <td>-2.055960</td>\n",
       "      <td>0.271029</td>\n",
       "      <td>Ethereum Classic</td>\n",
       "      <td>1</td>\n",
       "    </tr>\n",
       "    <tr>\n",
       "      <th>ZEC</th>\n",
       "      <td>Equihash</td>\n",
       "      <td>PoW</td>\n",
       "      <td>7.383056e+06</td>\n",
       "      <td>21000000</td>\n",
       "      <td>-0.144440</td>\n",
       "      <td>-2.081742</td>\n",
       "      <td>0.235385</td>\n",
       "      <td>ZCash</td>\n",
       "      <td>1</td>\n",
       "    </tr>\n",
       "  </tbody>\n",
       "</table>\n",
       "</div>"
      ],
      "text/plain": [
       "           Algorithm ProofType  TotalCoinsMined TotalCoinSupply      PC_1  \\\n",
       "                                                                            \n",
       "42            Scrypt   PoW/PoS     4.199995e+01              42 -0.342809   \n",
       "404           Scrypt   PoW/PoS     1.055185e+09       532000000 -0.326138   \n",
       "1337             X13   PoW/PoS     2.927942e+10    314159265359  2.309896   \n",
       "BTC          SHA-256       PoW     1.792718e+07        21000000 -0.140079   \n",
       "ETH           Ethash       PoW     1.076842e+08               0 -0.143682   \n",
       "LTC           Scrypt       PoW     6.303924e+07        84000000 -0.173466   \n",
       "DASH             X11   PoW/PoS     9.031294e+06        22000000 -0.392571   \n",
       "XMR   CryptoNight-V7       PoW     1.720114e+07               0 -0.145477   \n",
       "ETC           Ethash       PoW     1.133597e+08       210000000 -0.142123   \n",
       "ZEC         Equihash       PoW     7.383056e+06        21000000 -0.144440   \n",
       "\n",
       "          PC_2      PC_3          CoinName  Class  \n",
       "                                                   \n",
       "42    0.980233 -0.467273           42 Coin      0  \n",
       "404   0.980434 -0.467819           404Coin      0  \n",
       "1337  1.692079 -0.594735         EliteCoin      4  \n",
       "BTC  -1.310683  0.167199           Bitcoin      1  \n",
       "ETH  -2.055868  0.271050          Ethereum      1  \n",
       "LTC  -1.176341  0.050394          Litecoin      1  \n",
       "DASH  1.305580 -0.551876              Dash      0  \n",
       "XMR  -2.174972  0.411766            Monero      1  \n",
       "ETC  -2.055960  0.271029  Ethereum Classic      1  \n",
       "ZEC  -2.081742  0.235385             ZCash      1  "
      ]
     },
     "execution_count": 67,
     "metadata": {},
     "output_type": "execute_result"
    }
   ],
   "source": [
    "# Create a new DataFrame including predicted clusters and cryptocurrencies features.\r\n",
    "# Concatentate the crypto_df and pcs_df DataFrames on the same columns.\r\n",
    "clustered_df = crypto_clustering_df.merge(crypto_pcs_df, left_index=True, right_index=True)\r\n",
    "\r\n",
    "#  Add a new column, \"CoinName\" to the clustered_df DataFrame that holds the names of the cryptocurrencies. \r\n",
    "clustered_df['CoinName'] = coin_names\r\n",
    "\r\n",
    "#  Add a new column, \"Class\" to the clustered_df DataFrame that holds the predictions.\r\n",
    "\r\n",
    "clustered_df[\"Class\"] = model.labels_\r\n",
    "\r\n",
    "# Print the shape of the clustered_df\r\n",
    "print(clustered_df.shape)\r\n",
    "clustered_df.head(10)"
   ]
  },
  {
   "cell_type": "markdown",
   "metadata": {},
   "source": [
    "### Deliverable 4: Visualizing Cryptocurrencies Results\n",
    "\n",
    "#### 3D-Scatter with Clusters"
   ]
  },
  {
   "cell_type": "code",
   "execution_count": 68,
   "metadata": {},
   "outputs": [
    {
     "data": {
      "application/vnd.plotly.v1+json": {
       "config": {
        "plotlyServerURL": "https://plot.ly"
       },
       "data": [
        {
         "customdata": [
          [
           "Scrypt"
          ],
          [
           "Scrypt"
          ],
          [
           "X11"
          ],
          [
           "SHA-512"
          ],
          [
           "SHA-256"
          ],
          [
           "SHA-256"
          ],
          [
           "X15"
          ],
          [
           "Scrypt"
          ],
          [
           "Scrypt"
          ],
          [
           "Scrypt"
          ],
          [
           "Scrypt"
          ],
          [
           "Scrypt"
          ],
          [
           "Scrypt"
          ],
          [
           "Groestl"
          ],
          [
           "PoS"
          ],
          [
           "Scrypt"
          ],
          [
           "Scrypt"
          ],
          [
           "X11"
          ],
          [
           "X11"
          ],
          [
           "SHA3"
          ],
          [
           "Scrypt"
          ],
          [
           "SHA-256"
          ],
          [
           "Scrypt"
          ],
          [
           "X13"
          ],
          [
           "X13"
          ],
          [
           "NeoScrypt"
          ],
          [
           "Scrypt"
          ],
          [
           "Scrypt"
          ],
          [
           "Scrypt"
          ],
          [
           "X11"
          ],
          [
           "X11"
          ],
          [
           "Multiple"
          ],
          [
           "PHI1612"
          ],
          [
           "X11"
          ],
          [
           "Scrypt"
          ],
          [
           "Scrypt"
          ],
          [
           "Scrypt"
          ],
          [
           "X11"
          ],
          [
           "Multiple"
          ],
          [
           "X13"
          ],
          [
           "Scrypt"
          ],
          [
           "Shabal256"
          ],
          [
           "Counterparty"
          ],
          [
           "SHA-256"
          ],
          [
           "Groestl"
          ],
          [
           "Scrypt"
          ],
          [
           "X13"
          ],
          [
           "Scrypt"
          ],
          [
           "Scrypt"
          ],
          [
           "X13"
          ],
          [
           "X11"
          ],
          [
           "Scrypt"
          ],
          [
           "X11"
          ],
          [
           "SHA3"
          ],
          [
           "QUAIT"
          ],
          [
           "X11"
          ],
          [
           "Scrypt"
          ],
          [
           "X13"
          ],
          [
           "SHA-256"
          ],
          [
           "X15"
          ],
          [
           "BLAKE256"
          ],
          [
           "SHA-256"
          ],
          [
           "X11"
          ],
          [
           "SHA-256"
          ],
          [
           "NIST5"
          ],
          [
           "Scrypt"
          ],
          [
           "Scrypt"
          ],
          [
           "X11"
          ],
          [
           "Scrypt"
          ],
          [
           "SHA-256"
          ],
          [
           "Scrypt"
          ],
          [
           "PoS"
          ],
          [
           "X11"
          ],
          [
           "SHA-256"
          ],
          [
           "SHA-256"
          ],
          [
           "NIST5"
          ],
          [
           "X11"
          ],
          [
           "POS 3.0"
          ],
          [
           "Scrypt"
          ],
          [
           "Scrypt"
          ],
          [
           "Scrypt"
          ],
          [
           "X13"
          ],
          [
           "X11"
          ],
          [
           "X11"
          ],
          [
           "Scrypt"
          ],
          [
           "SHA-256"
          ],
          [
           "X11"
          ],
          [
           "Scrypt"
          ],
          [
           "Scrypt"
          ],
          [
           "Scrypt"
          ],
          [
           "Scrypt"
          ],
          [
           "SHA-256D"
          ],
          [
           "PoS"
          ],
          [
           "Scrypt"
          ],
          [
           "X11"
          ],
          [
           "PoS"
          ],
          [
           "X13"
          ],
          [
           "X14"
          ],
          [
           "PoS"
          ],
          [
           "SHA-256D"
          ],
          [
           "X11"
          ],
          [
           "X13"
          ],
          [
           "X11"
          ],
          [
           "PoS"
          ],
          [
           "Scrypt"
          ],
          [
           "Scrypt"
          ],
          [
           "PoS"
          ],
          [
           "X11"
          ],
          [
           "SHA-256"
          ],
          [
           "Scrypt"
          ],
          [
           "X11"
          ],
          [
           "Scrypt"
          ],
          [
           "Scrypt"
          ],
          [
           "X11"
          ],
          [
           "Scrypt"
          ],
          [
           "Scrypt"
          ],
          [
           "Scrypt"
          ],
          [
           "Scrypt"
          ],
          [
           "Quark"
          ],
          [
           "QuBit"
          ],
          [
           "Scrypt"
          ],
          [
           "SHA-256"
          ],
          [
           "X11"
          ],
          [
           "Scrypt"
          ],
          [
           "Scrypt"
          ],
          [
           "Scrypt"
          ],
          [
           "Scrypt"
          ],
          [
           "X13"
          ],
          [
           "Scrypt"
          ],
          [
           "Scrypt"
          ],
          [
           "X11"
          ],
          [
           "Blake2S"
          ],
          [
           "X11"
          ],
          [
           "PoS"
          ],
          [
           "X11"
          ],
          [
           "PoS"
          ],
          [
           "X11"
          ],
          [
           "Scrypt"
          ],
          [
           "Scrypt"
          ],
          [
           "Scrypt"
          ],
          [
           "SHA-256"
          ],
          [
           "X11"
          ],
          [
           "Scrypt"
          ],
          [
           "PoS"
          ],
          [
           "Scrypt"
          ],
          [
           "X15"
          ],
          [
           "SHA-256"
          ],
          [
           "POS 3.0"
          ],
          [
           "536"
          ],
          [
           "NIST5"
          ],
          [
           "NIST5"
          ],
          [
           "Skein"
          ],
          [
           "X13"
          ],
          [
           "Scrypt"
          ],
          [
           "X13"
          ],
          [
           "SkunkHash v2 Raptor"
          ],
          [
           "Skein"
          ],
          [
           "X11"
          ],
          [
           "Scrypt"
          ],
          [
           "PoS"
          ],
          [
           "Scrypt"
          ],
          [
           "Scrypt"
          ],
          [
           "SHA-512"
          ],
          [
           "Ouroboros"
          ],
          [
           "X11"
          ],
          [
           "NeoScrypt"
          ],
          [
           "Scrypt"
          ],
          [
           "Lyra2REv2"
          ],
          [
           "Scrypt"
          ],
          [
           "SHA-256"
          ],
          [
           "NIST5"
          ],
          [
           "PHI1612"
          ],
          [
           "Scrypt"
          ],
          [
           "Quark"
          ],
          [
           "POS 2.0"
          ],
          [
           "Scrypt"
          ],
          [
           "SHA-256"
          ],
          [
           "X11"
          ],
          [
           "NIST5"
          ],
          [
           "X13"
          ],
          [
           "Scrypt"
          ],
          [
           "NIST5"
          ],
          [
           "Quark"
          ],
          [
           "Scrypt"
          ],
          [
           "Scrypt"
          ],
          [
           "X11"
          ],
          [
           "Quark"
          ],
          [
           "Scrypt"
          ],
          [
           "Scrypt"
          ],
          [
           "X11"
          ],
          [
           "POS 3.0"
          ],
          [
           "Ethash"
          ],
          [
           "Scrypt"
          ],
          [
           "Scrypt"
          ],
          [
           "X13"
          ],
          [
           "C11"
          ],
          [
           "X11"
          ],
          [
           "XEVAN"
          ],
          [
           "Scrypt"
          ],
          [
           "VBFT"
          ],
          [
           "NIST5"
          ],
          [
           "Scrypt"
          ],
          [
           "Scrypt"
          ],
          [
           "Scrypt"
          ],
          [
           "Green Protocol"
          ],
          [
           "PoS"
          ],
          [
           "Scrypt"
          ],
          [
           "Quark"
          ],
          [
           "PoS"
          ],
          [
           "X16R"
          ],
          [
           "Scrypt"
          ],
          [
           "XEVAN"
          ],
          [
           "Scrypt"
          ],
          [
           "Scrypt"
          ],
          [
           "Scrypt"
          ],
          [
           "SHA-256D"
          ],
          [
           "Scrypt"
          ],
          [
           "X15"
          ],
          [
           "Quark"
          ],
          [
           "SHA-256"
          ],
          [
           "DPoS"
          ],
          [
           "X16R"
          ],
          [
           "Quark"
          ],
          [
           "Quark"
          ],
          [
           "Scrypt"
          ],
          [
           "Lyra2REv2"
          ],
          [
           "Quark"
          ],
          [
           "Scrypt"
          ],
          [
           "X11"
          ],
          [
           "X11"
          ],
          [
           "Scrypt"
          ],
          [
           "PoS"
          ],
          [
           "Keccak"
          ],
          [
           "X11"
          ],
          [
           "Scrypt"
          ],
          [
           "SHA-512"
          ],
          [
           "ECC 256K1"
          ],
          [
           "XEVAN"
          ],
          [
           "XEVAN"
          ],
          [
           "X11"
          ],
          [
           "Quark"
          ],
          [
           "Equihash"
          ],
          [
           "Scrypt"
          ],
          [
           "Quark"
          ],
          [
           "Quark"
          ],
          [
           "Scrypt"
          ],
          [
           "X11"
          ],
          [
           "Scrypt"
          ],
          [
           "XEVAN"
          ],
          [
           "SHA-256D"
          ],
          [
           "X11"
          ],
          [
           "X11"
          ],
          [
           "Scrypt"
          ],
          [
           "X11"
          ],
          [
           "Scrypt"
          ],
          [
           "Scrypt"
          ],
          [
           "SHA-256"
          ],
          [
           "Scrypt"
          ],
          [
           "X11"
          ],
          [
           "Scrypt"
          ],
          [
           "SHA-256"
          ],
          [
           "X11"
          ],
          [
           "Scrypt"
          ],
          [
           "Scrypt"
          ],
          [
           "X11"
          ],
          [
           "Scrypt"
          ],
          [
           "PoS"
          ],
          [
           "X11"
          ],
          [
           "SHA-256"
          ],
          [
           "Scrypt"
          ],
          [
           "Scrypt"
          ],
          [
           "NeoScrypt"
          ],
          [
           "X13"
          ],
          [
           "SHA-256"
          ],
          [
           "PoS"
          ],
          [
           "PoS"
          ],
          [
           "Scrypt"
          ],
          [
           "Scrypt"
          ]
         ],
         "hovertemplate": "<b>%{hovertext}</b><br><br>Class=%{marker.color}<br>PC_1=%{x}<br>PC_2=%{y}<br>PC_3=%{z}<br>Algorithm=%{customdata[0]}<extra></extra>",
         "hovertext": [
          "42 Coin",
          "404Coin",
          "Dash",
          "Bitshares",
          "BitcoinDark",
          "PayCoin",
          "KoboCoin",
          "Aurora Coin",
          "BlueCoin",
          "EnergyCoin",
          "BitBar",
          "CryptoBullion",
          "CasinoCoin",
          "Diamond",
          "Exclusive Coin",
          "FlutterCoin",
          "HoboNickels",
          "HyperStake",
          "IOCoin",
          "MaxCoin",
          "MintCoin",
          "MazaCoin",
          "Nautilus Coin",
          "NavCoin",
          "OpalCoin",
          "Orbitcoin",
          "PotCoin",
          "PhoenixCoin",
          "Reddcoin",
          "SuperCoin",
          "SyncCoin",
          "TeslaCoin",
          "TittieCoin",
          "TorCoin",
          "UnitaryStatus Dollar",
          "UltraCoin",
          "VeriCoin",
          "X11 Coin",
          "Crypti",
          "StealthCoin",
          "ZCC Coin",
          "BurstCoin",
          "StorjCoin",
          "Neutron",
          "FairCoin",
          "RubyCoin",
          "Kore",
          "Dnotes",
          "8BIT Coin",
          "Sativa Coin",
          "Ucoin",
          "Vtorrent",
          "IslaCoin",
          "Nexus",
          "Droidz",
          "Squall Coin",
          "Diggits",
          "Paycon",
          "Emercoin",
          "EverGreenCoin",
          "Decred",
          "EDRCoin",
          "Hitcoin",
          "DubaiCoin",
          "PWR Coin",
          "BillaryCoin",
          "GPU Coin",
          "EuropeCoin",
          "ZeitCoin",
          "SwingCoin",
          "SafeExchangeCoin",
          "Nebuchadnezzar",
          "Ratecoin",
          "Revenu",
          "Clockcoin",
          "VIP Tokens",
          "BitSend",
          "Let it Ride",
          "PutinCoin",
          "iBankCoin",
          "Frankywillcoin",
          "MudraCoin",
          "Lutetium Coin",
          "GoldBlocks",
          "CarterCoin",
          "BitTokens",
          "MustangCoin",
          "ZoneCoin",
          "RootCoin",
          "BitCurrency",
          "Swiscoin",
          "BuzzCoin",
          "Opair",
          "PesoBit",
          "Halloween Coin",
          "CoffeeCoin",
          "RoyalCoin",
          "GanjaCoin V2",
          "TeamUP",
          "LanaCoin",
          "InsaneCoin",
          "EmberCoin",
          "XenixCoin",
          "FreeCoin",
          "PLNCoin",
          "AquariusCoin",
          "Creatio",
          "Eternity",
          "Eurocoin",
          "BitcoinFast",
          "Stakenet",
          "BitConnect Coin",
          "MoneyCoin",
          "Enigma",
          "Russiacoin",
          "PandaCoin",
          "GameUnits",
          "GAKHcoin",
          "Allsafe",
          "LiteCreed",
          "Klingon Empire Darsek",
          "Internet of People",
          "KushCoin",
          "Printerium",
          "Impeach",
          "Zilbercoin",
          "FirstCoin",
          "FindCoin",
          "OpenChat",
          "RenosCoin",
          "VirtacoinPlus",
          "TajCoin",
          "Impact",
          "Atmos",
          "HappyCoin",
          "MacronCoin",
          "Condensate",
          "Independent Money System",
          "ArgusCoin",
          "LomoCoin",
          "ProCurrency",
          "GoldReserve",
          "GrowthCoin",
          "Phreak",
          "Degas Coin",
          "HTML5 Coin",
          "Ultimate Secure Cash",
          "QTUM",
          "Espers",
          "Denarius",
          "Virta Unique Coin",
          "Bitcoin Planet",
          "BritCoin",
          "Linda",
          "DeepOnion",
          "Signatum",
          "Cream",
          "Monoeci",
          "Draftcoin",
          "Stakecoin",
          "CoinonatX",
          "Ethereum Dark",
          "Obsidian",
          "Cardano",
          "Regalcoin",
          "TrezarCoin",
          "TerraNovaCoin",
          "Rupee",
          "WomenCoin",
          "Theresa May Coin",
          "NamoCoin",
          "LUXCoin",
          "Xios",
          "Bitcloud 2.0",
          "KekCoin",
          "BlackholeCoin",
          "Infinity Economics",
          "Magnet",
          "Electra",
          "Bitcoin Diamond",
          "Cash & Back Coin",
          "Bulwark",
          "Kalkulus",
          "GermanCoin",
          "LiteCoin Ultra",
          "PhantomX",
          "Digiwage",
          "Trollcoin",
          "Litecoin Plus",
          "Monkey Project",
          "TokenPay",
          "1717 Masonic Commemorative Token",
          "My Big Coin",
          "Unified Society USDEX",
          "Tokyo Coin",
          "Stipend",
          "Pushi",
          "Ellerium",
          "Velox",
          "Ontology",
          "Bitspace",
          "Briacoin",
          "Ignition",
          "MedicCoin",
          "Bitcoin Green",
          "Deviant Coin",
          "Abjcoin",
          "Carebit",
          "Zealium",
          "Proton",
          "iDealCash",
          "Bitcoin Incognito",
          "HollyWoodCoin",
          "Swisscoin",
          "Xt3ch",
          "TheVig",
          "EmaratCoin",
          "Dekado",
          "Poseidon Quark",
          "BitcoinWSpectrum",
          "Muse",
          "Trivechain",
          "Dystem",
          "Giant",
          "Peony Coin",
          "Absolute Coin",
          "Vitae",
          "TPCash",
          "ARENON",
          "EUNO",
          "MMOCoin",
          "Ketan",
          "XDNA",
          "PAXEX",
          "ThunderStake",
          "Kcash",
          "Acute Angle Cloud",
          "Bettex coin",
          "BitMoney",
          "Junson Ming Chan Coin",
          "HerbCoin",
          "PirateCash",
          "Oduwa",
          "Galilel",
          "Crypto Sports",
          "Credit",
          "Dash Platinum",
          "Nasdacoin",
          "Beetle Coin",
          "Titan Coin",
          "Award",
          "Insane Coin",
          "LiteDoge",
          "TruckCoin",
          "OrangeCoin",
          "BitstarCoin",
          "NeosCoin",
          "HyperCoin",
          "PinkCoin",
          "AudioCoin",
          "IncaKoin",
          "Piggy Coin",
          "Genstake",
          "XiaoMiCoin",
          "CapriCoin",
          " ClubCoin",
          "Radium",
          "Creditbit ",
          "OKCash",
          "HiCoin",
          "WhiteCoin",
          "FriendshipCoin",
          "Triangles Coin",
          "TigerCash",
          "Particl",
          "Nxt",
          "Gapcoin",
          "BitcoinPlus"
         ],
         "legendgroup": "0",
         "marker": {
          "color": [
           0,
           0,
           0,
           0,
           0,
           0,
           0,
           0,
           0,
           0,
           0,
           0,
           0,
           0,
           0,
           0,
           0,
           0,
           0,
           0,
           0,
           0,
           0,
           0,
           0,
           0,
           0,
           0,
           0,
           0,
           0,
           0,
           0,
           0,
           0,
           0,
           0,
           0,
           0,
           0,
           0,
           0,
           0,
           0,
           0,
           0,
           0,
           0,
           0,
           0,
           0,
           0,
           0,
           0,
           0,
           0,
           0,
           0,
           0,
           0,
           0,
           0,
           0,
           0,
           0,
           0,
           0,
           0,
           0,
           0,
           0,
           0,
           0,
           0,
           0,
           0,
           0,
           0,
           0,
           0,
           0,
           0,
           0,
           0,
           0,
           0,
           0,
           0,
           0,
           0,
           0,
           0,
           0,
           0,
           0,
           0,
           0,
           0,
           0,
           0,
           0,
           0,
           0,
           0,
           0,
           0,
           0,
           0,
           0,
           0,
           0,
           0,
           0,
           0,
           0,
           0,
           0,
           0,
           0,
           0,
           0,
           0,
           0,
           0,
           0,
           0,
           0,
           0,
           0,
           0,
           0,
           0,
           0,
           0,
           0,
           0,
           0,
           0,
           0,
           0,
           0,
           0,
           0,
           0,
           0,
           0,
           0,
           0,
           0,
           0,
           0,
           0,
           0,
           0,
           0,
           0,
           0,
           0,
           0,
           0,
           0,
           0,
           0,
           0,
           0,
           0,
           0,
           0,
           0,
           0,
           0,
           0,
           0,
           0,
           0,
           0,
           0,
           0,
           0,
           0,
           0,
           0,
           0,
           0,
           0,
           0,
           0,
           0,
           0,
           0,
           0,
           0,
           0,
           0,
           0,
           0,
           0,
           0,
           0,
           0,
           0,
           0,
           0,
           0,
           0,
           0,
           0,
           0,
           0,
           0,
           0,
           0,
           0,
           0,
           0,
           0,
           0,
           0,
           0,
           0,
           0,
           0,
           0,
           0,
           0,
           0,
           0,
           0,
           0,
           0,
           0,
           0,
           0,
           0,
           0,
           0,
           0,
           0,
           0,
           0,
           0,
           0,
           0,
           0,
           0,
           0,
           0,
           0,
           0,
           0,
           0,
           0,
           0,
           0,
           0,
           0,
           0,
           0,
           0,
           0,
           0,
           0,
           0,
           0,
           0,
           0,
           0,
           0,
           0,
           0,
           0,
           0,
           0,
           0,
           0,
           0,
           0,
           0
          ],
          "coloraxis": "coloraxis",
          "symbol": "circle"
         },
         "mode": "markers",
         "name": "0",
         "scene": "scene",
         "showlegend": true,
         "type": "scatter3d",
         "x": [
          -0.34280902322402484,
          -0.32613771145547893,
          -0.3925714140004842,
          -0.2644511171704205,
          -0.3082525633720206,
          -0.2639926869377187,
          -0.22505747586000532,
          -0.34246840907518905,
          -0.3350422481021467,
          -0.3413048294306207,
          -0.34280495677805833,
          -0.34278922931146877,
          0.6608190599826993,
          -0.3679043863124877,
          -0.3553825249898159,
          -0.28918895134226763,
          -0.34086668160302763,
          -0.3281249385914326,
          -0.3924660565311596,
          -0.41464089993228714,
          -0.038337320954341544,
          -0.27153760374802477,
          -0.2983000806578861,
          -0.27570405214681176,
          -0.2763265776492385,
          -0.3415574629070969,
          -0.3371079243766636,
          -0.3412098464656987,
          0.01551467382391853,
          -0.34802166327781026,
          -0.39283784148024325,
          -0.2503959641694384,
          -0.3049336537537617,
          -0.3927494252887661,
          -0.3180267556444358,
          -0.3414856380694493,
          -0.3183112331711927,
          -0.39271388816642966,
          -0.25086404994262557,
          -0.2761073295782202,
          -0.3339065237577882,
          0.02344557848530885,
          -0.3407215196668659,
          -0.3074638268565656,
          -0.36732565973310616,
          -0.29828034769144224,
          -0.2764019896710067,
          -0.2929311176695449,
          -0.34279108263879093,
          -0.2763541529764029,
          -0.3484667123092481,
          -0.3425253073477818,
          -0.39281936098108766,
          -0.41528796064882517,
          -0.4117709640875618,
          -0.32701073254121515,
          -0.29668096310687003,
          -0.2758755033697877,
          -0.3008044395201549,
          -0.22750051642520022,
          -0.07726006791177369,
          -0.30822346252777993,
          -0.07009448832028232,
          -0.30828720186418623,
          -0.22584199043423575,
          -0.3424011005870711,
          -0.296549810116883,
          -0.38998670575226346,
          0.8555543740073063,
          -0.3080871309899,
          -0.0703628871765562,
          -0.35506561589793173,
          -0.39066117876464584,
          -0.3068298377515655,
          -0.30449655787083224,
          -0.3472622626672237,
          -0.39155375929796765,
          -0.3379957042032756,
          -0.31868337364422533,
          -0.3424392151212649,
          -0.340877363869467,
          -0.23083559435766676,
          -0.33595045490807623,
          -0.3922929450942797,
          -0.3416429872132664,
          -0.30826813281025406,
          -0.3928085438279617,
          -0.3426284986798314,
          -0.34278531280381036,
          -0.29653962216425145,
          -0.28751400822708756,
          0.027691594270578573,
          -0.35402210618847085,
          -0.3423992734803949,
          -0.3789622754650964,
          -0.3533504407251198,
          -0.23226713898046833,
          -0.4128064123213839,
          -0.35309897144649416,
          -0.2870077864274442,
          -0.39240085051652895,
          0.8563891053990277,
          -0.39276342978190026,
          -0.3544861178481767,
          -0.3423267500956369,
          -0.34248115093380604,
          -0.35506561589793173,
          -0.392338058698985,
          -0.3081307370108112,
          -0.34232749227091874,
          -0.37350171584249797,
          -0.34247496324244014,
          -0.3380600849663747,
          -0.39279243715990897,
          -0.34168514043582354,
          0.3453332808544325,
          -0.34267435678667124,
          -0.3427449742600212,
          -0.34913372944312016,
          -0.3413132092691852,
          -0.3389692866754367,
          -0.3082445345133064,
          -0.3927023382078359,
          -0.34252265488699435,
          -0.342649670482234,
          -0.2981867512189504,
          -0.3049640591219075,
          -0.232034862109633,
          -0.32349242237680975,
          -0.29792777235660667,
          -0.3919676130915932,
          -0.4153836703876787,
          -0.390705331557495,
          -0.3533111810709218,
          -0.3918654463915011,
          -0.3477079335065322,
          -0.38780393912547084,
          -0.3425929289591105,
          -0.34259211061448014,
          -0.3357092945234262,
          0.26902234455646623,
          -0.39234423271827484,
          -0.28081795125611286,
          -0.35509991684477826,
          -0.3418031263203011,
          0.9075477098597274,
          -0.26268223135738206,
          -0.33677336284102977,
          0.6017756420591697,
          -0.3487987782853838,
          -0.34730012708421726,
          -0.4155366389656748,
          -0.27603906556133145,
          0.12242791989832916,
          -0.27610988576519085,
          -0.3316944351133336,
          -0.4150412727238116,
          -0.39261678812110173,
          -0.298261031351134,
          -0.3549660893747886,
          -0.3422279107141874,
          -0.34272789430835204,
          -0.32254850135443225,
          0.6581827172033949,
          -0.3925575670524281,
          -0.33655373800414007,
          -0.3426834745966095,
          -0.3034332307871833,
          0.42685076539895894,
          -0.3065898794832882,
          -0.3335566045090645,
          -0.3847479076746413,
          -0.3426337824556445,
          -0.39177098265647536,
          -0.36056576258455936,
          -0.34250412253454193,
          -0.09037856114066097,
          -0.3913494811657527,
          0.21101018774051095,
          -0.27277884047493073,
          -0.3399628944734026,
          -0.30436577281083654,
          -0.34901956988014826,
          0.07190506440146699,
          -0.34164207111549194,
          -0.3919310183793899,
          -0.3481837745731416,
          -0.32920070643850546,
          -0.3427500372690534,
          -0.34843862645020796,
          -0.33827777312537,
          -0.26874740025252414,
          -0.3247569727582179,
          -0.3382927825904581,
          -0.22382559847159111,
          -0.36079293539526375,
          -0.3926340251946369,
          -0.30058502425594785,
          -0.2974204727860505,
          -0.33613632470056143,
          -0.34839749157699207,
          -0.3427774069640995,
          -0.3427591065023288,
          -0.2917986391385251,
          -0.34970998138822973,
          -0.3545603123821663,
          -0.3424754462758857,
          -0.3904383346343641,
          -0.35474908583992587,
          -0.32023599889068916,
          -0.2893128640548155,
          -0.23491040235670133,
          -0.29795507650539343,
          -0.14577968711853595,
          -0.2982072427144881,
          -0.35236410789657996,
          -0.34194915174621004,
          -0.1826474585404826,
          -0.3447246397023993,
          -0.26281013124152774,
          1.00703652639967,
          -0.36376857554642517,
          -0.34913315833454156,
          -0.39345619998711645,
          -0.17885961459274563,
          -0.3475578506725759,
          -0.34785195501004434,
          -0.33564935542575264,
          -0.34801578230189467,
          -0.39210706708996734,
          -0.2954510865931297,
          -0.35384828276998204,
          -0.32724015709832766,
          -0.34787704026691463,
          -0.20216809829137403,
          -0.29682754970689423,
          -0.13607323874644472,
          -0.25638172212719673,
          0.5451324746653374,
          -0.1382848460476528,
          -0.3927504173984548,
          -0.26754983355254447,
          -0.3424794323124362,
          -0.3932068060009378,
          -0.34925020277767455,
          0.5645757528396154,
          -0.34849297042906574,
          -0.3419620202435433,
          -0.29503733943961097,
          -0.3070554414834451,
          -0.38967006211741234,
          -0.39233444124572214,
          0.09271011281749778,
          -0.3898728836410538,
          -0.3413470659047266,
          -0.34217264523790847,
          -0.2640253234658993,
          -0.3426913020353836,
          -0.3839575107375595,
          -0.2563385571691578,
          -0.08779962357663318,
          -0.37970314936592403,
          -0.3419692407467106,
          -0.3350296231619467,
          -0.38890111753262707,
          -0.3404074766551323,
          -0.35534139834474454,
          -0.39477566150410426,
          -0.3067667824954401,
          -0.10538093937645955,
          -0.3376006787413756,
          -0.3411830671019277,
          -0.27650926168413187,
          -0.24491137428649537,
          -0.35527723300155145,
          -0.36401427814426807,
          -0.34085311759744674,
          -0.2986039611159241
         ],
         "y": [
          0.9802331309560397,
          0.9804342517317405,
          1.3055802560701348,
          1.6777906535810434,
          0.8458730272365786,
          0.6388512793309501,
          1.8796682456139748,
          0.9802331748411915,
          0.9804976247461998,
          0.9802843555753361,
          0.9802329249050227,
          0.9802331159354707,
          0.48616541339083713,
          0.9158336418322431,
          1.6197086816068598,
          0.12929933122360088,
          0.9802165818948209,
          1.0992545670255933,
          1.305583843967673,
          1.960654640734413,
          0.7820662239948686,
          0.8454713750794475,
          0.7732021682629511,
          1.820521707241055,
          1.820500507436888,
          0.5521704200902476,
          0.9801378480689176,
          0.9802200562570638,
          0.9924356707624488,
          1.098576993712896,
          1.3055863429976273,
          0.14490208522244657,
          1.6590486294031135,
          1.3055824634412534,
          0.9799744845274803,
          0.9802092860645039,
          0.20641482076184267,
          1.3055867746879393,
          0.1449550569486814,
          1.8205079738236496,
          0.9798471796851328,
          1.1334770046398155,
          1.4970545419389,
          0.8458681876824731,
          0.9158563684379415,
          0.7732139902470925,
          1.820489669857813,
          0.7730515948805374,
          0.9802337419429098,
          1.820492677156462,
          1.098548055351842,
          0.9802290103595299,
          1.305586973031188,
          2.068990376032355,
          1.95999043552426,
          1.0156371984071493,
          0.7731995443533947,
          1.8204814124726318,
          0.8454527085555738,
          1.8798081190931113,
          0.9407731429292926,
          0.8458740182517199,
          1.2982810335442638,
          0.8458797725379559,
          1.5328887632776769,
          0.9802180794852815,
          0.7731205907210726,
          1.3054188150361081,
          0.7442842335873616,
          0.8458662567672914,
          0.4873503534242239,
          1.619705691360277,
          1.3056087847599973,
          0.8457831535340461,
          0.8456543080166027,
          1.5286918338305078,
          1.3055342845800924,
          1.4762146278971588,
          0.9796764750786512,
          0.980215173563121,
          0.9802300005474758,
          1.6133763133025847,
          1.0985353199683023,
          1.3055704437888431,
          0.9802108188317283,
          0.8458731861485107,
          1.3055852740392848,
          0.9802248071071443,
          0.9802339384318428,
          0.7732732698109672,
          0.21372550102277799,
          1.9950985619874637,
          1.6197040150109492,
          0.9802470848138385,
          1.305025186955652,
          1.6197503184574535,
          1.6134636641756464,
          1.9120412084718383,
          1.619579021313148,
          1.9929915124606592,
          1.3055805515540633,
          1.8584888374878554,
          1.3055862223303334,
          1.6197047522373154,
          0.9802229958159668,
          0.9802153534095343,
          1.619705691360277,
          1.305562016250877,
          0.8458785542174502,
          0.9802267882752278,
          0.9158722791491342,
          0.9802252118308059,
          0.9799464700278081,
          1.30558444430085,
          0.9801721707576102,
          0.7727252086714461,
          0.9802287584043731,
          0.9802330271595636,
          1.5320579582718212,
          0.6056492369613093,
          0.9800193305500353,
          0.8458739897770721,
          1.3055845121415208,
          0.9802291006877961,
          0.9802234429317453,
          0.7731792759414208,
          0.18437335072313893,
          1.6134632877523893,
          0.9802018268586107,
          0.7732022730373787,
          1.3055470667323148,
          2.003137864130869,
          1.3055831619019387,
          1.6197032169775054,
          1.3055505459697538,
          1.6196943874577694,
          1.3054132099893705,
          0.980225872239575,
          0.9802208089608854,
          0.9797857872007436,
          0.6053273416039477,
          1.305575588429703,
          0.7724304204854653,
          1.6196976320421328,
          0.9801950285480342,
          1.8564588143870562,
          0.6387666379357941,
          1.4762104275530257,
          1.8457819097473462,
          1.528694638264317,
          1.528669870728055,
          1.9643888220257528,
          1.8204896248735598,
          0.9616204693737629,
          1.8204948636245935,
          1.5003768163126523,
          1.9644056914829513,
          1.3055873198858898,
          0.7732026532800533,
          1.6196804132532054,
          0.9802196689941733,
          0.980232999480135,
          1.6782304281489455,
          1.4565037381639274,
          1.3055772820132228,
          0.55206776886312,
          0.9802265643029582,
          0.6659413833208832,
          0.9892154818590406,
          0.8458758976452603,
          1.5283936483948801,
          1.8664097692671182,
          0.9802246271707207,
          1.739014022983221,
          1.58228321610975,
          0.9802333233096777,
          0.6385701438051,
          1.30553779556483,
          1.527091904317582,
          1.820476608369689,
          0.9801853389830698,
          1.321660030967286,
          1.5320584003123758,
          0.9598999380247311,
          0.980169502732815,
          1.3055827690276463,
          1.5320179507560405,
          0.9800763461727255,
          0.9802323832366644,
          1.0985483226805521,
          1.4762108797103968,
          -0.10638041415303776,
          0.24764342209259804,
          0.9802270531582603,
          1.6132015623520486,
          0.90659398063896,
          1.305576056511465,
          1.5493504019208635,
          0.7731578217913335,
          1.4115318418405698,
          1.528680739024496,
          0.9802321402965725,
          0.9802313852667197,
          0.773090160887854,
          1.4640656011278688,
          1.6196760389575184,
          0.9802238171381298,
          1.7390594056655082,
          1.6196751233417601,
          0.7338827795569678,
          0.9785252695139,
          1.2594229395115704,
          0.7732071500379553,
          0.9799138291502056,
          0.773186158451108,
          1.9958694692113221,
          0.9802045272766139,
          1.6727561266146045,
          1.5317705154673957,
          0.6388310718604565,
          1.6409716709539295,
          0.9409099678107964,
          1.5320538429910295,
          1.7390909083792874,
          0.7656484327558467,
          0.8729546440122505,
          1.5320430331424457,
          0.9797878283976544,
          1.0985392922985153,
          1.3055767737741604,
          0.7731311677453135,
          1.6196162139451842,
          0.9370136067606465,
          1.0985130066191164,
          0.9726184006431451,
          2.0214200553089188,
          0.26779465312845635,
          1.3423270719654896,
          1.3538106373924668,
          1.1057194793373086,
          1.7390812805619764,
          -0.13224392562332712,
          0.9802298834900143,
          1.7390898329178048,
          1.5320551150970958,
          0.9595873837047717,
          1.0985473678807836,
          0.9802040890461767,
          1.549236112132295,
          1.9940357380244755,
          1.3054047898038674,
          1.3055828130895835,
          0.9709452679064141,
          1.3056873138884677,
          0.9801450929120914,
          0.9802174134650645,
          0.6388443103761808,
          0.9802371399229823,
          1.3055441982432627,
          0.9759420639518143,
          0.8532646727901686,
          1.305344517655648,
          0.9802513925460477,
          0.9802224060412246,
          1.3055770696187292,
          0.9802046550325664,
          1.6197038800603907,
          1.092690837594621,
          0.8458664276909341,
          0.7728857812173623,
          0.9802037621502859,
          0.5521443047777875,
          1.8204942035260578,
          0.6388205765991793,
          1.6197063173020734,
          1.9533845615899739,
          0.9801274580020671,
          0.7732022806272156
         ],
         "z": [
          -0.46727268136768435,
          -0.46781856835169655,
          -0.5518758381280785,
          -0.23865045678490818,
          -0.35049676364998616,
          -0.07948591675571232,
          -0.6430795655950613,
          -0.4672827134833511,
          -0.46757409422942686,
          -0.4673310560983462,
          -0.46727274417403825,
          -0.467273259513069,
          -0.17242530612775608,
          -0.3684376379252432,
          -0.09062407359278636,
          -0.2077088182020506,
          -0.4673252568076263,
          -0.28165076766798663,
          -0.5518799268386412,
          -0.6889038659117647,
          -0.20635832458844228,
          -0.35146607068057456,
          -0.1962666204093657,
          -0.5540907720401559,
          -0.5540666130828947,
          -0.29273699404989095,
          -0.4674141192758234,
          -0.46731611980834903,
          -0.4811785002520242,
          -0.2808786159738593,
          -0.5518696789615981,
          0.07419759876802452,
          -0.21383904522591782,
          -0.5518712101618435,
          -0.46793039214931925,
          -0.46730503684458635,
          0.01018596151431972,
          -0.5518734443953843,
          0.07419676179564282,
          -0.5540751216576547,
          -0.46742814503992597,
          -0.016946103191768765,
          -0.04566298431611949,
          -0.35051863180049087,
          -0.36846092944145836,
          -0.19627046080003197,
          -0.5540614062023745,
          -0.1963830414332706,
          -0.46727337761353627,
          -0.5540636426965775,
          -0.28085754403279517,
          -0.46727989132857706,
          -0.5518703963424647,
          -0.6885414593471731,
          -0.6324512274559433,
          -0.5085533414245772,
          -0.19631352724932066,
          -0.554074617146662,
          -0.35059996647032043,
          -0.6430462673900786,
          -0.36737666962371907,
          -0.3504978929949684,
          -0.5593495500704385,
          -0.3504976046801819,
          -0.515640099203602,
          -0.4672805310062076,
          -0.19629561408335683,
          -0.5519073566168416,
          -0.22223604426864368,
          -0.35049976330813776,
          -0.1512425118172415,
          -0.09063257170734988,
          -0.5519398992080161,
          -0.3505138341183492,
          -0.35054694438478334,
          -0.5109109215124022,
          -0.5518930984016525,
          -0.12269145378883722,
          -0.46782890038823477,
          -0.4672786084680223,
          -0.467328642737587,
          -0.2830637328561158,
          -0.2812222291844519,
          -0.5518813242618248,
          -0.46730083068572825,
          -0.3504963494558957,
          -0.5518702460612555,
          -0.4672756966570669,
          -0.4672736015291773,
          -0.19633801484151467,
          -0.07107898227486507,
          -0.6516539483869859,
          -0.0906628068960193,
          -0.467288582935528,
          -0.5521231253045791,
          -0.09069533372342935,
          -0.2830457072879715,
          -0.583788175880998,
          -0.0906554963615675,
          -0.6418152654264343,
          -0.5518809371574973,
          -0.5978634999773789,
          -0.5518718346933814,
          -0.09064936012537193,
          -0.4672840738828692,
          -0.46727742441395037,
          -0.09063257170734988,
          -0.551877673250383,
          -0.3505018715336927,
          -0.4672850978154848,
          -0.5228892659284086,
          -0.4672803248867538,
          -0.4673333368601906,
          -0.5518704910797931,
          -0.46728893348902234,
          -0.21506917945650827,
          -0.4672754371914302,
          -0.46727453690590515,
          -0.19426510817032988,
          -0.36290977157557835,
          -0.4673266816163462,
          -0.3504972652581322,
          -0.551873160272074,
          -0.467279994265222,
          -0.467274697666179,
          -0.19626364175042277,
          -0.21943442405046143,
          -0.2830524364930243,
          -0.4678322952782636,
          -0.19627760167768266,
          -0.5518844485218267,
          -0.4561495892755947,
          -0.5519315348748125,
          -0.09068350047415599,
          -0.551888413405083,
          -0.09084589924287781,
          -0.5519700225550546,
          -0.46727703673792154,
          -0.46727566461926584,
          -0.46735818314806915,
          -0.08592170196620973,
          -0.551881234136309,
          -0.1965680924176934,
          -0.09062934031331778,
          -0.4672917656451042,
          -0.6699980013950355,
          -0.0795011273226739,
          -0.12272625376825133,
          -0.7028797246580063,
          -0.5108664943935628,
          -0.5109037513401491,
          -0.6976742586667569,
          -0.554072070115543,
          -0.47582636951141283,
          -0.5540714313412473,
          -0.04136823912422584,
          -0.6976934828299747,
          -0.5518764511729077,
          -0.19626790288489515,
          -0.09062852912406362,
          -0.46728606412305307,
          -0.46727503172270146,
          -0.2370626446295401,
          -0.08470064751309331,
          -0.5518754253783742,
          -0.29285588515491934,
          -0.46727456394779787,
          -0.10072252796461406,
          -0.49239101414693437,
          -0.35054646715326376,
          -0.5112318833839343,
          -0.48389755834045267,
          -0.46727549160440085,
          -0.4653055765194629,
          -0.03991597591693222,
          -0.46728170382289014,
          -0.08451568637110628,
          -0.5519000759015406,
          -0.5268927190916747,
          -0.5541643884812727,
          -0.4673432287683512,
          -0.23985719456172605,
          -0.1942685883505831,
          -0.4738656795446483,
          -0.4672894647762024,
          -0.5518953699065455,
          -0.1942820214424433,
          -0.4676297707401553,
          -0.4672742104039965,
          -0.2808584439638945,
          -0.12268212247077885,
          0.024411073404072427,
          -0.12647578617388397,
          -0.4674038619010814,
          -0.28322176202211563,
          -0.4283126915961676,
          -0.5518728382410336,
          -0.43409207583916426,
          -0.19628026778789315,
          -0.22418387888896363,
          -0.5108744665458381,
          -0.4672733382657754,
          -0.46727366842101553,
          -0.19642699063747712,
          -0.19699959937556502,
          -0.09063925985980678,
          -0.4672799260924872,
          -0.465357293897281,
          -0.09063345413808668,
          -0.010798276806712406,
          -0.4683754637639236,
          -0.39077723134805414,
          -0.19627814328443546,
          -0.47298074347184726,
          -0.19626493678480195,
          -0.6406862389977397,
          -0.46729008920479326,
          -0.3720445305066885,
          -0.19431555057010155,
          -0.07951513239695607,
          -0.18114669815966666,
          -0.2818320192059683,
          -0.19426399018775745,
          -0.4652772026949325,
          -0.1976973270753389,
          -0.37173501342954973,
          -0.19429869917656215,
          -0.46736050926337414,
          -0.280868392863011,
          -0.5518885378117026,
          -0.19633085237534867,
          -0.09064370931919734,
          -0.39940489840644344,
          -0.2808652260650603,
          -0.4693102331516935,
          -0.4014672097441503,
          0.082208080200199,
          -0.1630791284225494,
          0.031080948513989893,
          -0.2890180781867557,
          -0.4652953101917099,
          -0.011314133890878516,
          -0.46728148162167515,
          -0.46528424268375634,
          -0.19426089781519176,
          -0.4882726297211334,
          -0.280856582015513,
          -0.46728958980440566,
          -0.4342237595635304,
          -0.6415134574685978,
          -0.5519128040398383,
          -0.5518835143671518,
          -0.47752344680542796,
          -0.5519847431762108,
          -0.4672914121146697,
          -0.46728706793569935,
          -0.07948303499094307,
          -0.4672772498972002,
          -0.552119294671088,
          -0.468633169744544,
          -0.3590201728413008,
          -0.5521893856636202,
          -0.46730242127190763,
          -0.46749857443498677,
          -0.5519829303896421,
          -0.46733547664978314,
          -0.09062395941559229,
          -0.435835405795113,
          -0.35053865178291654,
          -0.20185457462660325,
          -0.467417799397142,
          -0.29274080657356927,
          -0.5540595006815955,
          -0.08003877490316814,
          -0.0906265190652601,
          0.07682931334368764,
          -0.4673010800328519,
          -0.19625771199236278
         ]
        },
        {
         "customdata": [
          [
           "X13"
          ],
          [
           "Scrypt"
          ],
          [
           "CryptoNight"
          ],
          [
           "DPoS"
          ],
          [
           "Scrypt"
          ],
          [
           "DPoS"
          ],
          [
           "CryptoNight"
          ],
          [
           "Semux BFT consensus"
          ],
          [
           "Scrypt"
          ],
          [
           "CryptoNight Heavy"
          ],
          [
           "DPoS"
          ],
          [
           "DPoS"
          ],
          [
           "DPoS"
          ],
          [
           "DPoS"
          ],
          [
           "SHA-256"
          ]
         ],
         "hovertemplate": "<b>%{hovertext}</b><br><br>Class=%{marker.color}<br>PC_1=%{x}<br>PC_2=%{y}<br>PC_3=%{z}<br>Algorithm=%{customdata[0]}<extra></extra>",
         "hovertext": [
          "EliteCoin",
          "MoonCoin",
          "ByteCoin",
          "ARK",
          "gCn Coin",
          "Lamden Tau",
          "TurtleCoin",
          "Semux",
          "Lynx",
          "Qwertycoin",
          "ALAX",
          "Lisk",
          "EOS",
          "Oxycoin",
          "ZEPHYR"
         ],
         "legendgroup": "4",
         "marker": {
          "color": [
           4,
           4,
           4,
           4,
           4,
           4,
           4,
           4,
           4,
           4,
           4,
           4,
           4,
           4,
           4
          ],
          "coloraxis": "coloraxis",
          "symbol": "diamond"
         },
         "mode": "markers",
         "name": "4",
         "scene": "scene",
         "showlegend": true,
         "type": "scatter3d",
         "x": [
          2.309895920384463,
          2.549117105441624,
          3.866927979790365,
          3.7045965328650383,
          3.236911177578748,
          3.709455413613053,
          8.051685937543041,
          3.914213089985612,
          2.221895367049637,
          3.0955577561456153,
          3.7217038799686604,
          3.7049885847777664,
          3.7148613773179586,
          3.7161061385958525,
          2.4701066410550214
         ],
         "y": [
          1.6920791241970543,
          -1.3481898813947504,
          -2.2793735128747135,
          1.7779553059106472,
          -1.1979690127812397,
          1.7778623521376782,
          -2.6988647140387845,
          1.7096475350148705,
          0.05759817499028912,
          -2.2135713889431297,
          1.7779349069195223,
          1.777944594024677,
          1.778391010412176,
          1.7784334001539988,
          0.775783293618288
         ],
         "z": [
          -0.594734771670657,
          0.017689634460548578,
          0.3018946708482578,
          -0.26059932654038,
          -0.0439667458686871,
          -0.26071663075343876,
          0.29446371795061926,
          -0.062090524815386176,
          -0.32400093753596676,
          0.4161934371312314,
          -0.2610969568124806,
          -0.26060790593666355,
          -0.26102143746347956,
          -0.2610697441342848,
          -0.15999920604748447
         ]
        },
        {
         "customdata": [
          [
           "SHA-256"
          ],
          [
           "Ethash"
          ],
          [
           "Scrypt"
          ],
          [
           "CryptoNight-V7"
          ],
          [
           "Ethash"
          ],
          [
           "Equihash"
          ],
          [
           "Multiple"
          ],
          [
           "Scrypt"
          ],
          [
           "X11"
          ],
          [
           "Scrypt"
          ],
          [
           "Multiple"
          ],
          [
           "SHA-256"
          ],
          [
           "Scrypt"
          ],
          [
           "Scrypt"
          ],
          [
           "Quark"
          ],
          [
           "Groestl"
          ],
          [
           "Scrypt"
          ],
          [
           "Scrypt"
          ],
          [
           "Scrypt"
          ],
          [
           "X11"
          ],
          [
           "Multiple"
          ],
          [
           "SHA-256"
          ],
          [
           "Scrypt"
          ],
          [
           "Scrypt"
          ],
          [
           "Scrypt"
          ],
          [
           "Scrypt"
          ],
          [
           "Scrypt"
          ],
          [
           "NeoScrypt"
          ],
          [
           "Scrypt"
          ],
          [
           "Scrypt"
          ],
          [
           "Scrypt"
          ],
          [
           "Scrypt"
          ],
          [
           "SHA-256"
          ],
          [
           "Scrypt"
          ],
          [
           "Scrypt"
          ],
          [
           "Scrypt"
          ],
          [
           "Scrypt"
          ],
          [
           "HybridScryptHash256"
          ],
          [
           "Scrypt"
          ],
          [
           "Scrypt"
          ],
          [
           "SHA-256"
          ],
          [
           "Scrypt"
          ],
          [
           "Scrypt"
          ],
          [
           "Scrypt"
          ],
          [
           "Scrypt"
          ],
          [
           "SHA-256"
          ],
          [
           "SHA-256"
          ],
          [
           "SHA-256"
          ],
          [
           "SHA-256"
          ],
          [
           "SHA-256"
          ],
          [
           "X11"
          ],
          [
           "Scrypt"
          ],
          [
           "Lyra2REv2"
          ],
          [
           "Scrypt"
          ],
          [
           "SHA-256"
          ],
          [
           "CryptoNight"
          ],
          [
           "Scrypt"
          ],
          [
           "Scrypt"
          ],
          [
           "Scrypt"
          ],
          [
           "Scrypt"
          ],
          [
           "Scrypt"
          ],
          [
           "Scrypt"
          ],
          [
           "Stanford Folding"
          ],
          [
           "Multiple"
          ],
          [
           "QuBit"
          ],
          [
           "Scrypt"
          ],
          [
           "Scrypt"
          ],
          [
           "M7 POW"
          ],
          [
           "Scrypt"
          ],
          [
           "SHA-256"
          ],
          [
           "Scrypt"
          ],
          [
           "X11"
          ],
          [
           "Lyra2RE"
          ],
          [
           "SHA-256"
          ],
          [
           "X11"
          ],
          [
           "Scrypt"
          ],
          [
           "Scrypt"
          ],
          [
           "Ethash"
          ],
          [
           "Blake2b"
          ],
          [
           "X11"
          ],
          [
           "SHA-256"
          ],
          [
           "Scrypt"
          ],
          [
           "1GB AES Pattern Search"
          ],
          [
           "Scrypt"
          ],
          [
           "SHA-256"
          ],
          [
           "X11"
          ],
          [
           "Dagger"
          ],
          [
           "Scrypt"
          ],
          [
           "X11GOST"
          ],
          [
           "Scrypt"
          ],
          [
           "X11"
          ],
          [
           "Scrypt"
          ],
          [
           "X11"
          ],
          [
           "Equihash"
          ],
          [
           "CryptoNight"
          ],
          [
           "SHA-256"
          ],
          [
           "Multiple"
          ],
          [
           "Scrypt"
          ],
          [
           "SHA-256"
          ],
          [
           "Scrypt"
          ],
          [
           "Lyra2Z"
          ],
          [
           "Ethash"
          ],
          [
           "Equihash"
          ],
          [
           "Scrypt"
          ],
          [
           "X11"
          ],
          [
           "X11"
          ],
          [
           "CryptoNight"
          ],
          [
           "Scrypt"
          ],
          [
           "CryptoNight"
          ],
          [
           "Lyra2RE"
          ],
          [
           "X11"
          ],
          [
           "CryptoNight-V7"
          ],
          [
           "Scrypt"
          ],
          [
           "X11"
          ],
          [
           "Equihash"
          ],
          [
           "Scrypt"
          ],
          [
           "Lyra2RE"
          ],
          [
           "Dagger-Hashimoto"
          ],
          [
           "Scrypt"
          ],
          [
           "NIST5"
          ],
          [
           "Scrypt"
          ],
          [
           "SHA-256"
          ],
          [
           "Scrypt"
          ],
          [
           "CryptoNight-V7"
          ],
          [
           "Argon2d"
          ],
          [
           "Blake2b"
          ],
          [
           "Cloverhash"
          ],
          [
           "CryptoNight"
          ],
          [
           "X11"
          ],
          [
           "Scrypt"
          ],
          [
           "Scrypt"
          ],
          [
           "X11"
          ],
          [
           "X11"
          ],
          [
           "CryptoNight"
          ],
          [
           "Time Travel"
          ],
          [
           "Keccak"
          ],
          [
           "X11"
          ],
          [
           "SHA-256"
          ],
          [
           "Scrypt"
          ],
          [
           "Scrypt"
          ],
          [
           "Scrypt"
          ],
          [
           "Scrypt"
          ],
          [
           "Scrypt"
          ],
          [
           "Scrypt"
          ],
          [
           "CryptoNight"
          ],
          [
           "Equihash"
          ],
          [
           "X11"
          ],
          [
           "NeoScrypt"
          ],
          [
           "Equihash"
          ],
          [
           "Dagger"
          ],
          [
           "Scrypt"
          ],
          [
           "X11"
          ],
          [
           "NeoScrypt"
          ],
          [
           "Ethash"
          ],
          [
           "NeoScrypt"
          ],
          [
           "Multiple"
          ],
          [
           "CryptoNight"
          ],
          [
           "CryptoNight"
          ],
          [
           "Ethash"
          ],
          [
           "X11"
          ],
          [
           "CryptoNight-V7"
          ],
          [
           "Scrypt"
          ],
          [
           "BLAKE256"
          ],
          [
           "X11"
          ],
          [
           "NeoScrypt"
          ],
          [
           "NeoScrypt"
          ],
          [
           "Scrypt"
          ],
          [
           "X11"
          ],
          [
           "SHA-256"
          ],
          [
           "C11"
          ],
          [
           "SkunkHash"
          ],
          [
           "CryptoNight"
          ],
          [
           "Scrypt"
          ],
          [
           "Dagger"
          ],
          [
           "Lyra2REv2"
          ],
          [
           "Scrypt"
          ],
          [
           "Scrypt"
          ],
          [
           "X11"
          ],
          [
           "Ethash"
          ],
          [
           "CryptoNight"
          ],
          [
           "Scrypt"
          ],
          [
           "IMesh"
          ],
          [
           "Equihash"
          ],
          [
           "Lyra2Z"
          ],
          [
           "X11"
          ],
          [
           "CryptoNight"
          ],
          [
           "NIST5"
          ],
          [
           "Lyra2RE"
          ],
          [
           "Tribus"
          ],
          [
           "Lyra2Z"
          ],
          [
           "CryptoNight"
          ],
          [
           "CryptoNight Heavy"
          ],
          [
           "CryptoNight"
          ],
          [
           "Jump Consistent Hash"
          ],
          [
           "CryptoNight"
          ],
          [
           "X16R"
          ],
          [
           "HMQ1725"
          ],
          [
           "X11"
          ],
          [
           "Scrypt"
          ],
          [
           "CryptoNight-V7"
          ],
          [
           "Cryptonight-GPU"
          ],
          [
           "XEVAN"
          ],
          [
           "SHA-256"
          ],
          [
           "X11"
          ],
          [
           "X16R"
          ],
          [
           "Equihash"
          ],
          [
           "Lyra2Z"
          ],
          [
           "SHA-256"
          ],
          [
           "CryptoNight"
          ],
          [
           "Blake"
          ],
          [
           "Blake"
          ],
          [
           "Exosis"
          ],
          [
           "Scrypt"
          ],
          [
           "Equihash"
          ],
          [
           "Equihash"
          ],
          [
           "QuBit"
          ],
          [
           "SHA-256"
          ],
          [
           "X13"
          ],
          [
           "SHA-256"
          ],
          [
           "Scrypt"
          ],
          [
           "NeoScrypt"
          ],
          [
           "Blake"
          ],
          [
           "Scrypt"
          ],
          [
           "SHA-256"
          ],
          [
           "Scrypt"
          ],
          [
           "Groestl"
          ],
          [
           "Scrypt"
          ],
          [
           "Scrypt"
          ],
          [
           "Multiple"
          ],
          [
           "Equihash+Scrypt"
          ],
          [
           "Ethash"
          ],
          [
           "CryptoNight"
          ],
          [
           "Equihash"
          ]
         ],
         "hovertemplate": "<b>%{hovertext}</b><br><br>Class=%{marker.color}<br>PC_1=%{x}<br>PC_2=%{y}<br>PC_3=%{z}<br>Algorithm=%{customdata[0]}<extra></extra>",
         "hovertext": [
          "Bitcoin",
          "Ethereum",
          "Litecoin",
          "Monero",
          "Ethereum Classic",
          "ZCash",
          "DigiByte",
          "ProsperCoin",
          "Spreadcoin",
          "Argentum",
          "MyriadCoin",
          "ZetaCoin",
          "SexCoin",
          "Quatloo",
          "QuarkCoin",
          "Riecoin",
          "Digitalcoin ",
          "Catcoin",
          "CannaCoin",
          "CryptCoin",
          "Verge",
          "DevCoin",
          "EarthCoin",
          "E-Gulden",
          "Einsteinium",
          "Emerald",
          "Franko",
          "FeatherCoin",
          "GrandCoin",
          "GlobalCoin",
          "GoldCoin",
          "Infinite Coin",
          "IXcoin",
          "KrugerCoin",
          "LuckyCoin",
          "Litebar ",
          "MegaCoin",
          "MediterraneanCoin",
          "MinCoin",
          "NobleCoin",
          "Namecoin",
          "NyanCoin",
          "RonPaulCoin",
          "StableCoin",
          "SmartCoin",
          "SysCoin",
          "TigerCoin",
          "TerraCoin",
          "UnbreakableCoin",
          "Unobtanium",
          "UroCoin",
          "ViaCoin",
          "Vertcoin",
          "WorldCoin",
          "JouleCoin",
          "DigitalNote ",
          "MonaCoin",
          "Gulden",
          "PesetaCoin",
          "Wild Beast Coin",
          "Flo",
          "ArtByte",
          "Folding Coin",
          "Unitus",
          "CypherPunkCoin",
          "OmniCron",
          "GreenCoin",
          "Cryptonite",
          "MasterCoin",
          "SoonCoin",
          "1Credit",
          "MarsCoin ",
          "Crypto",
          "Anarchists Prime",
          "BowsCoin",
          "Song Coin",
          "BitZeny",
          "Expanse",
          "Siacoin",
          "MindCoin",
          "I0coin",
          "Revolution VR",
          "HOdlcoin",
          "Gamecredits",
          "CarpeDiemCoin",
          "Adzcoin",
          "SoilCoin",
          "YoCoin",
          "SibCoin",
          "Francs",
          "BolivarCoin",
          "Omni",
          "PizzaCoin",
          "Komodo",
          "Karbo",
          "ZayedCoin",
          "Circuits of Value",
          "DopeCoin",
          "DollarCoin",
          "Shilling",
          "ZCoin",
          "Elementrem",
          "ZClassic",
          "KiloCoin",
          "ArtexCoin",
          "Kurrent",
          "Cannabis Industry Coin",
          "OsmiumCoin",
          "Bikercoins",
          "HexxCoin",
          "PacCoin",
          "Citadel",
          "BeaverCoin",
          "VaultCoin",
          "Zero",
          "Canada eCoin",
          "Zoin",
          "DubaiCoin",
          "EB3coin",
          "Coinonat",
          "BenjiRolls",
          "ILCoin",
          "EquiTrader",
          "Quantum Resistant Ledger",
          "Dynamic",
          "Nano",
          "ChanCoin",
          "Dinastycoin",
          "DigitalPrice",
          "Unify",
          "SocialCoin",
          "ArcticCoin",
          "DAS",
          "LeviarCoin",
          "Bitcore",
          "SmartCash",
          "Onix",
          "Bitcoin Cash",
          "Sojourn Coin",
          "NewYorkCoin",
          "FrazCoin",
          "Kronecoin",
          "AdCoin",
          "Linx",
          "Sumokoin",
          "BitcoinZ",
          "Elements",
          "VIVO Coin",
          "Bitcoin Gold",
          "Pirl",
          "eBoost",
          "Pura",
          "Innova",
          "Ellaism",
          "GoByte",
          "SHIELD",
          "UltraNote",
          "BitCoal",
          "DaxxCoin",
          "AC3",
          "Lethean",
          "PopularCoin",
          "Photon",
          "Sucre",
          "SparksPay",
          "GunCoin",
          "IrishCoin",
          "Pioneer Coin",
          "UnitedBitcoin",
          "Interzone",
          "MUNcoin",
          "Niobio Cash",
          "ShareChain",
          "Travelflex",
          "KREDS",
          "BitFlip",
          "LottoCoin",
          "Crypto Improvement Fund",
          "Callisto Network",
          "BitTube",
          "Poseidon",
          "Aidos Kuneen",
          "Bitrolium",
          "Alpenschillling",
          "FuturoCoin",
          "Monero Classic",
          "Jumpcoin",
          "Infinex",
          "KEYCO",
          "GINcoin",
          "PlatinCoin",
          "Loki",
          "Newton Coin",
          "MassGrid",
          "PluraCoin",
          "Motion",
          "PlusOneCoin",
          "Axe",
          "HexCoin",
          "Webchain",
          "Ryo",
          "Urals Coin",
          "Project Pai",
          "Azart",
          "Xchange",
          "CrypticCoin",
          "Actinium",
          "Bitcoin SV",
          "FREDEnergy",
          "Universal Molecule",
          "Lithium",
          "Exosis",
          "Block-Logic",
          "Beam",
          "Bithereum",
          "SLICE",
          "BLAST",
          "Bitcoin Rhodium",
          "GlobalToken",
          "SolarCoin",
          "UFO Coin",
          "BlakeCoin",
          "Crypto Escudo",
          "Crown Coin",
          "SmileyCoin",
          "Groestlcoin",
          "Bata",
          "Pakcoin",
          "JoinCoin",
          "Vollar",
          "Reality Clash",
          "Beldex",
          "Horizen"
         ],
         "legendgroup": "1",
         "marker": {
          "color": [
           1,
           1,
           1,
           1,
           1,
           1,
           1,
           1,
           1,
           1,
           1,
           1,
           1,
           1,
           1,
           1,
           1,
           1,
           1,
           1,
           1,
           1,
           1,
           1,
           1,
           1,
           1,
           1,
           1,
           1,
           1,
           1,
           1,
           1,
           1,
           1,
           1,
           1,
           1,
           1,
           1,
           1,
           1,
           1,
           1,
           1,
           1,
           1,
           1,
           1,
           1,
           1,
           1,
           1,
           1,
           1,
           1,
           1,
           1,
           1,
           1,
           1,
           1,
           1,
           1,
           1,
           1,
           1,
           1,
           1,
           1,
           1,
           1,
           1,
           1,
           1,
           1,
           1,
           1,
           1,
           1,
           1,
           1,
           1,
           1,
           1,
           1,
           1,
           1,
           1,
           1,
           1,
           1,
           1,
           1,
           1,
           1,
           1,
           1,
           1,
           1,
           1,
           1,
           1,
           1,
           1,
           1,
           1,
           1,
           1,
           1,
           1,
           1,
           1,
           1,
           1,
           1,
           1,
           1,
           1,
           1,
           1,
           1,
           1,
           1,
           1,
           1,
           1,
           1,
           1,
           1,
           1,
           1,
           1,
           1,
           1,
           1,
           1,
           1,
           1,
           1,
           1,
           1,
           1,
           1,
           1,
           1,
           1,
           1,
           1,
           1,
           1,
           1,
           1,
           1,
           1,
           1,
           1,
           1,
           1,
           1,
           1,
           1,
           1,
           1,
           1,
           1,
           1,
           1,
           1,
           1,
           1,
           1,
           1,
           1,
           1,
           1,
           1,
           1,
           1,
           1,
           1,
           1,
           1,
           1,
           1,
           1,
           1,
           1,
           1,
           1,
           1,
           1,
           1,
           1,
           1,
           1,
           1,
           1,
           1,
           1,
           1,
           1,
           1,
           1,
           1,
           1,
           1,
           1,
           1,
           1,
           1,
           1,
           1,
           1,
           1,
           1,
           1,
           1,
           1,
           1,
           1,
           1,
           1,
           1,
           1,
           1,
           1,
           1,
           1,
           1,
           1,
           1
          ],
          "coloraxis": "coloraxis",
          "symbol": "square"
         },
         "mode": "markers",
         "name": "1",
         "scene": "scene",
         "showlegend": true,
         "type": "scatter3d",
         "x": [
          -0.14007947846890403,
          -0.14368202472847066,
          -0.17346582378863054,
          -0.14547667737049477,
          -0.14212299364124376,
          -0.14443976250918866,
          0.16007806798287338,
          -0.17461274340457875,
          -0.22458289889011968,
          -0.17422903255044936,
          -0.09348320026008579,
          -0.1371626975001052,
          -0.171482767700099,
          -0.17403291933438084,
          -0.22066359771560584,
          -0.1987975429063432,
          -0.17408177103684735,
          -0.17459499995137273,
          -0.17468150975857932,
          -0.22467229106175127,
          0.18383529868341802,
          0.23799096346030785,
          0.07419580539984674,
          -0.17442766092300957,
          -0.1700303345495683,
          -0.17436691066503726,
          -0.17473854517982285,
          -0.1687127481291277,
          -0.15394829817222846,
          -0.17353294549253961,
          -0.173810538969456,
          1.575199984135294,
          -0.1400408272678527,
          -0.17109827942638475,
          -0.17445411769866498,
          -0.1748091405759777,
          -0.17406795211321952,
          -0.127916727593893,
          -0.17469033446017146,
          -0.03950755529784999,
          -0.14011847925952323,
          -0.1683505207067193,
          -0.1746697532652306,
          -0.17276282906670723,
          -0.1741561902688703,
          -0.1272627818849676,
          -0.13958193347660053,
          -0.13986929708714213,
          -0.13985223278225253,
          -0.1404433388679886,
          -0.2248462973363705,
          -0.17438608915110582,
          -0.17889506179340375,
          -0.1714874678890833,
          -0.13964926632221172,
          0.4638958686635361,
          -0.17325299182030307,
          -0.15784200258894987,
          -0.1719710605739659,
          -0.1748113497176569,
          -0.1718360346133347,
          -0.1580514274820786,
          -0.12153605509667131,
          -0.1275100615505093,
          -0.17418729789022258,
          -0.17468435876753668,
          -0.04754391691981501,
          -0.14038239588230045,
          -0.1748202491319895,
          -0.14014627163526075,
          0.47778172073095304,
          -0.22423312109024288,
          -0.14443023293182194,
          -0.13988596032495995,
          -0.2245181848621201,
          -0.17294280796013095,
          -0.17213457604040527,
          -0.14475003608679748,
          0.38333992644861115,
          -0.22455360580206107,
          -0.14004195021944305,
          -0.170775728993465,
          -0.09510504632884213,
          -0.17338274592039346,
          0.2786883226893137,
          -0.22371380760088436,
          -0.15934253479923172,
          -0.17363021605491372,
          -0.13409381380574575,
          -0.1746100281068703,
          -0.22451682018926442,
          -0.1748203076612926,
          -0.224666871559299,
          -0.23774696176987123,
          0.3087071307510837,
          -0.14030218619482984,
          -0.10757061511297765,
          -0.17198529442766403,
          -0.14026079277541662,
          -0.17448349700147703,
          -0.1496311352794917,
          -0.14449204526237644,
          -0.14446139115513043,
          -0.10149668825323772,
          -0.21124250673863967,
          -0.2224936482528957,
          0.3087015029324327,
          -0.17480203356850013,
          0.3088322930877091,
          -0.1449710246584371,
          0.49106427084511567,
          -0.14424052952717223,
          -0.1747703030376408,
          -0.21739603428840965,
          -0.1444737766946459,
          -0.17290246919349428,
          -0.14468924246992138,
          -0.1525848644496667,
          -0.1456742982665783,
          -0.18047787554128097,
          -0.17433241276411218,
          -0.10660671683176386,
          -0.17415434502120003,
          -0.14409827066538386,
          -0.1393982732112954,
          -0.0171774856131291,
          -0.1728042229882563,
          0.3448449044270007,
          -0.22372218934824326,
          -0.17447383134010494,
          -0.17423702836097407,
          -0.22411712179189844,
          -0.22469492539350408,
          0.3090967359631236,
          -0.14705479779942845,
          -0.09905681639548408,
          -0.21556105672052256,
          -0.14007864223779454,
          -0.10034329536820957,
          1.5731359690980726,
          -0.17457173063475753,
          -0.174023014534668,
          -0.1737238130801126,
          -0.17371073699410156,
          0.30928047971461864,
          0.06798773716171762,
          -0.17905558121317477,
          -0.17340431445350343,
          -0.14431974130680061,
          -0.15810083682297318,
          -0.1729006773874827,
          -0.22023662738197014,
          -0.17324962519571274,
          -0.14285611330973877,
          -0.17334989744900706,
          -0.11773596764897945,
          1.1471795004661813,
          0.30868425475530387,
          -0.06769521531542762,
          -0.219977860671645,
          -0.1332035921860666,
          -0.09090975824406414,
          1.0966522676143475,
          -0.22466890913706367,
          -0.17340187786145916,
          -0.166435528209161,
          -0.17382228522056037,
          -0.22459427332165605,
          -0.14005802942498868,
          -0.19278203698351873,
          -0.13685594735798393,
          0.31256109112068253,
          0.01833380124332859,
          -0.1576038426065878,
          -0.16444433458069257,
          -0.1743963421442526,
          0.1328633007185989,
          -0.2187315576784793,
          -0.0958631671283243,
          0.31661263775438064,
          -0.17463349922682428,
          -0.1591389434360536,
          -0.14331024137406656,
          -0.14741317777263133,
          -0.22376298372497533,
          0.30886687754186043,
          -0.18053739625301868,
          -0.1448161636793316,
          -0.1538538095807342,
          -0.1497155680445178,
          0.3127977859877382,
          0.5714601560675112,
          2.118508539321827,
          -0.15866179946172448,
          0.32248012055611186,
          -0.19657271244744481,
          -0.157573294521765,
          -0.22465105855580528,
          -0.1746580932003196,
          -0.13308265860535548,
          -0.15068382655877088,
          -0.13136905566745455,
          -0.09988270453116745,
          -0.2246224047802888,
          -0.1960000495731114,
          -0.03900177589046335,
          -0.14911292322085723,
          -0.14007867982346905,
          0.38867799587407564,
          -0.1461156782902461,
          -0.1465079930485563,
          -0.15082546782132553,
          -0.17354969665863915,
          -0.14237856067462398,
          -0.1441524603130813,
          -0.17339774713777395,
          -0.13935438975125697,
          -0.10850582388498235,
          -0.1382216156497648,
          0.5217308834468773,
          -0.09852322828941729,
          -0.09693983492905303,
          -0.15820209470104693,
          -0.13986866719908206,
          0.541453303115587,
          -0.1983582857265693,
          -0.17473498994331116,
          -0.17268942490341813,
          -0.12824533998785806,
          -0.13600239287665436,
          -0.14452522335963072,
          0.33045447018279867,
          -0.14444082002645411
         ],
         "y": [
          -1.3106826898284494,
          -2.0558681742668576,
          -1.1763413137332024,
          -2.1749720309218574,
          -2.0559597977556705,
          -2.0817415014900926,
          -1.8092699779879602,
          -1.1763369568636854,
          -0.8509810573080974,
          -1.1763535220055104,
          -1.80481157358759,
          -1.3106858985208152,
          -1.1763881759056536,
          -1.1763716518427256,
          -0.4174748457535961,
          -1.2407458335233097,
          -1.1763375955345994,
          -1.176336352618989,
          -1.1763338821727316,
          -0.8509827232719563,
          -1.8053977914893713,
          -1.31226476633682,
          -1.1771525724502103,
          -1.1763306539695089,
          -1.176373027057367,
          -1.1763361654865603,
          -1.176334512269952,
          -1.6044558428760938,
          -1.1765977404207584,
          -1.1763339518278542,
          -1.176344952699509,
          -1.179167878462822,
          -1.3106813735805378,
          -1.1763857091503185,
          -1.176330865820574,
          -1.1763301038346403,
          -1.1763328758140508,
          -2.335047182758893,
          -1.1763320188518323,
          -1.18205836767663,
          -1.310684017981466,
          -1.1763414623323558,
          -1.1763388983068501,
          -1.1764317677748835,
          -1.1763422206404088,
          -1.3108436918699693,
          -1.310683671584046,
          -1.3106900037570586,
          -1.310715609261342,
          -1.3106807816446688,
          -0.8509762447824215,
          -1.1763306165061778,
          -1.2836067928733919,
          -1.176398962774726,
          -1.3106845780808454,
          -2.275032839104872,
          -1.1763486200919722,
          -1.1769090901554897,
          -1.1763471842690232,
          -1.1763310597632974,
          -1.1763381852948416,
          -1.1764476193286615,
          -2.167851304946645,
          -1.8045920986456805,
          -1.5508885031725927,
          -1.176327247397645,
          -1.178886434060492,
          -2.233103262497327,
          -1.1763299787126376,
          -1.3106849644373473,
          -1.217504695607718,
          -0.8509781043755437,
          -2.1785733021410976,
          -1.310698675285595,
          -0.8509795426248522,
          -1.1764104973939051,
          -1.1764103729226678,
          -2.055916195439263,
          -2.2691800701862115,
          -0.8509773032597736,
          -1.3106814118221093,
          -1.176336533181173,
          -1.148342894120127,
          -1.1763384845566869,
          -1.3113104205770276,
          -0.8509955646081936,
          -2.1943526441650882,
          -1.1764050403352078,
          -2.3005646207776986,
          -1.1763361752739352,
          -0.8509822526379915,
          -1.1763299786177857,
          -0.8509873625646488,
          -1.6453821075823303,
          -2.2734333915207707,
          -1.3106825117663459,
          -1.80474001638804,
          -1.1763708331295724,
          -1.3106817239265602,
          -1.1763387575345172,
          -2.1337946493634106,
          -2.05591381792646,
          -2.081742238043143,
          -1.1807237695304174,
          -0.8508575350906116,
          -0.8510532461839955,
          -2.2734411635110403,
          -1.176330801967901,
          -2.2734394660021247,
          -2.1785532730664467,
          -0.8955084177751094,
          -2.1750574220029284,
          -1.1763301663755235,
          -0.8514116512894059,
          -2.0817399033402744,
          -1.1763331549112521,
          -2.178551257448954,
          -2.1285531514070657,
          -1.1780934870029613,
          -0.6278830943369628,
          -1.1763374166609604,
          -1.3112511236132383,
          -1.1763564915307363,
          -2.174997447718123,
          -2.3705426708678674,
          -2.2830539924019817,
          -2.1294482432973614,
          -2.273574089148793,
          -0.8510068759901838,
          -1.1763310387863322,
          -1.176361374636594,
          -0.850992760358959,
          -0.8509841142825931,
          -2.273450445054698,
          -2.156372594928709,
          -1.2206925687676256,
          -0.851418074178279,
          -1.3106826613510056,
          -1.181029052096407,
          -1.1168037502639159,
          -1.1763348710720902,
          -1.1763602885939262,
          -1.1763611253791002,
          -1.176360680079331,
          -2.27346823043675,
          -2.08896446808867,
          -0.8506572830308555,
          -1.6044026733173429,
          -2.081737414226235,
          -2.1943973994406307,
          -1.176333093892167,
          -0.8510604572680677,
          -1.6044098096385218,
          -2.056033002302752,
          -1.604404127956333,
          -1.804714066874591,
          -2.303448066522889,
          -2.2734358933557246,
          -2.060171696342691,
          -0.8511894694138016,
          -2.1752428412607037,
          -1.176917628746192,
          -1.2435397734031517,
          -0.8509838485210359,
          -1.6043984556107653,
          -1.60449130919867,
          -1.1763396704223936,
          -0.8509835120236574,
          -1.3106813846642422,
          -1.2499704705057308,
          -2.2619359780407833,
          -2.2735268004114664,
          -1.1766430003078334,
          -2.1943416723576443,
          -1.2838148279129167,
          -1.1763426807341395,
          -1.1785361851539449,
          -0.8511125710894631,
          -2.0587190166746145,
          -2.273846403699542,
          -1.1763376636931493,
          -2.2261957568748696,
          -2.081736803154005,
          -2.133911107174434,
          -0.8510082652229053,
          -2.2734337400427265,
          -0.6278663413440194,
          -2.1785592182512685,
          -2.1207443160462027,
          -2.133790013254815,
          -2.2737006683426784,
          -2.172509415097729,
          -2.338592965727906,
          -2.2503834797537072,
          -2.2736465894174507,
          -1.2156380454118556,
          -2.1602296703637087,
          -0.8509840675740695,
          -1.1763392628896028,
          -2.1757559214270077,
          -2.2411413091948327,
          -0.6072738576079288,
          -1.3107464919931395,
          -0.8509858482700486,
          -1.2156722429738405,
          -2.083373714604131,
          -2.1338201409153443,
          -1.310682662630967,
          -2.2762712338172295,
          -2.1337002826093032,
          -2.133658587945392,
          -2.227881533035915,
          -1.1763689783608433,
          -2.0818379378645466,
          -2.081738530209263,
          -1.5509305275648129,
          -1.3106876295126428,
          -0.3360693443712223,
          -1.3107207220865271,
          -1.2202116699574281,
          -1.604590514361155,
          -2.1367770338624688,
          -1.1764527502277555,
          -1.3106899823065261,
          -1.1863932834140924,
          -1.2407453463866798,
          -1.1763300939646457,
          -1.1763824077626883,
          -1.8046190677368688,
          -2.1727404613018098,
          -2.0559137641586567,
          -2.2736508288536585,
          -2.0817415375033295
         ],
         "z": [
          0.1671993627164584,
          0.27104971692746244,
          0.05039418727974961,
          0.41176579556491405,
          0.27102911919518224,
          0.23538473646941452,
          0.3137319253774108,
          0.050426725378788874,
          -0.03417273900516033,
          0.05042000538298588,
          0.3199616632235118,
          0.16711444312485133,
          0.05034877292197201,
          0.050419235502072626,
          0.05228579675888205,
          0.14923757092354448,
          0.05041128161543661,
          0.05042603679121134,
          0.05042790047063376,
          -0.03416964992426386,
          0.3119652969754062,
          0.15651373354824663,
          0.0433323064977909,
          0.050419542701541774,
          0.05030186870510637,
          0.050419275374672876,
          0.05042975205821126,
          0.22484115761423878,
          0.04989073991823552,
          0.05039413179649198,
          0.0504053313762973,
          -0.0002677557456155819,
          0.1671978627414192,
          0.05033678203633387,
          0.05042037941120565,
          0.05043061317767456,
          0.05040957364073823,
          0.29034157701105107,
          0.05042764626299537,
          0.04802994078390437,
          0.16720087625836055,
          0.05024374886230312,
          0.05042893781632208,
          0.050398449517913946,
          0.05041474620940583,
          0.16686672372914643,
          0.16718499690783403,
          0.1671951965130934,
          0.1672017552074627,
          0.16720954039814456,
          -0.034166317530663716,
          0.05041830943376257,
          0.14594828430638276,
          0.05035188565441907,
          0.16718722763663543,
          0.40080640975812276,
          0.05038994101539655,
          0.05009113721280506,
          0.0503518338854656,
          0.05043094176112903,
          0.05034538030513812,
          0.04997004800700041,
          0.34594490587668136,
          0.32090212826234077,
          0.1548122028962251,
          0.0504261547510094,
          0.04739169395934442,
          0.3957352602647565,
          0.050430905461320744,
          0.167201954824323,
          0.0425868643961323,
          -0.03418384285838683,
          0.4096161706630366,
          0.1671980778661341,
          -0.03417506040150894,
          0.050397878766773326,
          0.05037406828702056,
          0.2710943769181428,
          0.21940231138109026,
          -0.0341746359081651,
          0.1671979063209021,
          0.050313733203683604,
          0.18898030305600164,
          0.05039096319549721,
          0.1550533596987552,
          -0.034194305123691454,
          0.400566194308601,
          0.05041659581309236,
          0.11082136470104746,
          0.050426429979212414,
          -0.03417435326427709,
          0.05043090715695103,
          -0.03416853007370663,
          -0.17582997177486734,
          0.40493062787053785,
          0.16720586511907662,
          0.3203563478519478,
          0.050358773751317275,
          0.16720443018268047,
          0.05042341980617381,
          0.4788717804911353,
          0.2710861318788637,
          0.23538557583347464,
          0.0494854920313707,
          -0.03459924098581745,
          -0.03421429353585954,
          0.40493293654274043,
          0.05043059661664041,
          0.4049286209384361,
          0.4096265564095046,
          -0.042946924841362796,
          0.4117529776701803,
          0.050429487920220596,
          -0.03426542283301929,
          0.23538529639381617,
          0.05037536501558941,
          0.4096177112800811,
          0.49623352885666194,
          0.050059789695178165,
          0.006831354297128764,
          0.05041860554256987,
          0.16637142283298584,
          0.050418627105700164,
          0.41173225494254073,
          0.23186469640471744,
          0.2350102450447953,
          0.3599609726415702,
          0.4039063423424533,
          -0.03419093945529259,
          0.0504210070321937,
          0.05042240595216971,
          -0.03418321389919602,
          -0.034168600509648,
          0.40492386915096806,
          0.35564739934739603,
          0.11684311404729072,
          -0.034317632170097576,
          0.16719933026401723,
          0.049535743361914505,
          -0.017403862250578488,
          0.05042494373167983,
          0.05041581072708863,
          0.05040723971273226,
          0.050406732256247734,
          0.4049233681656452,
          0.231127375295111,
          -0.03560131888425517,
          0.22496451030006157,
          0.2353800786889907,
          0.4005420078740343,
          0.050375295479217604,
          -0.034278700985152746,
          0.2249619275608646,
          0.27107087179363265,
          0.22496331060295274,
          0.3206482314972091,
          0.38854137901342056,
          0.404931990702618,
          0.2700010659175109,
          -0.03425073832704408,
          0.41147942775284735,
          0.048124512877059905,
          0.12838713965529178,
          -0.034169439126086644,
          0.22496327559470325,
          0.22478394730365495,
          0.05040422034073357,
          -0.0341717275133771,
          0.16719837184207575,
          0.08939061430102276,
          0.34856761813458886,
          0.40484301139394596,
          0.044835112788989696,
          0.40051202088172677,
          0.145580545520293,
          0.05042193774578752,
          0.04198798520125914,
          -0.03430860604656219,
          0.27042912197863667,
          0.4048119552262868,
          0.050427530870323964,
          0.3989794630877917,
          0.2353502132292703,
          0.4788386468264267,
          -0.0341893563079355,
          0.40492602462487315,
          0.006828485631939194,
          0.40962364016444613,
          0.46554888788307314,
          0.47887298589070054,
          0.40488399227299876,
          0.4791232768551014,
          0.3696584724384428,
          0.4249012190532453,
          0.4045842500709393,
          0.23589073025202562,
          0.4451784862869164,
          -0.034169903841858966,
          0.05042869533964695,
          0.41161735135732674,
          0.4590190217559091,
          0.08359227199598465,
          0.16603446775509165,
          -0.034170255739577986,
          0.23588331387765435,
          0.23273309579414614,
          0.47886356525267554,
          0.16719933172264134,
          0.40336061669685586,
          0.45714016736914725,
          0.4571402110382531,
          0.2847427135721303,
          0.050404283093269685,
          0.23535069327936145,
          0.2353754654323235,
          0.15480056446211476,
          0.16717939453534714,
          -0.036356224381145746,
          0.16715519639379253,
          0.04204043474619571,
          0.22281349337522055,
          0.4565419473618998,
          0.04997589509742401,
          0.16719517206841022,
          0.032134875897999134,
          0.14922451475118803,
          0.05042842913030701,
          0.05038267919432413,
          0.32093119500144784,
          0.4798153177780208,
          0.2710870930689133,
          0.40435083371412917,
          0.23538477750952416
         ]
        },
        {
         "customdata": [
          [
           "VeChainThor Authority"
          ],
          [
           "Proof-of-BibleHash"
          ],
          [
           "SHA-256 + Hive"
          ],
          [
           "Proof-of-Authority"
          ],
          [
           "Leased POS"
          ]
         ],
         "hovertemplate": "<b>%{hovertext}</b><br><br>Class=%{marker.color}<br>PC_1=%{x}<br>PC_2=%{y}<br>PC_3=%{z}<br>Algorithm=%{customdata[0]}<extra></extra>",
         "hovertext": [
          "Vechain",
          "BiblePay",
          "LitecoinCash",
          "Poa Network",
          "Waves"
         ],
         "legendgroup": "3",
         "marker": {
          "color": [
           3,
           3,
           3,
           3,
           3
          ],
          "coloraxis": "coloraxis",
          "symbol": "x"
         },
         "mode": "markers",
         "name": "3",
         "scene": "scene",
         "showlegend": true,
         "type": "scatter3d",
         "x": [
          4.401741374495245,
          -0.2107869362147916,
          -0.36636424125764977,
          -0.38965250765896375,
          -0.3962897620136106
         ],
         "y": [
          2.7734190009517627,
          2.9612219446904877,
          3.13992520180844,
          3.386163866947041,
          3.6876345980607668
         ],
         "z": [
          9.94850190279532,
          16.876802121774986,
          20.523914663977063,
          9.668943746807459,
          10.280272527840339
         ]
        },
        {
         "customdata": [
          [
           "TRC10"
          ]
         ],
         "hovertemplate": "<b>%{hovertext}</b><br><br>Class=%{marker.color}<br>PC_1=%{x}<br>PC_2=%{y}<br>PC_3=%{z}<br>Algorithm=%{customdata[0]}<extra></extra>",
         "hovertext": [
          "BitTorrent"
         ],
         "legendgroup": "2",
         "marker": {
          "color": [
           2
          ],
          "coloraxis": "coloraxis",
          "symbol": "cross"
         },
         "mode": "markers",
         "name": "2",
         "scene": "scene",
         "showlegend": true,
         "type": "scatter3d",
         "x": [
          34.07307108635264
         ],
         "y": [
          1.7631972672926781
         ],
         "z": [
          -1.4661497513541055
         ]
        }
       ],
       "layout": {
        "coloraxis": {
         "colorbar": {
          "title": {
           "text": "Class"
          }
         },
         "colorscale": [
          [
           0,
           "#0d0887"
          ],
          [
           0.1111111111111111,
           "#46039f"
          ],
          [
           0.2222222222222222,
           "#7201a8"
          ],
          [
           0.3333333333333333,
           "#9c179e"
          ],
          [
           0.4444444444444444,
           "#bd3786"
          ],
          [
           0.5555555555555556,
           "#d8576b"
          ],
          [
           0.6666666666666666,
           "#ed7953"
          ],
          [
           0.7777777777777778,
           "#fb9f3a"
          ],
          [
           0.8888888888888888,
           "#fdca26"
          ],
          [
           1,
           "#f0f921"
          ]
         ]
        },
        "legend": {
         "title": {
          "text": "Class"
         },
         "tracegroupgap": 0,
         "x": 0,
         "y": 1
        },
        "margin": {
         "t": 60
        },
        "scene": {
         "domain": {
          "x": [
           0,
           1
          ],
          "y": [
           0,
           1
          ]
         },
         "xaxis": {
          "title": {
           "text": "PC_1"
          }
         },
         "yaxis": {
          "title": {
           "text": "PC_2"
          }
         },
         "zaxis": {
          "title": {
           "text": "PC_3"
          }
         }
        },
        "template": {
         "data": {
          "bar": [
           {
            "error_x": {
             "color": "#2a3f5f"
            },
            "error_y": {
             "color": "#2a3f5f"
            },
            "marker": {
             "line": {
              "color": "#E5ECF6",
              "width": 0.5
             }
            },
            "type": "bar"
           }
          ],
          "barpolar": [
           {
            "marker": {
             "line": {
              "color": "#E5ECF6",
              "width": 0.5
             }
            },
            "type": "barpolar"
           }
          ],
          "carpet": [
           {
            "aaxis": {
             "endlinecolor": "#2a3f5f",
             "gridcolor": "white",
             "linecolor": "white",
             "minorgridcolor": "white",
             "startlinecolor": "#2a3f5f"
            },
            "baxis": {
             "endlinecolor": "#2a3f5f",
             "gridcolor": "white",
             "linecolor": "white",
             "minorgridcolor": "white",
             "startlinecolor": "#2a3f5f"
            },
            "type": "carpet"
           }
          ],
          "choropleth": [
           {
            "colorbar": {
             "outlinewidth": 0,
             "ticks": ""
            },
            "type": "choropleth"
           }
          ],
          "contour": [
           {
            "colorbar": {
             "outlinewidth": 0,
             "ticks": ""
            },
            "colorscale": [
             [
              0,
              "#0d0887"
             ],
             [
              0.1111111111111111,
              "#46039f"
             ],
             [
              0.2222222222222222,
              "#7201a8"
             ],
             [
              0.3333333333333333,
              "#9c179e"
             ],
             [
              0.4444444444444444,
              "#bd3786"
             ],
             [
              0.5555555555555556,
              "#d8576b"
             ],
             [
              0.6666666666666666,
              "#ed7953"
             ],
             [
              0.7777777777777778,
              "#fb9f3a"
             ],
             [
              0.8888888888888888,
              "#fdca26"
             ],
             [
              1,
              "#f0f921"
             ]
            ],
            "type": "contour"
           }
          ],
          "contourcarpet": [
           {
            "colorbar": {
             "outlinewidth": 0,
             "ticks": ""
            },
            "type": "contourcarpet"
           }
          ],
          "heatmap": [
           {
            "colorbar": {
             "outlinewidth": 0,
             "ticks": ""
            },
            "colorscale": [
             [
              0,
              "#0d0887"
             ],
             [
              0.1111111111111111,
              "#46039f"
             ],
             [
              0.2222222222222222,
              "#7201a8"
             ],
             [
              0.3333333333333333,
              "#9c179e"
             ],
             [
              0.4444444444444444,
              "#bd3786"
             ],
             [
              0.5555555555555556,
              "#d8576b"
             ],
             [
              0.6666666666666666,
              "#ed7953"
             ],
             [
              0.7777777777777778,
              "#fb9f3a"
             ],
             [
              0.8888888888888888,
              "#fdca26"
             ],
             [
              1,
              "#f0f921"
             ]
            ],
            "type": "heatmap"
           }
          ],
          "heatmapgl": [
           {
            "colorbar": {
             "outlinewidth": 0,
             "ticks": ""
            },
            "colorscale": [
             [
              0,
              "#0d0887"
             ],
             [
              0.1111111111111111,
              "#46039f"
             ],
             [
              0.2222222222222222,
              "#7201a8"
             ],
             [
              0.3333333333333333,
              "#9c179e"
             ],
             [
              0.4444444444444444,
              "#bd3786"
             ],
             [
              0.5555555555555556,
              "#d8576b"
             ],
             [
              0.6666666666666666,
              "#ed7953"
             ],
             [
              0.7777777777777778,
              "#fb9f3a"
             ],
             [
              0.8888888888888888,
              "#fdca26"
             ],
             [
              1,
              "#f0f921"
             ]
            ],
            "type": "heatmapgl"
           }
          ],
          "histogram": [
           {
            "marker": {
             "colorbar": {
              "outlinewidth": 0,
              "ticks": ""
             }
            },
            "type": "histogram"
           }
          ],
          "histogram2d": [
           {
            "colorbar": {
             "outlinewidth": 0,
             "ticks": ""
            },
            "colorscale": [
             [
              0,
              "#0d0887"
             ],
             [
              0.1111111111111111,
              "#46039f"
             ],
             [
              0.2222222222222222,
              "#7201a8"
             ],
             [
              0.3333333333333333,
              "#9c179e"
             ],
             [
              0.4444444444444444,
              "#bd3786"
             ],
             [
              0.5555555555555556,
              "#d8576b"
             ],
             [
              0.6666666666666666,
              "#ed7953"
             ],
             [
              0.7777777777777778,
              "#fb9f3a"
             ],
             [
              0.8888888888888888,
              "#fdca26"
             ],
             [
              1,
              "#f0f921"
             ]
            ],
            "type": "histogram2d"
           }
          ],
          "histogram2dcontour": [
           {
            "colorbar": {
             "outlinewidth": 0,
             "ticks": ""
            },
            "colorscale": [
             [
              0,
              "#0d0887"
             ],
             [
              0.1111111111111111,
              "#46039f"
             ],
             [
              0.2222222222222222,
              "#7201a8"
             ],
             [
              0.3333333333333333,
              "#9c179e"
             ],
             [
              0.4444444444444444,
              "#bd3786"
             ],
             [
              0.5555555555555556,
              "#d8576b"
             ],
             [
              0.6666666666666666,
              "#ed7953"
             ],
             [
              0.7777777777777778,
              "#fb9f3a"
             ],
             [
              0.8888888888888888,
              "#fdca26"
             ],
             [
              1,
              "#f0f921"
             ]
            ],
            "type": "histogram2dcontour"
           }
          ],
          "mesh3d": [
           {
            "colorbar": {
             "outlinewidth": 0,
             "ticks": ""
            },
            "type": "mesh3d"
           }
          ],
          "parcoords": [
           {
            "line": {
             "colorbar": {
              "outlinewidth": 0,
              "ticks": ""
             }
            },
            "type": "parcoords"
           }
          ],
          "pie": [
           {
            "automargin": true,
            "type": "pie"
           }
          ],
          "scatter": [
           {
            "marker": {
             "colorbar": {
              "outlinewidth": 0,
              "ticks": ""
             }
            },
            "type": "scatter"
           }
          ],
          "scatter3d": [
           {
            "line": {
             "colorbar": {
              "outlinewidth": 0,
              "ticks": ""
             }
            },
            "marker": {
             "colorbar": {
              "outlinewidth": 0,
              "ticks": ""
             }
            },
            "type": "scatter3d"
           }
          ],
          "scattercarpet": [
           {
            "marker": {
             "colorbar": {
              "outlinewidth": 0,
              "ticks": ""
             }
            },
            "type": "scattercarpet"
           }
          ],
          "scattergeo": [
           {
            "marker": {
             "colorbar": {
              "outlinewidth": 0,
              "ticks": ""
             }
            },
            "type": "scattergeo"
           }
          ],
          "scattergl": [
           {
            "marker": {
             "colorbar": {
              "outlinewidth": 0,
              "ticks": ""
             }
            },
            "type": "scattergl"
           }
          ],
          "scattermapbox": [
           {
            "marker": {
             "colorbar": {
              "outlinewidth": 0,
              "ticks": ""
             }
            },
            "type": "scattermapbox"
           }
          ],
          "scatterpolar": [
           {
            "marker": {
             "colorbar": {
              "outlinewidth": 0,
              "ticks": ""
             }
            },
            "type": "scatterpolar"
           }
          ],
          "scatterpolargl": [
           {
            "marker": {
             "colorbar": {
              "outlinewidth": 0,
              "ticks": ""
             }
            },
            "type": "scatterpolargl"
           }
          ],
          "scatterternary": [
           {
            "marker": {
             "colorbar": {
              "outlinewidth": 0,
              "ticks": ""
             }
            },
            "type": "scatterternary"
           }
          ],
          "surface": [
           {
            "colorbar": {
             "outlinewidth": 0,
             "ticks": ""
            },
            "colorscale": [
             [
              0,
              "#0d0887"
             ],
             [
              0.1111111111111111,
              "#46039f"
             ],
             [
              0.2222222222222222,
              "#7201a8"
             ],
             [
              0.3333333333333333,
              "#9c179e"
             ],
             [
              0.4444444444444444,
              "#bd3786"
             ],
             [
              0.5555555555555556,
              "#d8576b"
             ],
             [
              0.6666666666666666,
              "#ed7953"
             ],
             [
              0.7777777777777778,
              "#fb9f3a"
             ],
             [
              0.8888888888888888,
              "#fdca26"
             ],
             [
              1,
              "#f0f921"
             ]
            ],
            "type": "surface"
           }
          ],
          "table": [
           {
            "cells": {
             "fill": {
              "color": "#EBF0F8"
             },
             "line": {
              "color": "white"
             }
            },
            "header": {
             "fill": {
              "color": "#C8D4E3"
             },
             "line": {
              "color": "white"
             }
            },
            "type": "table"
           }
          ]
         },
         "layout": {
          "annotationdefaults": {
           "arrowcolor": "#2a3f5f",
           "arrowhead": 0,
           "arrowwidth": 1
          },
          "autotypenumbers": "strict",
          "coloraxis": {
           "colorbar": {
            "outlinewidth": 0,
            "ticks": ""
           }
          },
          "colorscale": {
           "diverging": [
            [
             0,
             "#8e0152"
            ],
            [
             0.1,
             "#c51b7d"
            ],
            [
             0.2,
             "#de77ae"
            ],
            [
             0.3,
             "#f1b6da"
            ],
            [
             0.4,
             "#fde0ef"
            ],
            [
             0.5,
             "#f7f7f7"
            ],
            [
             0.6,
             "#e6f5d0"
            ],
            [
             0.7,
             "#b8e186"
            ],
            [
             0.8,
             "#7fbc41"
            ],
            [
             0.9,
             "#4d9221"
            ],
            [
             1,
             "#276419"
            ]
           ],
           "sequential": [
            [
             0,
             "#0d0887"
            ],
            [
             0.1111111111111111,
             "#46039f"
            ],
            [
             0.2222222222222222,
             "#7201a8"
            ],
            [
             0.3333333333333333,
             "#9c179e"
            ],
            [
             0.4444444444444444,
             "#bd3786"
            ],
            [
             0.5555555555555556,
             "#d8576b"
            ],
            [
             0.6666666666666666,
             "#ed7953"
            ],
            [
             0.7777777777777778,
             "#fb9f3a"
            ],
            [
             0.8888888888888888,
             "#fdca26"
            ],
            [
             1,
             "#f0f921"
            ]
           ],
           "sequentialminus": [
            [
             0,
             "#0d0887"
            ],
            [
             0.1111111111111111,
             "#46039f"
            ],
            [
             0.2222222222222222,
             "#7201a8"
            ],
            [
             0.3333333333333333,
             "#9c179e"
            ],
            [
             0.4444444444444444,
             "#bd3786"
            ],
            [
             0.5555555555555556,
             "#d8576b"
            ],
            [
             0.6666666666666666,
             "#ed7953"
            ],
            [
             0.7777777777777778,
             "#fb9f3a"
            ],
            [
             0.8888888888888888,
             "#fdca26"
            ],
            [
             1,
             "#f0f921"
            ]
           ]
          },
          "colorway": [
           "#636efa",
           "#EF553B",
           "#00cc96",
           "#ab63fa",
           "#FFA15A",
           "#19d3f3",
           "#FF6692",
           "#B6E880",
           "#FF97FF",
           "#FECB52"
          ],
          "font": {
           "color": "#2a3f5f"
          },
          "geo": {
           "bgcolor": "white",
           "lakecolor": "white",
           "landcolor": "#E5ECF6",
           "showlakes": true,
           "showland": true,
           "subunitcolor": "white"
          },
          "hoverlabel": {
           "align": "left"
          },
          "hovermode": "closest",
          "mapbox": {
           "style": "light"
          },
          "paper_bgcolor": "white",
          "plot_bgcolor": "#E5ECF6",
          "polar": {
           "angularaxis": {
            "gridcolor": "white",
            "linecolor": "white",
            "ticks": ""
           },
           "bgcolor": "#E5ECF6",
           "radialaxis": {
            "gridcolor": "white",
            "linecolor": "white",
            "ticks": ""
           }
          },
          "scene": {
           "xaxis": {
            "backgroundcolor": "#E5ECF6",
            "gridcolor": "white",
            "gridwidth": 2,
            "linecolor": "white",
            "showbackground": true,
            "ticks": "",
            "zerolinecolor": "white"
           },
           "yaxis": {
            "backgroundcolor": "#E5ECF6",
            "gridcolor": "white",
            "gridwidth": 2,
            "linecolor": "white",
            "showbackground": true,
            "ticks": "",
            "zerolinecolor": "white"
           },
           "zaxis": {
            "backgroundcolor": "#E5ECF6",
            "gridcolor": "white",
            "gridwidth": 2,
            "linecolor": "white",
            "showbackground": true,
            "ticks": "",
            "zerolinecolor": "white"
           }
          },
          "shapedefaults": {
           "line": {
            "color": "#2a3f5f"
           }
          },
          "ternary": {
           "aaxis": {
            "gridcolor": "white",
            "linecolor": "white",
            "ticks": ""
           },
           "baxis": {
            "gridcolor": "white",
            "linecolor": "white",
            "ticks": ""
           },
           "bgcolor": "#E5ECF6",
           "caxis": {
            "gridcolor": "white",
            "linecolor": "white",
            "ticks": ""
           }
          },
          "title": {
           "x": 0.05
          },
          "xaxis": {
           "automargin": true,
           "gridcolor": "white",
           "linecolor": "white",
           "ticks": "",
           "title": {
            "standoff": 15
           },
           "zerolinecolor": "white",
           "zerolinewidth": 2
          },
          "yaxis": {
           "automargin": true,
           "gridcolor": "white",
           "linecolor": "white",
           "ticks": "",
           "title": {
            "standoff": 15
           },
           "zerolinecolor": "white",
           "zerolinewidth": 2
          }
         }
        },
        "width": 800
       }
      }
     },
     "metadata": {},
     "output_type": "display_data"
    }
   ],
   "source": [
    "# Creating a 3D-Scatter with the PCA data and the clusters\r\n",
    "\r\n",
    "fig = px.scatter_3d(\r\n",
    "    clustered_df,\r\n",
    "    x=\"PC_1\",\r\n",
    "    y='PC_2',\r\n",
    "    z='PC_3',\r\n",
    "    color='Class',\r\n",
    "    symbol='Class',\r\n",
    "    width=800,\r\n",
    "    hover_name= 'CoinName',\r\n",
    "    hover_data=['Algorithm']\r\n",
    ")\r\n",
    "fig.update_layout(legend=dict(x=0, y=1))\r\n",
    "fig.show()"
   ]
  },
  {
   "cell_type": "code",
   "execution_count": 69,
   "metadata": {},
   "outputs": [
    {
     "data": {
      "text/html": [
       "<div>\n",
       "<style scoped>\n",
       "    .dataframe tbody tr th:only-of-type {\n",
       "        vertical-align: middle;\n",
       "    }\n",
       "\n",
       "    .dataframe tbody tr th {\n",
       "        vertical-align: top;\n",
       "    }\n",
       "\n",
       "    .dataframe thead th {\n",
       "        text-align: right;\n",
       "    }\n",
       "</style>\n",
       "<table border=\"1\" class=\"dataframe\">\n",
       "  <thead>\n",
       "    <tr style=\"text-align: right;\">\n",
       "      <th></th>\n",
       "      <th>Algorithm</th>\n",
       "      <th>ProofType</th>\n",
       "      <th>TotalCoinsMined</th>\n",
       "      <th>TotalCoinSupply</th>\n",
       "      <th>PC_1</th>\n",
       "      <th>PC_2</th>\n",
       "      <th>PC_3</th>\n",
       "      <th>CoinName</th>\n",
       "      <th>Class</th>\n",
       "    </tr>\n",
       "    <tr>\n",
       "      <th></th>\n",
       "      <th></th>\n",
       "      <th></th>\n",
       "      <th></th>\n",
       "      <th></th>\n",
       "      <th></th>\n",
       "      <th></th>\n",
       "      <th></th>\n",
       "      <th></th>\n",
       "      <th></th>\n",
       "    </tr>\n",
       "  </thead>\n",
       "  <tbody>\n",
       "    <tr>\n",
       "      <th>42</th>\n",
       "      <td>Scrypt</td>\n",
       "      <td>PoW/PoS</td>\n",
       "      <td>4.199995e+01</td>\n",
       "      <td>42</td>\n",
       "      <td>-0.342809</td>\n",
       "      <td>0.980233</td>\n",
       "      <td>-0.467273</td>\n",
       "      <td>42 Coin</td>\n",
       "      <td>0</td>\n",
       "    </tr>\n",
       "    <tr>\n",
       "      <th>404</th>\n",
       "      <td>Scrypt</td>\n",
       "      <td>PoW/PoS</td>\n",
       "      <td>1.055185e+09</td>\n",
       "      <td>532000000</td>\n",
       "      <td>-0.326138</td>\n",
       "      <td>0.980434</td>\n",
       "      <td>-0.467819</td>\n",
       "      <td>404Coin</td>\n",
       "      <td>0</td>\n",
       "    </tr>\n",
       "    <tr>\n",
       "      <th>1337</th>\n",
       "      <td>X13</td>\n",
       "      <td>PoW/PoS</td>\n",
       "      <td>2.927942e+10</td>\n",
       "      <td>314159265359</td>\n",
       "      <td>2.309896</td>\n",
       "      <td>1.692079</td>\n",
       "      <td>-0.594735</td>\n",
       "      <td>EliteCoin</td>\n",
       "      <td>4</td>\n",
       "    </tr>\n",
       "    <tr>\n",
       "      <th>BTC</th>\n",
       "      <td>SHA-256</td>\n",
       "      <td>PoW</td>\n",
       "      <td>1.792718e+07</td>\n",
       "      <td>21000000</td>\n",
       "      <td>-0.140079</td>\n",
       "      <td>-1.310683</td>\n",
       "      <td>0.167199</td>\n",
       "      <td>Bitcoin</td>\n",
       "      <td>1</td>\n",
       "    </tr>\n",
       "    <tr>\n",
       "      <th>ETH</th>\n",
       "      <td>Ethash</td>\n",
       "      <td>PoW</td>\n",
       "      <td>1.076842e+08</td>\n",
       "      <td>0</td>\n",
       "      <td>-0.143682</td>\n",
       "      <td>-2.055868</td>\n",
       "      <td>0.271050</td>\n",
       "      <td>Ethereum</td>\n",
       "      <td>1</td>\n",
       "    </tr>\n",
       "    <tr>\n",
       "      <th>...</th>\n",
       "      <td>...</td>\n",
       "      <td>...</td>\n",
       "      <td>...</td>\n",
       "      <td>...</td>\n",
       "      <td>...</td>\n",
       "      <td>...</td>\n",
       "      <td>...</td>\n",
       "      <td>...</td>\n",
       "      <td>...</td>\n",
       "    </tr>\n",
       "    <tr>\n",
       "      <th>ZEPH</th>\n",
       "      <td>SHA-256</td>\n",
       "      <td>DPoS</td>\n",
       "      <td>2.000000e+09</td>\n",
       "      <td>2000000000</td>\n",
       "      <td>2.470107</td>\n",
       "      <td>0.775783</td>\n",
       "      <td>-0.159999</td>\n",
       "      <td>ZEPHYR</td>\n",
       "      <td>4</td>\n",
       "    </tr>\n",
       "    <tr>\n",
       "      <th>GAP</th>\n",
       "      <td>Scrypt</td>\n",
       "      <td>PoW/PoS</td>\n",
       "      <td>1.493105e+07</td>\n",
       "      <td>250000000</td>\n",
       "      <td>-0.340853</td>\n",
       "      <td>0.980127</td>\n",
       "      <td>-0.467301</td>\n",
       "      <td>Gapcoin</td>\n",
       "      <td>0</td>\n",
       "    </tr>\n",
       "    <tr>\n",
       "      <th>BDX</th>\n",
       "      <td>CryptoNight</td>\n",
       "      <td>PoW</td>\n",
       "      <td>9.802226e+08</td>\n",
       "      <td>1400222610</td>\n",
       "      <td>0.330454</td>\n",
       "      <td>-2.273651</td>\n",
       "      <td>0.404351</td>\n",
       "      <td>Beldex</td>\n",
       "      <td>1</td>\n",
       "    </tr>\n",
       "    <tr>\n",
       "      <th>ZEN</th>\n",
       "      <td>Equihash</td>\n",
       "      <td>PoW</td>\n",
       "      <td>7.296538e+06</td>\n",
       "      <td>21000000</td>\n",
       "      <td>-0.144441</td>\n",
       "      <td>-2.081742</td>\n",
       "      <td>0.235385</td>\n",
       "      <td>Horizen</td>\n",
       "      <td>1</td>\n",
       "    </tr>\n",
       "    <tr>\n",
       "      <th>XBC</th>\n",
       "      <td>Scrypt</td>\n",
       "      <td>PoS</td>\n",
       "      <td>1.283270e+05</td>\n",
       "      <td>1000000</td>\n",
       "      <td>-0.298604</td>\n",
       "      <td>0.773202</td>\n",
       "      <td>-0.196258</td>\n",
       "      <td>BitcoinPlus</td>\n",
       "      <td>0</td>\n",
       "    </tr>\n",
       "  </tbody>\n",
       "</table>\n",
       "<p>532 rows × 9 columns</p>\n",
       "</div>"
      ],
      "text/plain": [
       "        Algorithm ProofType  TotalCoinsMined TotalCoinSupply      PC_1  \\\n",
       "                                                                         \n",
       "42         Scrypt   PoW/PoS     4.199995e+01              42 -0.342809   \n",
       "404        Scrypt   PoW/PoS     1.055185e+09       532000000 -0.326138   \n",
       "1337          X13   PoW/PoS     2.927942e+10    314159265359  2.309896   \n",
       "BTC       SHA-256       PoW     1.792718e+07        21000000 -0.140079   \n",
       "ETH        Ethash       PoW     1.076842e+08               0 -0.143682   \n",
       "...           ...       ...              ...             ...       ...   \n",
       "ZEPH      SHA-256      DPoS     2.000000e+09      2000000000  2.470107   \n",
       "GAP        Scrypt   PoW/PoS     1.493105e+07       250000000 -0.340853   \n",
       "BDX   CryptoNight       PoW     9.802226e+08      1400222610  0.330454   \n",
       "ZEN      Equihash       PoW     7.296538e+06        21000000 -0.144441   \n",
       "XBC        Scrypt       PoS     1.283270e+05         1000000 -0.298604   \n",
       "\n",
       "          PC_2      PC_3     CoinName  Class  \n",
       "                                              \n",
       "42    0.980233 -0.467273      42 Coin      0  \n",
       "404   0.980434 -0.467819      404Coin      0  \n",
       "1337  1.692079 -0.594735    EliteCoin      4  \n",
       "BTC  -1.310683  0.167199      Bitcoin      1  \n",
       "ETH  -2.055868  0.271050     Ethereum      1  \n",
       "...        ...       ...          ...    ...  \n",
       "ZEPH  0.775783 -0.159999       ZEPHYR      4  \n",
       "GAP   0.980127 -0.467301      Gapcoin      0  \n",
       "BDX  -2.273651  0.404351       Beldex      1  \n",
       "ZEN  -2.081742  0.235385      Horizen      1  \n",
       "XBC   0.773202 -0.196258  BitcoinPlus      0  \n",
       "\n",
       "[532 rows x 9 columns]"
      ]
     },
     "execution_count": 69,
     "metadata": {},
     "output_type": "execute_result"
    }
   ],
   "source": [
    "# Create a table with tradable cryptocurrencies.\r\n",
    "clustered_df.hvplot.table(\r\n",
    "    columns=[\"CoinName\", \"Algorithm\", \"ProofType\", \"TotalCoinSupply\", \"TotalCoinsMined\", \"Class\"], width=1000, height=600,)\r\n",
    "clustered_df"
   ]
  },
  {
   "cell_type": "code",
   "execution_count": 70,
   "metadata": {},
   "outputs": [
    {
     "name": "stdout",
     "output_type": "stream",
     "text": [
      "There are 532 tradable currencies\n"
     ]
    }
   ],
   "source": [
    "# Print the total number of tradable cryptocurrencies.\r\n",
    "total_tradable_currencies = clustered_df['Class'].count()\r\n",
    "\r\n",
    "print(f'There are {total_tradable_currencies} tradable currencies' )"
   ]
  },
  {
   "cell_type": "code",
   "execution_count": 71,
   "metadata": {},
   "outputs": [
    {
     "data": {
      "text/plain": [
       "array([[4.20000000e-11, 0.00000000e+00],\n",
       "       [5.32000000e-04, 1.06585544e-03],\n",
       "       [3.14159265e-01, 2.95755135e-02],\n",
       "       ...,\n",
       "       [1.40022261e-03, 9.90135079e-04],\n",
       "       [2.10000000e-05, 7.37028150e-06],\n",
       "       [1.00000000e-06, 1.29582282e-07]])"
      ]
     },
     "execution_count": 71,
     "metadata": {},
     "output_type": "execute_result"
    }
   ],
   "source": [
    "# Scaling data to create the scatter plot with tradable cryptocurrencies.\r\n",
    "tradable_cluster = clustered_df[['TotalCoinSupply', 'TotalCoinsMined']]\r\n",
    "scaler = MinMaxScaler().fit_transform(tradable_cluster)\r\n",
    "scaler"
   ]
  },
  {
   "cell_type": "code",
   "execution_count": 72,
   "metadata": {},
   "outputs": [
    {
     "data": {
      "text/html": [
       "<div>\n",
       "<style scoped>\n",
       "    .dataframe tbody tr th:only-of-type {\n",
       "        vertical-align: middle;\n",
       "    }\n",
       "\n",
       "    .dataframe tbody tr th {\n",
       "        vertical-align: top;\n",
       "    }\n",
       "\n",
       "    .dataframe thead th {\n",
       "        text-align: right;\n",
       "    }\n",
       "</style>\n",
       "<table border=\"1\" class=\"dataframe\">\n",
       "  <thead>\n",
       "    <tr style=\"text-align: right;\">\n",
       "      <th></th>\n",
       "      <th>CoinName</th>\n",
       "      <th>TotalCoinSupply</th>\n",
       "      <th>TotalCoinsMined</th>\n",
       "      <th>PC 1</th>\n",
       "      <th>PC 2</th>\n",
       "      <th>PC 3</th>\n",
       "      <th>Class</th>\n",
       "    </tr>\n",
       "    <tr>\n",
       "      <th></th>\n",
       "      <th></th>\n",
       "      <th></th>\n",
       "      <th></th>\n",
       "      <th></th>\n",
       "      <th></th>\n",
       "      <th></th>\n",
       "      <th></th>\n",
       "    </tr>\n",
       "  </thead>\n",
       "  <tbody>\n",
       "    <tr>\n",
       "      <th>42</th>\n",
       "      <td>42 Coin</td>\n",
       "      <td>42</td>\n",
       "      <td>4.199995e+01</td>\n",
       "      <td>-0.342809</td>\n",
       "      <td>0.980233</td>\n",
       "      <td>-0.467273</td>\n",
       "      <td>0</td>\n",
       "    </tr>\n",
       "    <tr>\n",
       "      <th>404</th>\n",
       "      <td>404Coin</td>\n",
       "      <td>532000000</td>\n",
       "      <td>1.055185e+09</td>\n",
       "      <td>-0.326138</td>\n",
       "      <td>0.980434</td>\n",
       "      <td>-0.467819</td>\n",
       "      <td>0</td>\n",
       "    </tr>\n",
       "    <tr>\n",
       "      <th>1337</th>\n",
       "      <td>EliteCoin</td>\n",
       "      <td>314159265359</td>\n",
       "      <td>2.927942e+10</td>\n",
       "      <td>2.309896</td>\n",
       "      <td>1.692079</td>\n",
       "      <td>-0.594735</td>\n",
       "      <td>4</td>\n",
       "    </tr>\n",
       "    <tr>\n",
       "      <th>BTC</th>\n",
       "      <td>Bitcoin</td>\n",
       "      <td>21000000</td>\n",
       "      <td>1.792718e+07</td>\n",
       "      <td>-0.140079</td>\n",
       "      <td>-1.310683</td>\n",
       "      <td>0.167199</td>\n",
       "      <td>1</td>\n",
       "    </tr>\n",
       "    <tr>\n",
       "      <th>ETH</th>\n",
       "      <td>Ethereum</td>\n",
       "      <td>0</td>\n",
       "      <td>1.076842e+08</td>\n",
       "      <td>-0.143682</td>\n",
       "      <td>-2.055868</td>\n",
       "      <td>0.271050</td>\n",
       "      <td>1</td>\n",
       "    </tr>\n",
       "    <tr>\n",
       "      <th>LTC</th>\n",
       "      <td>Litecoin</td>\n",
       "      <td>84000000</td>\n",
       "      <td>6.303924e+07</td>\n",
       "      <td>-0.173466</td>\n",
       "      <td>-1.176341</td>\n",
       "      <td>0.050394</td>\n",
       "      <td>1</td>\n",
       "    </tr>\n",
       "    <tr>\n",
       "      <th>DASH</th>\n",
       "      <td>Dash</td>\n",
       "      <td>22000000</td>\n",
       "      <td>9.031294e+06</td>\n",
       "      <td>-0.392571</td>\n",
       "      <td>1.305580</td>\n",
       "      <td>-0.551876</td>\n",
       "      <td>0</td>\n",
       "    </tr>\n",
       "    <tr>\n",
       "      <th>XMR</th>\n",
       "      <td>Monero</td>\n",
       "      <td>0</td>\n",
       "      <td>1.720114e+07</td>\n",
       "      <td>-0.145477</td>\n",
       "      <td>-2.174972</td>\n",
       "      <td>0.411766</td>\n",
       "      <td>1</td>\n",
       "    </tr>\n",
       "    <tr>\n",
       "      <th>ETC</th>\n",
       "      <td>Ethereum Classic</td>\n",
       "      <td>210000000</td>\n",
       "      <td>1.133597e+08</td>\n",
       "      <td>-0.142123</td>\n",
       "      <td>-2.055960</td>\n",
       "      <td>0.271029</td>\n",
       "      <td>1</td>\n",
       "    </tr>\n",
       "    <tr>\n",
       "      <th>ZEC</th>\n",
       "      <td>ZCash</td>\n",
       "      <td>21000000</td>\n",
       "      <td>7.383056e+06</td>\n",
       "      <td>-0.144440</td>\n",
       "      <td>-2.081742</td>\n",
       "      <td>0.235385</td>\n",
       "      <td>1</td>\n",
       "    </tr>\n",
       "  </tbody>\n",
       "</table>\n",
       "</div>"
      ],
      "text/plain": [
       "              CoinName TotalCoinSupply  TotalCoinsMined      PC 1      PC 2  \\\n",
       "                                                                              \n",
       "42             42 Coin              42     4.199995e+01 -0.342809  0.980233   \n",
       "404            404Coin       532000000     1.055185e+09 -0.326138  0.980434   \n",
       "1337         EliteCoin    314159265359     2.927942e+10  2.309896  1.692079   \n",
       "BTC            Bitcoin        21000000     1.792718e+07 -0.140079 -1.310683   \n",
       "ETH           Ethereum               0     1.076842e+08 -0.143682 -2.055868   \n",
       "LTC           Litecoin        84000000     6.303924e+07 -0.173466 -1.176341   \n",
       "DASH              Dash        22000000     9.031294e+06 -0.392571  1.305580   \n",
       "XMR             Monero               0     1.720114e+07 -0.145477 -2.174972   \n",
       "ETC   Ethereum Classic       210000000     1.133597e+08 -0.142123 -2.055960   \n",
       "ZEC              ZCash        21000000     7.383056e+06 -0.144440 -2.081742   \n",
       "\n",
       "          PC 3  Class  \n",
       "                       \n",
       "42   -0.467273      0  \n",
       "404  -0.467819      0  \n",
       "1337 -0.594735      4  \n",
       "BTC   0.167199      1  \n",
       "ETH   0.271050      1  \n",
       "LTC   0.050394      1  \n",
       "DASH -0.551876      0  \n",
       "XMR   0.411766      1  \n",
       "ETC   0.271029      1  \n",
       "ZEC   0.235385      1  "
      ]
     },
     "execution_count": 72,
     "metadata": {},
     "output_type": "execute_result"
    }
   ],
   "source": [
    "# Create a new DataFrame that has the scaled data with the clustered_df DataFrame index.\r\n",
    "new_clustered_df = pd.DataFrame(data = tradable_cluster, index = clustered_df.index)\r\n",
    "new_clustered_df[\"PC 1\"] = crypto_pcs_df[\"PC_1\"]\r\n",
    "new_clustered_df[\"PC 2\"] = crypto_pcs_df[\"PC_2\"]\r\n",
    "new_clustered_df[\"PC 3\"] = crypto_pcs_df[\"PC_3\"]\r\n",
    "# Add the \"CoinName\" column from the clustered_df DataFrame to the new DataFrame.\r\n",
    "#new_clustered_df[\"CoinName\"] = coin_names[\"CoinName\"] \r\n",
    "new_clustered_df.insert(0, 'CoinName', coin_names)\r\n",
    "# Add the \"Class\" column from the clustered_df DataFrame to the new DataFrame. \r\n",
    "new_clustered_df[\"Class\"] = model.labels_\r\n",
    "\r\n",
    "new_clustered_df.head(10)"
   ]
  },
  {
   "cell_type": "code",
   "execution_count": 86,
   "metadata": {},
   "outputs": [
    {
     "data": {},
     "metadata": {},
     "output_type": "display_data"
    },
    {
     "data": {
      "application/vnd.holoviews_exec.v0+json": "",
      "text/html": [
       "<div id='8064'>\n",
       "\n",
       "\n",
       "\n",
       "\n",
       "\n",
       "  <div class=\"bk-root\" id=\"8e8920f7-63bb-4cc8-992a-f14a74b2e1c0\" data-root-id=\"8064\"></div>\n",
       "</div>\n",
       "<script type=\"application/javascript\">(function(root) {\n",
       "  function embed_document(root) {\n",
       "    var docs_json = {\"befafd61-11ac-4541-95e1-1f18026a737f\":{\"defs\":[],\"roots\":{\"references\":[{\"attributes\":{},\"id\":\"8124\",\"type\":\"UnionRenderers\"},{\"attributes\":{\"fill_alpha\":{\"value\":0.1},\"fill_color\":{\"value\":\"#e5ae38\"},\"line_alpha\":{\"value\":0.1},\"line_color\":{\"value\":\"#e5ae38\"},\"size\":{\"value\":5.477225575051661},\"x\":{\"field\":\"TotalCoinsMined\"},\"y\":{\"field\":\"TotalCoinSupply\"}},\"id\":\"8156\",\"type\":\"Scatter\"},{\"attributes\":{\"end\":200000000000.0,\"reset_end\":200000000000.0,\"reset_start\":0,\"tags\":[[[\"TotalCoinsMined\",\"TotalCoinsMined\",null]]]},\"id\":\"8066\",\"type\":\"Range1d\"},{\"attributes\":{\"data\":{\"Class\":[4,4,4,4,4,4,4,4,4,4,4,4,4,4,4],\"CoinName\":[\"EliteCoin\",\"MoonCoin\",\"ByteCoin\",\"ARK\",\"gCn Coin\",\"Lamden Tau\",\"TurtleCoin\",\"Semux\",\"Lynx\",\"Qwertycoin\",\"ALAX\",\"Lisk\",\"EOS\",\"Oxycoin\",\"ZEPHYR\"],\"TotalCoinSupply\":[\"314159265359\",\"384000000000\",\"184467440735\",\"125000000\",\"200000000000\",\"500000000\",\"1000000000000\",\"100000000\",\"92000000000\",\"184470000000\",\"1000000000\",\"159918400\",\"0\",\"0\",\"2000000000\"],\"TotalCoinsMined\":{\"__ndarray__\":\"xAK6QcJEG0IAAAAAAABWQAAAB3WebUVCAAAAkCHMmUEAAE6ra/tCQmFvfsfpK7FBPYqbEsO+KEIAAAAAK8kyQVnmi1WJITJCXc0A6tMtN0IAAAAAZc3NQQAAALD1nJxB2T2JBSNqzkEUrtdyjLnQQfOO0/5kzd1B\",\"dtype\":\"float64\",\"order\":\"little\",\"shape\":[15]}},\"selected\":{\"id\":\"8203\"},\"selection_policy\":{\"id\":\"8225\"}},\"id\":\"8202\",\"type\":\"ColumnDataSource\"},{\"attributes\":{\"data\":{\"Class\":[0,0,0,0,0,0,0,0,0,0,0,0,0,0,0,0,0,0,0,0,0,0,0,0,0,0,0,0,0,0,0,0,0,0,0,0,0,0,0,0,0,0,0,0,0,0,0,0,0,0,0,0,0,0,0,0,0,0,0,0,0,0,0,0,0,0,0,0,0,0,0,0,0,0,0,0,0,0,0,0,0,0,0,0,0,0,0,0,0,0,0,0,0,0,0,0,0,0,0,0,0,0,0,0,0,0,0,0,0,0,0,0,0,0,0,0,0,0,0,0,0,0,0,0,0,0,0,0,0,0,0,0,0,0,0,0,0,0,0,0,0,0,0,0,0,0,0,0,0,0,0,0,0,0,0,0,0,0,0,0,0,0,0,0,0,0,0,0,0,0,0,0,0,0,0,0,0,0,0,0,0,0,0,0,0,0,0,0,0,0,0,0,0,0,0,0,0,0,0,0,0,0,0,0,0,0,0,0,0,0,0,0,0,0,0,0,0,0,0,0,0,0,0,0,0,0,0,0,0,0,0,0,0,0,0,0,0,0,0,0,0,0,0,0,0,0,0,0,0,0,0,0,0,0,0,0,0,0,0,0,0,0,0,0,0,0,0,0,0,0,0,0,0,0,0,0,0,0],\"CoinName\":[\"42 Coin\",\"404Coin\",\"Dash\",\"Bitshares\",\"BitcoinDark\",\"PayCoin\",\"KoboCoin\",\"Aurora Coin\",\"BlueCoin\",\"EnergyCoin\",\"BitBar\",\"CryptoBullion\",\"CasinoCoin\",\"Diamond\",\"Exclusive Coin\",\"FlutterCoin\",\"HoboNickels\",\"HyperStake\",\"IOCoin\",\"MaxCoin\",\"MintCoin\",\"MazaCoin\",\"Nautilus Coin\",\"NavCoin\",\"OpalCoin\",\"Orbitcoin\",\"PotCoin\",\"PhoenixCoin\",\"Reddcoin\",\"SuperCoin\",\"SyncCoin\",\"TeslaCoin\",\"TittieCoin\",\"TorCoin\",\"UnitaryStatus Dollar\",\"UltraCoin\",\"VeriCoin\",\"X11 Coin\",\"Crypti\",\"StealthCoin\",\"ZCC Coin\",\"BurstCoin\",\"StorjCoin\",\"Neutron\",\"FairCoin\",\"RubyCoin\",\"Kore\",\"Dnotes\",\"8BIT Coin\",\"Sativa Coin\",\"Ucoin\",\"Vtorrent\",\"IslaCoin\",\"Nexus\",\"Droidz\",\"Squall Coin\",\"Diggits\",\"Paycon\",\"Emercoin\",\"EverGreenCoin\",\"Decred\",\"EDRCoin\",\"Hitcoin\",\"DubaiCoin\",\"PWR Coin\",\"BillaryCoin\",\"GPU Coin\",\"EuropeCoin\",\"ZeitCoin\",\"SwingCoin\",\"SafeExchangeCoin\",\"Nebuchadnezzar\",\"Ratecoin\",\"Revenu\",\"Clockcoin\",\"VIP Tokens\",\"BitSend\",\"Let it Ride\",\"PutinCoin\",\"iBankCoin\",\"Frankywillcoin\",\"MudraCoin\",\"Lutetium Coin\",\"GoldBlocks\",\"CarterCoin\",\"BitTokens\",\"MustangCoin\",\"ZoneCoin\",\"RootCoin\",\"BitCurrency\",\"Swiscoin\",\"BuzzCoin\",\"Opair\",\"PesoBit\",\"Halloween Coin\",\"CoffeeCoin\",\"RoyalCoin\",\"GanjaCoin V2\",\"TeamUP\",\"LanaCoin\",\"InsaneCoin\",\"EmberCoin\",\"XenixCoin\",\"FreeCoin\",\"PLNCoin\",\"AquariusCoin\",\"Creatio\",\"Eternity\",\"Eurocoin\",\"BitcoinFast\",\"Stakenet\",\"BitConnect Coin\",\"MoneyCoin\",\"Enigma\",\"Russiacoin\",\"PandaCoin\",\"GameUnits\",\"GAKHcoin\",\"Allsafe\",\"LiteCreed\",\"Klingon Empire Darsek\",\"Internet of People\",\"KushCoin\",\"Printerium\",\"Impeach\",\"Zilbercoin\",\"FirstCoin\",\"FindCoin\",\"OpenChat\",\"RenosCoin\",\"VirtacoinPlus\",\"TajCoin\",\"Impact\",\"Atmos\",\"HappyCoin\",\"MacronCoin\",\"Condensate\",\"Independent Money System\",\"ArgusCoin\",\"LomoCoin\",\"ProCurrency\",\"GoldReserve\",\"GrowthCoin\",\"Phreak\",\"Degas Coin\",\"HTML5 Coin\",\"Ultimate Secure Cash\",\"QTUM\",\"Espers\",\"Denarius\",\"Virta Unique Coin\",\"Bitcoin Planet\",\"BritCoin\",\"Linda\",\"DeepOnion\",\"Signatum\",\"Cream\",\"Monoeci\",\"Draftcoin\",\"Stakecoin\",\"CoinonatX\",\"Ethereum Dark\",\"Obsidian\",\"Cardano\",\"Regalcoin\",\"TrezarCoin\",\"TerraNovaCoin\",\"Rupee\",\"WomenCoin\",\"Theresa May Coin\",\"NamoCoin\",\"LUXCoin\",\"Xios\",\"Bitcloud 2.0\",\"KekCoin\",\"BlackholeCoin\",\"Infinity Economics\",\"Magnet\",\"Electra\",\"Bitcoin Diamond\",\"Cash & Back Coin\",\"Bulwark\",\"Kalkulus\",\"GermanCoin\",\"LiteCoin Ultra\",\"PhantomX\",\"Digiwage\",\"Trollcoin\",\"Litecoin Plus\",\"Monkey Project\",\"TokenPay\",\"1717 Masonic Commemorative Token\",\"My Big Coin\",\"Unified Society USDEX\",\"Tokyo Coin\",\"Stipend\",\"Pushi\",\"Ellerium\",\"Velox\",\"Ontology\",\"Bitspace\",\"Briacoin\",\"Ignition\",\"MedicCoin\",\"Bitcoin Green\",\"Deviant Coin\",\"Abjcoin\",\"Carebit\",\"Zealium\",\"Proton\",\"iDealCash\",\"Bitcoin Incognito\",\"HollyWoodCoin\",\"Swisscoin\",\"Xt3ch\",\"TheVig\",\"EmaratCoin\",\"Dekado\",\"Poseidon Quark\",\"BitcoinWSpectrum\",\"Muse\",\"Trivechain\",\"Dystem\",\"Giant\",\"Peony Coin\",\"Absolute Coin\",\"Vitae\",\"TPCash\",\"ARENON\",\"EUNO\",\"MMOCoin\",\"Ketan\",\"XDNA\",\"PAXEX\",\"ThunderStake\",\"Kcash\",\"Acute Angle Cloud\",\"Bettex coin\",\"BitMoney\",\"Junson Ming Chan Coin\",\"HerbCoin\",\"PirateCash\",\"Oduwa\",\"Galilel\",\"Crypto Sports\",\"Credit\",\"Dash Platinum\",\"Nasdacoin\",\"Beetle Coin\",\"Titan Coin\",\"Award\",\"Insane Coin\",\"LiteDoge\",\"TruckCoin\",\"OrangeCoin\",\"BitstarCoin\",\"NeosCoin\",\"HyperCoin\",\"PinkCoin\",\"AudioCoin\",\"IncaKoin\",\"Piggy Coin\",\"Genstake\",\"XiaoMiCoin\",\"CapriCoin\",\" ClubCoin\",\"Radium\",\"Creditbit \",\"OKCash\",\"HiCoin\",\"WhiteCoin\",\"FriendshipCoin\",\"Triangles Coin\",\"TigerCash\",\"Particl\",\"Nxt\",\"Gapcoin\",\"BitcoinPlus\"],\"TotalCoinSupply\":[\"42\",\"532000000\",\"22000000\",\"3600570502\",\"22000000\",\"12500000\",\"350000000\",\"16768584\",\"0\",\"0\",\"500000\",\"1000000\",\"40000000000\",\"4380000\",\"0\",\"0\",\"120000000\",\"0\",\"22000000\",\"100000000\",\"0\",\"2419200000\",\"16180000\",\"0\",\"0\",\"3770000\",\"420000000\",\"98000000\",\"0\",\"0\",\"1000\",\"100000000\",\"2300000000\",\"10000000\",\"1600000000\",\"100000000\",\"0\",\"5500000\",\"0\",\"0\",\"1000000000\",\"2158812800\",\"500000000\",\"68000000\",\"0\",\"0\",\"12000000\",\"500000000\",\"0\",\"10000000\",\"20000000\",\"20000000\",\"0\",\"78000000\",\"5060000\",\"0\",\"100000000\",\"50000000\",\"1000000000\",\"26298000\",\"21000000\",\"22000000\",\"26550000000\",\"10500000\",\"0\",\"42000000\",\"221052632\",\"384000000\",\" 99000000000\",\"40000000\",\"2147483647\",\"20000000\",\"75000000\",\"222725000\",\"525000000\",\"90000000\",\"139000000\",\"33500000\",\"2000000000\",\"44333333\",\"100000000\",\"200000000\",\"657000000\",\"50000000\",\"90000000\",\"21000000\",\"3000000\",\"21000000\",\"0\",\"0\",\"3100000000\",\"20000000000\",\"74000000\",\"0\",\"1500000000\",\"39999898\",\"2500124\",\"100000000\",\"301000000\",\"7506000000\",\"30000000\",\"850000000\",\"3853326.77707314\",\"50000000\",\"38540000 \",\"42000000\",\"20000000\",\"60000000\",\"20000000\",\"33000000\",\"76500000\",\"28000000\",\"650659833\",\"5000000\",\"144000000\",\"32514916898\",\"13000000\",\"3315789\",\"15000000\",\"78835200\",\"500000000\",\"21000000\",\"9354000\",\"20000000\",\"21933333\",\"55000000\",\"110000000\",\"14524851.4827\",\"1000000000\",\"34426423\",\"100000000\",\"36900000\",\"110000000\",\"110290030\",\"100000000\",\"400000000\",\"500000000\",\"21212121\",\"28600000\",\"1000000000\",\"75000000000\",\"40000000\",\"2000000000\",\"30000000\",\"105000000\",\"90000000000\",\"200084200\",\"100000000\",\"50000000000\",\"10000000\",\"120000000\",\"100000000\",\"30000000\",\"50000000000\",\"18898187.6216583\",\"137500000\",\"100000000\",\"9507271\",\"17405891.19707116\",\"61599965\",\"48252000\",\"4200000\",\"91388946\",\"45000000000\",\"27000000\",\"400000000\",\"15733333\",\"24000000\",\"25000000000\",\"100000000\",\"1200000000\",\"60000000\",\"21000000\",\"200000000\",\"21000000\",\"14788275.991\",\"9000000000\",\"144000000\",\"30000000000\",\"210000000\",\"210000000\",\"27716121\",\"20000000\",\"50000000000\",\"150000000\",\"50000000\",\"120000000\",\"900000000\",\"4000000\",\"21000000\",\"25000000\",\"1618033\",\"30000000\",\"232000000\",\"800000000\",\"19340594\",\"25000000\",\"60000000\",\"124000000\",\"1000000000\",\"50000000\",\"3000000\",\"5000000\",\"500000000\",\"21000000\",\"88000000\",\"30000000\",\"200000000\",\"80000000\",\"45000000\",\"5121951220\",\"21000000\",\"26000000\",\"10200000000\",\"44000000\",\"100000000\",\"84000000\",\"90000000\",\"650000000 \",\"100262205\",\"18081806 \",\"82546564\",\"21000000\",\"5151000\",\"16880000000\",\"52500000\",\"100000000\",\"1000000000\",\"55000000\",\"50000000\",\"260000000\",\"210000000\",\"366000000\",\"100000000\",\"18000000000\",\"1000000000\",\"1000000000\",\"50000000\",\"70000000000\",\"0\",\"54000000\",\"105000000\",\"21000000\",\"19035999\",\"13370000\",\"74800000000\",\"19700000\",\"84000000\",\"500000000\",\"5000000000\",\"420000000\",\"30000000\",\"35000000000\",\"0\",\"200000000\",\"54256119\",\"21000000\",\"0\",\"500000000\",\"10500000000\",\"190000000\",\"1000000000\",\"15000000\",\"400000000\",\"208000000\",\"160000000\",\"9000000\",\"16504333\",\"105000000\",\"10008835635\",\"300000000\",\"60168145\",\"120000\",\"1000000000\",\"8634140\",\"1000000000\",\"250000000\",\"1000000\"],\"TotalCoinsMined\":{\"__ndarray__\":\"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\",\"dtype\":\"float64\",\"order\":\"little\",\"shape\":[278]}},\"selected\":{\"id\":\"8110\"},\"selection_policy\":{\"id\":\"8124\"}},\"id\":\"8109\",\"type\":\"ColumnDataSource\"},{\"attributes\":{},\"id\":\"8153\",\"type\":\"Selection\"},{\"attributes\":{\"data_source\":{\"id\":\"8152\"},\"glyph\":{\"id\":\"8155\"},\"hover_glyph\":null,\"muted_glyph\":{\"id\":\"8157\"},\"nonselection_glyph\":{\"id\":\"8156\"},\"selection_glyph\":{\"id\":\"8175\"},\"view\":{\"id\":\"8159\"}},\"id\":\"8158\",\"type\":\"GlyphRenderer\"},{\"attributes\":{\"source\":{\"id\":\"8152\"}},\"id\":\"8159\",\"type\":\"CDSView\"},{\"attributes\":{\"fill_color\":{\"value\":\"#e5ae38\"},\"line_color\":{\"value\":\"#e5ae38\"},\"size\":{\"value\":5.477225575051661},\"x\":{\"field\":\"TotalCoinsMined\"},\"y\":{\"field\":\"TotalCoinSupply\"}},\"id\":\"8155\",\"type\":\"Scatter\"},{\"attributes\":{},\"id\":\"8103\",\"type\":\"BasicTickFormatter\"},{\"attributes\":{\"angle\":{\"value\":0.0},\"fill_alpha\":{\"value\":1.0},\"fill_color\":{\"value\":\"#e5ae38\"},\"hatch_alpha\":{\"value\":1.0},\"hatch_color\":{\"value\":\"black\"},\"hatch_scale\":{\"value\":12.0},\"hatch_weight\":{\"value\":1.0},\"line_alpha\":{\"value\":1.0},\"line_cap\":{\"value\":\"butt\"},\"line_color\":{\"value\":\"#e5ae38\"},\"line_dash\":{\"value\":[]},\"line_dash_offset\":{\"value\":0},\"line_join\":{\"value\":\"bevel\"},\"line_width\":{\"value\":1},\"marker\":{\"value\":\"circle\"},\"size\":{\"value\":5.477225575051661},\"x\":{\"field\":\"TotalCoinsMined\"},\"y\":{\"field\":\"TotalCoinSupply\"}},\"id\":\"8175\",\"type\":\"Scatter\"},{\"attributes\":{\"angle\":{\"value\":0.0},\"fill_alpha\":{\"value\":1.0},\"fill_color\":{\"value\":\"#6d904f\"},\"hatch_alpha\":{\"value\":1.0},\"hatch_color\":{\"value\":\"black\"},\"hatch_scale\":{\"value\":12.0},\"hatch_weight\":{\"value\":1.0},\"line_alpha\":{\"value\":1.0},\"line_cap\":{\"value\":\"butt\"},\"line_color\":{\"value\":\"#6d904f\"},\"line_dash\":{\"value\":[]},\"line_dash_offset\":{\"value\":0},\"line_join\":{\"value\":\"bevel\"},\"line_width\":{\"value\":1},\"marker\":{\"value\":\"circle\"},\"size\":{\"value\":5.477225575051661},\"x\":{\"field\":\"TotalCoinsMined\"},\"y\":{\"field\":\"TotalCoinSupply\"}},\"id\":\"8201\",\"type\":\"Scatter\"},{\"attributes\":{},\"id\":\"8105\",\"type\":\"AllLabels\"},{\"attributes\":{\"fill_alpha\":{\"value\":0.2},\"fill_color\":{\"value\":\"#e5ae38\"},\"line_alpha\":{\"value\":0.2},\"line_color\":{\"value\":\"#e5ae38\"},\"size\":{\"value\":5.477225575051661},\"x\":{\"field\":\"TotalCoinsMined\"},\"y\":{\"field\":\"TotalCoinSupply\"}},\"id\":\"8157\",\"type\":\"Scatter\"},{\"attributes\":{\"label\":{\"value\":\"2\"},\"renderers\":[{\"id\":\"8158\"}]},\"id\":\"8174\",\"type\":\"LegendItem\"},{\"attributes\":{},\"id\":\"8106\",\"type\":\"BasicTickFormatter\"},{\"attributes\":{},\"id\":\"8091\",\"type\":\"PanTool\"},{\"attributes\":{\"axis\":{\"id\":\"8082\"},\"grid_line_color\":null,\"ticker\":null},\"id\":\"8085\",\"type\":\"Grid\"},{\"attributes\":{\"angle\":{\"value\":0.0},\"fill_alpha\":{\"value\":1.0},\"fill_color\":{\"value\":\"#30a2da\"},\"hatch_alpha\":{\"value\":1.0},\"hatch_color\":{\"value\":\"black\"},\"hatch_scale\":{\"value\":12.0},\"hatch_weight\":{\"value\":1.0},\"line_alpha\":{\"value\":1.0},\"line_cap\":{\"value\":\"butt\"},\"line_color\":{\"value\":\"#30a2da\"},\"line_dash\":{\"value\":[]},\"line_dash_offset\":{\"value\":0},\"line_join\":{\"value\":\"bevel\"},\"line_width\":{\"value\":1},\"marker\":{\"value\":\"circle\"},\"size\":{\"value\":5.477225575051661},\"x\":{\"field\":\"TotalCoinsMined\"},\"y\":{\"field\":\"TotalCoinSupply\"}},\"id\":\"8129\",\"type\":\"Scatter\"},{\"attributes\":{\"data\":{\"Class\":[1,1,1,1,1,1,1,1,1,1,1,1,1,1,1,1,1,1,1,1,1,1,1,1,1,1,1,1,1,1,1,1,1,1,1,1,1,1,1,1,1,1,1,1,1,1,1,1,1,1,1,1,1,1,1,1,1,1,1,1,1,1,1,1,1,1,1,1,1,1,1,1,1,1,1,1,1,1,1,1,1,1,1,1,1,1,1,1,1,1,1,1,1,1,1,1,1,1,1,1,1,1,1,1,1,1,1,1,1,1,1,1,1,1,1,1,1,1,1,1,1,1,1,1,1,1,1,1,1,1,1,1,1,1,1,1,1,1,1,1,1,1,1,1,1,1,1,1,1,1,1,1,1,1,1,1,1,1,1,1,1,1,1,1,1,1,1,1,1,1,1,1,1,1,1,1,1,1,1,1,1,1,1,1,1,1,1,1,1,1,1,1,1,1,1,1,1,1,1,1,1,1,1,1,1,1,1,1,1,1,1,1,1,1,1,1,1,1,1,1,1,1,1,1,1,1,1,1,1,1,1,1,1],\"CoinName\":[\"Bitcoin\",\"Ethereum\",\"Litecoin\",\"Monero\",\"Ethereum Classic\",\"ZCash\",\"DigiByte\",\"ProsperCoin\",\"Spreadcoin\",\"Argentum\",\"MyriadCoin\",\"ZetaCoin\",\"SexCoin\",\"Quatloo\",\"QuarkCoin\",\"Riecoin\",\"Digitalcoin \",\"Catcoin\",\"CannaCoin\",\"CryptCoin\",\"Verge\",\"DevCoin\",\"EarthCoin\",\"E-Gulden\",\"Einsteinium\",\"Emerald\",\"Franko\",\"FeatherCoin\",\"GrandCoin\",\"GlobalCoin\",\"GoldCoin\",\"Infinite Coin\",\"IXcoin\",\"KrugerCoin\",\"LuckyCoin\",\"Litebar \",\"MegaCoin\",\"MediterraneanCoin\",\"MinCoin\",\"NobleCoin\",\"Namecoin\",\"NyanCoin\",\"RonPaulCoin\",\"StableCoin\",\"SmartCoin\",\"SysCoin\",\"TigerCoin\",\"TerraCoin\",\"UnbreakableCoin\",\"Unobtanium\",\"UroCoin\",\"ViaCoin\",\"Vertcoin\",\"WorldCoin\",\"JouleCoin\",\"DigitalNote \",\"MonaCoin\",\"Gulden\",\"PesetaCoin\",\"Wild Beast Coin\",\"Flo\",\"ArtByte\",\"Folding Coin\",\"Unitus\",\"CypherPunkCoin\",\"OmniCron\",\"GreenCoin\",\"Cryptonite\",\"MasterCoin\",\"SoonCoin\",\"1Credit\",\"MarsCoin \",\"Crypto\",\"Anarchists Prime\",\"BowsCoin\",\"Song Coin\",\"BitZeny\",\"Expanse\",\"Siacoin\",\"MindCoin\",\"I0coin\",\"Revolution VR\",\"HOdlcoin\",\"Gamecredits\",\"CarpeDiemCoin\",\"Adzcoin\",\"SoilCoin\",\"YoCoin\",\"SibCoin\",\"Francs\",\"BolivarCoin\",\"Omni\",\"PizzaCoin\",\"Komodo\",\"Karbo\",\"ZayedCoin\",\"Circuits of Value\",\"DopeCoin\",\"DollarCoin\",\"Shilling\",\"ZCoin\",\"Elementrem\",\"ZClassic\",\"KiloCoin\",\"ArtexCoin\",\"Kurrent\",\"Cannabis Industry Coin\",\"OsmiumCoin\",\"Bikercoins\",\"HexxCoin\",\"PacCoin\",\"Citadel\",\"BeaverCoin\",\"VaultCoin\",\"Zero\",\"Canada eCoin\",\"Zoin\",\"DubaiCoin\",\"EB3coin\",\"Coinonat\",\"BenjiRolls\",\"ILCoin\",\"EquiTrader\",\"Quantum Resistant Ledger\",\"Dynamic\",\"Nano\",\"ChanCoin\",\"Dinastycoin\",\"DigitalPrice\",\"Unify\",\"SocialCoin\",\"ArcticCoin\",\"DAS\",\"LeviarCoin\",\"Bitcore\",\"SmartCash\",\"Onix\",\"Bitcoin Cash\",\"Sojourn Coin\",\"NewYorkCoin\",\"FrazCoin\",\"Kronecoin\",\"AdCoin\",\"Linx\",\"Sumokoin\",\"BitcoinZ\",\"Elements\",\"VIVO Coin\",\"Bitcoin Gold\",\"Pirl\",\"eBoost\",\"Pura\",\"Innova\",\"Ellaism\",\"GoByte\",\"SHIELD\",\"UltraNote\",\"BitCoal\",\"DaxxCoin\",\"AC3\",\"Lethean\",\"PopularCoin\",\"Photon\",\"Sucre\",\"SparksPay\",\"GunCoin\",\"IrishCoin\",\"Pioneer Coin\",\"UnitedBitcoin\",\"Interzone\",\"MUNcoin\",\"Niobio Cash\",\"ShareChain\",\"Travelflex\",\"KREDS\",\"BitFlip\",\"LottoCoin\",\"Crypto Improvement Fund\",\"Callisto Network\",\"BitTube\",\"Poseidon\",\"Aidos Kuneen\",\"Bitrolium\",\"Alpenschillling\",\"FuturoCoin\",\"Monero Classic\",\"Jumpcoin\",\"Infinex\",\"KEYCO\",\"GINcoin\",\"PlatinCoin\",\"Loki\",\"Newton Coin\",\"MassGrid\",\"PluraCoin\",\"Motion\",\"PlusOneCoin\",\"Axe\",\"HexCoin\",\"Webchain\",\"Ryo\",\"Urals Coin\",\"Project Pai\",\"Azart\",\"Xchange\",\"CrypticCoin\",\"Actinium\",\"Bitcoin SV\",\"FREDEnergy\",\"Universal Molecule\",\"Lithium\",\"Exosis\",\"Block-Logic\",\"Beam\",\"Bithereum\",\"SLICE\",\"BLAST\",\"Bitcoin Rhodium\",\"GlobalToken\",\"SolarCoin\",\"UFO Coin\",\"BlakeCoin\",\"Crypto Escudo\",\"Crown Coin\",\"SmileyCoin\",\"Groestlcoin\",\"Bata\",\"Pakcoin\",\"JoinCoin\",\"Vollar\",\"Reality Clash\",\"Beldex\",\"Horizen\"],\"TotalCoinSupply\":[\"21000000\",\"0\",\"84000000\",\"0\",\"210000000\",\"21000000\",\"21000000000\",\"21000000\",\"20000000\",\"64000000\",\"2000000000\",\"169795588\",\"250000000\",\"100000000\",\"247000000\",\"84000000\",\"48166000\",\"21000000 \",\"13140000\",\"18000000\",\"16555000000\",\"21000000000\",\"13500000000\",\"21000000 \",\"299792458\",\"32000000\",\"11235813\",\"336000000\",\"1420609614\",\"70000000\",\"72245700\",\"90600000000\",\"21000000\",\"265420800\",\"20000000\",\"1350000\",\"42000000\",\"200000000\",\"10000000\",\"15000000000\",\"21000000\",\"337000000\",\"21000000\",\"250000000\",\"51200000\",\"888000000\",\"47011968\",\"42000000\",\"80000000\",\"250000\",\"0\",\"23000000\",\"84000000\",\"265420800\",\"45000000\",\"10000000000\",\"105120000\",\"1680000000\",\"166386000\",\"2628000\",\"160000000\",\"1000000000\",\"1000000000\",\"0\",\"0\",\"3371337\",\"10000000000\",\"1840000000\",\"619478\",\"21000000\",\"92000000000\",\"33000000\",\"65789100\",\"53760000\",\"21000000\",\"210240000\",\"250000000\",\"16906397\",\"0\",\"16000000\",\"21000000\",\"210000000\",\"81962100\",\"84000000\",\"21626280000 \",\"84000000\",\"30000000\",\"168351300\",\"24000000\",\"20000000\",\"25000000\",\"616448\",\"25000000\",\"200000000\",\"10000000\",\"9736000\",\"1200000000\",\"200000000\",\"10638298\",\"30000000\",\"21400000\",\"26205539\",\"21000000\",\"10000000000\",\"500000000\",\"228000000\",\"21000000\",\"2714286\",\"25000000\",\"9999999\",\"100000000000\",\"185000000\",\"3360000\",\"1000000000\",\"17000000\",\"100000000 \",\"21000000\",\"2232901\",\"4000000000\",\"48252000\",\"35520400\",\"2500000000\",\"72000000\",\"105000000\",\"0\",\"340282367\",\"30000000\",\"2000000000\",\"100000000\",\"19276800\",\" 75000000\",\"60000000\",\"18900000\",\"54000000\",\"21000000\",\"5000000000\",\"1100000000\",\"21000000\",\"10500000000\",\"0\",\"20000000\",\"84000000\",\"100000000\",\"100000000\",\"88888888\",\"21000000000\",\"1800000000\",\"27000000\",\"21000000\",\"156306732.71\",\"100000000\",\"350000000\",\"45000000\",\"280000000\",\"31800000\",\"660000000\",\"85000000000\",\"12500000\",\"10000000000\",\"550000000\",\"999481516\",\"4999999999\",\" 90000000000\",\"19800000\",\"21000000\",\"500000000\",\"64000000\",\"23000000\",\"20166000\",\"23000000\",\"16600000\",\"336000000\",\"10000000000\",\"100000000\",\"1100000000\",\"40000000\",\"18406979840\",\"500000000\",\"6500000000\",\"1000000000\",\"21000000\",\"25000000\",\"70000000\",\"300000000\",\"100000000\",\"18400000\",\"21000000\",\"26280000\",\"18000000\",\"10500000\",\"600000518\",\"150000000\",\"184000000000\",\"168000000\",\"1000000000\",\"22075700\",\"21000000\",\"21000000\",\"22105263\",\"1750000000\",\"88188888\",\"210000000\",\"2100000000\",\"25000000\",\"100000000\",\"7600000000\",\"84000000\",\"21000000\",\"8080000000\",\"105120001.44\",\"25228800\",\"21000000\",\"120000000\",\"262800000\",\"30886000\",\"100000000\",\"64000000\",\"2100000\",\"168000000\",\"98100000000\",\"4000000000\",\"7000000000\",\"1000000000\",\"42000000\",\"50000000000\",\"105000000\",\"5000000\",\"182000000\",\"2800000\",\"2100000000\",\"24487944\",\"1400222610\",\"21000000\"],\"TotalCoinsMined\":{\"__ndarray__\":\"AAAAcMAYcUHb+b76hayZQfhoZlo4D45BZpBRcn9ncEEAAABc7QabQQAAABAEKlxBAAAovOg+BUIAAACAHQFWQWiB7L80RGVBDxI9btxHZ0EAAIDKLSjZQZF7gss5SqRBaXC7XO69nkHsUbiyWBFcQbxc1FkO8a5Bi10hSWmgh0FQLIHFyuR/QWZYXCm9iltB0Ooq4aHxUUFBDiuN3g9TQf32aMnKqw1CAABwUwl8EUJ1k5aAEVsHQkxm5uwY8XNB3v//sHAXqkG0yPYk9ZdyQaQ8LSbMbzFBMPUDShPgqEEAAAA1WFnKQQJaxIOwUI9BD/H/v0jdg0GjoTp87Rc1Qm3n+0/EHHRBmpmZw9ANokHNzEzyVm5yQeu2uDrY2TBBQd7x/zkxgkEzMzOHh0eDQbco1DgrJFZBaHk40Omg4UEAAAAAghtsQe+ue+dB87NBs3X0ax3ZMEGamZnb6Bd3QakGK5J4aHhBSWWmrurJwEEAAAAAjcKEQQAAAEB233VBAAAAAINhQUF75AdVfoYIQQAAAAAObDJB8/+vwhIUdkHGd4jeymaIQQAAAHQ6hJxBZY7l2qKwgkFxIKadorr5QXATfMtFQpBBAAAAZOS8uEHg89OstGSgQZMx4/L5NAZB26a4ke4mokEAAABRlJ7HQQAAAE+3cMVBAAAAsGYMj0EAAABAGUhYQchLLY4xV2NBcT0OcsMs8UEAAADMeR3FQQAAAACs5yJBAAAAgEPFZ0EAAAAAUIn1QLTMIm2Yun5BAAAAQFI2akFuowEAyCBsQQAAALADQm5BAAAAQIMOf0EAAACQJAeSQQAAAMClBGRBAABIsz/THkIAAADg5UNuQXYi101WBnRBAAAAALEIqUEAAACgTtZlQQAAABB1ppBBAABklTY/FEIAAACgoYKFQQAAAABowFVBFXuiHl1sI0EAAACwr3ZwQfWeCOrNEFlBACv2TwgLakEAAAAAANAiQQAAAAB9BjVBAAAATNyhm0Eqh1wuGNddQQAAAACA0VdBAAAAAGXNzUEAAACwqtubQQAAAECjXmFBAAAAAEw1ZUFRzfhP5t5cQQAAADDW/XhBAAAAgPtpVUEAAADmiWanQQAAAACfjshBAAAAaNJCjUEAAAAAwtktQQAAAACUSCtBAAAAAOTYYUHpgY9xsqA8QQAAAB3ZAMBBBwq80BzsZEEAAAAAfcRHQQAAAEBY+nxBHHiWeW1nWkGibUNB9c2XQQAAANjFr3FBAAAAgCIJQUEAAACgOZCOQQAAAAD4TmNBjSlYMjhWc0EAAADLzqLTQXJC1813FGpBZQhWw591kEGonWsKIt5yQQAAAKTUxJ9BkdtqsfWNcUEAAMDBkfbaQQAAAPhswYBBAAAAsAxLcUEAAADAp7ZTQR8V+sX/1XhBAAAAANMCREEAAABg8QJrQZKakZIo+nBBSx+nv2Ky4EHKGI/ZUTOdQWq8WVp0KXFBAAAAAHidHUHw19ZN7qVAQgAAAEBNgmJBcNl3ViulcEEJMgKxZCJ/QQAAAHDJE4BBAAAAoHsQYUEDPqDeH2rzQctKm75JI+RBUXuZyafIT0H5hGyRy2dwQQAAACDNNIBBJ0/5xefWl0EAAADmKeOkQSlcj8LWUVhBAAAA4LFUaEEAAAC4nD9WQenwkAagtrxBOPiV+yT1EUIAAAAAiCpRQQAAAIQtDL9BAAAAvBwmk0ESg2C58Uy6QUjhGyQdie1BWReqze8FHEL+dkAg7CFQQakEWVV+711BAAAAwY3esUGb8rdKIbCFQWzR3gqzK2BBAAAAAFc7c0FE3QeDpbpmQSP3U79oYVJBxK8Yz5bun0EAAAAgX6ACQiZzHEidlplB1SHF48Uvw0EVxhaAMr1nQQAAqKja/QpCTz8AzUowqUEAAABKiIStQXV1n+vOFZNBmVAcE6INT0EAAAAAhNd3QQAAAFQxA5FBg3RsWu0SekGJEf1SB1R+QQAAAAC8jG5BkkEJJOIXdEFEUX1tNnJTQQAAAABuRihBBFMT7aemWkEAAAAAwJT0QAAAAAAuRHJBAACivbA6I0KDbRQgMTKgQSXLM+AdscBBpq1XQWr/XkE4UF7FY31gQaKloawBDFNBSGTlENedNUHXRuHphLdtQQAAAEBEqFJBacsUI0UgbEEAAABA3UrfQdrA4VdSIlNBUVevM5OaYkEAAACK1Y3vQQAAAECkAWpBP8xZKrQocUGRLFLGP9LbQZO4O1ApFThByd3xJ6g5bkEzMzOzL8kYQc09ZGk304BBAAAAAGMEgUEAAAA4VPx3QY25hs1rp2hBzrkFZYbviEEAAACAdNsxQdL+/69fLJRB+z8Xo9h+ikEAAID6AX/sQUgFZGJXRnZBAAAABolAx0FK5l0RC+x1QWmvK2lfjRtCuqmMb8R5kUGfQd76IkZTQZk6wZ0znZBBAAAAQJ1tSUEAAAAAhNeXQfl6iIGAWndBAACAQYE2zUEAAABghtVbQQ==\",\"dtype\":\"float64\",\"order\":\"little\",\"shape\":[233]}},\"selected\":{\"id\":\"8131\"},\"selection_policy\":{\"id\":\"8147\"}},\"id\":\"8130\",\"type\":\"ColumnDataSource\"},{\"attributes\":{},\"id\":\"8108\",\"type\":\"AllLabels\"},{\"attributes\":{\"fill_alpha\":{\"value\":0.1},\"fill_color\":{\"value\":\"#fc4f30\"},\"line_alpha\":{\"value\":0.1},\"line_color\":{\"value\":\"#fc4f30\"},\"size\":{\"value\":5.477225575051661},\"x\":{\"field\":\"TotalCoinsMined\"},\"y\":{\"field\":\"TotalCoinSupply\"}},\"id\":\"8134\",\"type\":\"Scatter\"},{\"attributes\":{\"fill_alpha\":{\"value\":0.1},\"fill_color\":{\"value\":\"#8b8b8b\"},\"line_alpha\":{\"value\":0.1},\"line_color\":{\"value\":\"#8b8b8b\"},\"size\":{\"value\":5.477225575051661},\"x\":{\"field\":\"TotalCoinsMined\"},\"y\":{\"field\":\"TotalCoinSupply\"}},\"id\":\"8206\",\"type\":\"Scatter\"},{\"attributes\":{\"click_policy\":\"mute\",\"items\":[{\"id\":\"8128\"},{\"id\":\"8150\"},{\"id\":\"8174\"},{\"id\":\"8200\"},{\"id\":\"8228\"}],\"location\":[0,0],\"title\":\"Class\"},\"id\":\"8127\",\"type\":\"Legend\"},{\"attributes\":{},\"id\":\"8171\",\"type\":\"UnionRenderers\"},{\"attributes\":{},\"id\":\"8203\",\"type\":\"Selection\"},{\"attributes\":{\"data_source\":{\"id\":\"8202\"},\"glyph\":{\"id\":\"8205\"},\"hover_glyph\":null,\"muted_glyph\":{\"id\":\"8207\"},\"nonselection_glyph\":{\"id\":\"8206\"},\"selection_glyph\":{\"id\":\"8229\"},\"view\":{\"id\":\"8209\"}},\"id\":\"8208\",\"type\":\"GlyphRenderer\"},{\"attributes\":{\"text_color\":\"black\",\"text_font_size\":\"12pt\"},\"id\":\"8074\",\"type\":\"Title\"},{\"attributes\":{\"end\":350000000000.0,\"reset_end\":350000000000.0,\"reset_start\":0,\"tags\":[[[\"TotalCoinSupply\",\"TotalCoinSupply\",null]]]},\"id\":\"8067\",\"type\":\"Range1d\"},{\"attributes\":{},\"id\":\"8110\",\"type\":\"Selection\"},{\"attributes\":{\"source\":{\"id\":\"8202\"}},\"id\":\"8209\",\"type\":\"CDSView\"},{\"attributes\":{\"fill_color\":{\"value\":\"#30a2da\"},\"line_color\":{\"value\":\"#30a2da\"},\"size\":{\"value\":5.477225575051661},\"x\":{\"field\":\"TotalCoinsMined\"},\"y\":{\"field\":\"TotalCoinSupply\"}},\"id\":\"8112\",\"type\":\"Scatter\"},{\"attributes\":{\"callback\":null,\"renderers\":[{\"id\":\"8115\"},{\"id\":\"8136\"},{\"id\":\"8158\"},{\"id\":\"8182\"},{\"id\":\"8208\"}],\"tags\":[\"hv_created\"],\"tooltips\":[[\"Class\",\"@{Class}\"],[\"TotalCoinsMined\",\"@{TotalCoinsMined}\"],[\"TotalCoinSupply\",\"@{TotalCoinSupply}\"],[\"CoinName\",\"@{CoinName}\"]]},\"id\":\"8068\",\"type\":\"HoverTool\"},{\"attributes\":{\"below\":[{\"id\":\"8082\"}],\"center\":[{\"id\":\"8085\"},{\"id\":\"8089\"}],\"frame_height\":500,\"frame_width\":500,\"height\":null,\"left\":[{\"id\":\"8086\"}],\"margin\":[5,5,5,5],\"min_border_bottom\":10,\"min_border_left\":10,\"min_border_right\":10,\"min_border_top\":10,\"renderers\":[{\"id\":\"8115\"},{\"id\":\"8136\"},{\"id\":\"8158\"},{\"id\":\"8182\"},{\"id\":\"8208\"}],\"right\":[{\"id\":\"8127\"}],\"sizing_mode\":\"fixed\",\"title\":{\"id\":\"8074\"},\"toolbar\":{\"id\":\"8096\"},\"width\":null,\"x_range\":{\"id\":\"8066\"},\"x_scale\":{\"id\":\"8078\"},\"y_range\":{\"id\":\"8067\"},\"y_scale\":{\"id\":\"8080\"}},\"id\":\"8073\",\"subtype\":\"Figure\",\"type\":\"Plot\"},{\"attributes\":{\"fill_alpha\":{\"value\":0.1},\"fill_color\":{\"value\":\"#30a2da\"},\"line_alpha\":{\"value\":0.1},\"line_color\":{\"value\":\"#30a2da\"},\"size\":{\"value\":5.477225575051661},\"x\":{\"field\":\"TotalCoinsMined\"},\"y\":{\"field\":\"TotalCoinSupply\"}},\"id\":\"8113\",\"type\":\"Scatter\"},{\"attributes\":{\"fill_color\":{\"value\":\"#8b8b8b\"},\"line_color\":{\"value\":\"#8b8b8b\"},\"size\":{\"value\":5.477225575051661},\"x\":{\"field\":\"TotalCoinsMined\"},\"y\":{\"field\":\"TotalCoinSupply\"}},\"id\":\"8205\",\"type\":\"Scatter\"},{\"attributes\":{},\"id\":\"8131\",\"type\":\"Selection\"},{\"attributes\":{\"angle\":{\"value\":0.0},\"fill_alpha\":{\"value\":1.0},\"fill_color\":{\"value\":\"#8b8b8b\"},\"hatch_alpha\":{\"value\":1.0},\"hatch_color\":{\"value\":\"black\"},\"hatch_scale\":{\"value\":12.0},\"hatch_weight\":{\"value\":1.0},\"line_alpha\":{\"value\":1.0},\"line_cap\":{\"value\":\"butt\"},\"line_color\":{\"value\":\"#8b8b8b\"},\"line_dash\":{\"value\":[]},\"line_dash_offset\":{\"value\":0},\"line_join\":{\"value\":\"bevel\"},\"line_width\":{\"value\":1},\"marker\":{\"value\":\"circle\"},\"size\":{\"value\":5.477225575051661},\"x\":{\"field\":\"TotalCoinsMined\"},\"y\":{\"field\":\"TotalCoinSupply\"}},\"id\":\"8229\",\"type\":\"Scatter\"},{\"attributes\":{\"data_source\":{\"id\":\"8109\"},\"glyph\":{\"id\":\"8112\"},\"hover_glyph\":null,\"muted_glyph\":{\"id\":\"8114\"},\"nonselection_glyph\":{\"id\":\"8113\"},\"selection_glyph\":{\"id\":\"8129\"},\"view\":{\"id\":\"8116\"}},\"id\":\"8115\",\"type\":\"GlyphRenderer\"},{\"attributes\":{\"data_source\":{\"id\":\"8130\"},\"glyph\":{\"id\":\"8133\"},\"hover_glyph\":null,\"muted_glyph\":{\"id\":\"8135\"},\"nonselection_glyph\":{\"id\":\"8134\"},\"selection_glyph\":{\"id\":\"8151\"},\"view\":{\"id\":\"8137\"}},\"id\":\"8136\",\"type\":\"GlyphRenderer\"},{\"attributes\":{\"label\":{\"value\":\"0\"},\"renderers\":[{\"id\":\"8115\"}]},\"id\":\"8128\",\"type\":\"LegendItem\"},{\"attributes\":{\"fill_alpha\":{\"value\":0.2},\"fill_color\":{\"value\":\"#8b8b8b\"},\"line_alpha\":{\"value\":0.2},\"line_color\":{\"value\":\"#8b8b8b\"},\"size\":{\"value\":5.477225575051661},\"x\":{\"field\":\"TotalCoinsMined\"},\"y\":{\"field\":\"TotalCoinSupply\"}},\"id\":\"8207\",\"type\":\"Scatter\"},{\"attributes\":{\"source\":{\"id\":\"8130\"}},\"id\":\"8137\",\"type\":\"CDSView\"},{\"attributes\":{\"label\":{\"value\":\"4\"},\"renderers\":[{\"id\":\"8208\"}]},\"id\":\"8228\",\"type\":\"LegendItem\"},{\"attributes\":{\"source\":{\"id\":\"8109\"}},\"id\":\"8116\",\"type\":\"CDSView\"},{\"attributes\":{},\"id\":\"8083\",\"type\":\"BasicTicker\"},{\"attributes\":{\"fill_color\":{\"value\":\"#fc4f30\"},\"line_color\":{\"value\":\"#fc4f30\"},\"size\":{\"value\":5.477225575051661},\"x\":{\"field\":\"TotalCoinsMined\"},\"y\":{\"field\":\"TotalCoinSupply\"}},\"id\":\"8133\",\"type\":\"Scatter\"},{\"attributes\":{\"angle\":{\"value\":0.0},\"fill_alpha\":{\"value\":1.0},\"fill_color\":{\"value\":\"#fc4f30\"},\"hatch_alpha\":{\"value\":1.0},\"hatch_color\":{\"value\":\"black\"},\"hatch_scale\":{\"value\":12.0},\"hatch_weight\":{\"value\":1.0},\"line_alpha\":{\"value\":1.0},\"line_cap\":{\"value\":\"butt\"},\"line_color\":{\"value\":\"#fc4f30\"},\"line_dash\":{\"value\":[]},\"line_dash_offset\":{\"value\":0},\"line_join\":{\"value\":\"bevel\"},\"line_width\":{\"value\":1},\"marker\":{\"value\":\"circle\"},\"size\":{\"value\":5.477225575051661},\"x\":{\"field\":\"TotalCoinsMined\"},\"y\":{\"field\":\"TotalCoinSupply\"}},\"id\":\"8151\",\"type\":\"Scatter\"},{\"attributes\":{\"axis_label\":\"TotalCoinsMined\",\"formatter\":{\"id\":\"8103\"},\"major_label_policy\":{\"id\":\"8105\"},\"ticker\":{\"id\":\"8083\"}},\"id\":\"8082\",\"type\":\"LinearAxis\"},{\"attributes\":{\"axis\":{\"id\":\"8086\"},\"dimension\":1,\"grid_line_color\":null,\"ticker\":null},\"id\":\"8089\",\"type\":\"Grid\"},{\"attributes\":{\"fill_alpha\":{\"value\":0.2},\"fill_color\":{\"value\":\"#30a2da\"},\"line_alpha\":{\"value\":0.2},\"line_color\":{\"value\":\"#30a2da\"},\"size\":{\"value\":5.477225575051661},\"x\":{\"field\":\"TotalCoinsMined\"},\"y\":{\"field\":\"TotalCoinSupply\"}},\"id\":\"8114\",\"type\":\"Scatter\"},{\"attributes\":{\"fill_alpha\":{\"value\":0.2},\"fill_color\":{\"value\":\"#fc4f30\"},\"line_alpha\":{\"value\":0.2},\"line_color\":{\"value\":\"#fc4f30\"},\"size\":{\"value\":5.477225575051661},\"x\":{\"field\":\"TotalCoinsMined\"},\"y\":{\"field\":\"TotalCoinSupply\"}},\"id\":\"8135\",\"type\":\"Scatter\"},{\"attributes\":{\"label\":{\"value\":\"1\"},\"renderers\":[{\"id\":\"8136\"}]},\"id\":\"8150\",\"type\":\"LegendItem\"},{\"attributes\":{},\"id\":\"8078\",\"type\":\"LinearScale\"},{\"attributes\":{},\"id\":\"8090\",\"type\":\"SaveTool\"},{\"attributes\":{},\"id\":\"8087\",\"type\":\"BasicTicker\"},{\"attributes\":{\"fill_alpha\":{\"value\":0.1},\"fill_color\":{\"value\":\"#6d904f\"},\"line_alpha\":{\"value\":0.1},\"line_color\":{\"value\":\"#6d904f\"},\"size\":{\"value\":5.477225575051661},\"x\":{\"field\":\"TotalCoinsMined\"},\"y\":{\"field\":\"TotalCoinSupply\"}},\"id\":\"8180\",\"type\":\"Scatter\"},{\"attributes\":{},\"id\":\"8080\",\"type\":\"LinearScale\"},{\"attributes\":{\"margin\":[5,5,5,5],\"name\":\"HSpacer17986\",\"sizing_mode\":\"stretch_width\"},\"id\":\"8392\",\"type\":\"Spacer\"},{\"attributes\":{},\"id\":\"8092\",\"type\":\"WheelZoomTool\"},{\"attributes\":{\"axis_label\":\"TotalCoinSupply\",\"formatter\":{\"id\":\"8106\"},\"major_label_policy\":{\"id\":\"8108\"},\"ticker\":{\"id\":\"8087\"}},\"id\":\"8086\",\"type\":\"LinearAxis\"},{\"attributes\":{},\"id\":\"8225\",\"type\":\"UnionRenderers\"},{\"attributes\":{\"overlay\":{\"id\":\"8095\"}},\"id\":\"8093\",\"type\":\"BoxZoomTool\"},{\"attributes\":{\"data\":{\"Class\":[3,3,3,3,3],\"CoinName\":[\"Vechain\",\"BiblePay\",\"LitecoinCash\",\"Poa Network\",\"Waves\"],\"TotalCoinSupply\":[\"86712634466\",\"5200000000\",\"840000000\",\"252460800\",\"100000000\"],\"TotalCoinsMined\":{\"__ndarray__\":\"AACgM7jSKULx13gn/mfaQZawGn54BsNBAAAAfjRgqEEAAAAAhNeXQQ==\",\"dtype\":\"float64\",\"order\":\"little\",\"shape\":[5]}},\"selected\":{\"id\":\"8177\"},\"selection_policy\":{\"id\":\"8197\"}},\"id\":\"8176\",\"type\":\"ColumnDataSource\"},{\"attributes\":{},\"id\":\"8094\",\"type\":\"ResetTool\"},{\"attributes\":{\"active_multi\":null,\"tools\":[{\"id\":\"8068\"},{\"id\":\"8090\"},{\"id\":\"8091\"},{\"id\":\"8092\"},{\"id\":\"8093\"},{\"id\":\"8094\"}]},\"id\":\"8096\",\"type\":\"Toolbar\"},{\"attributes\":{},\"id\":\"8177\",\"type\":\"Selection\"},{\"attributes\":{\"data_source\":{\"id\":\"8176\"},\"glyph\":{\"id\":\"8179\"},\"hover_glyph\":null,\"muted_glyph\":{\"id\":\"8181\"},\"nonselection_glyph\":{\"id\":\"8180\"},\"selection_glyph\":{\"id\":\"8201\"},\"view\":{\"id\":\"8183\"}},\"id\":\"8182\",\"type\":\"GlyphRenderer\"},{\"attributes\":{\"margin\":[5,5,5,5],\"name\":\"HSpacer17985\",\"sizing_mode\":\"stretch_width\"},\"id\":\"8065\",\"type\":\"Spacer\"},{\"attributes\":{\"source\":{\"id\":\"8176\"}},\"id\":\"8183\",\"type\":\"CDSView\"},{\"attributes\":{},\"id\":\"8147\",\"type\":\"UnionRenderers\"},{\"attributes\":{\"fill_color\":{\"value\":\"#6d904f\"},\"line_color\":{\"value\":\"#6d904f\"},\"size\":{\"value\":5.477225575051661},\"x\":{\"field\":\"TotalCoinsMined\"},\"y\":{\"field\":\"TotalCoinSupply\"}},\"id\":\"8179\",\"type\":\"Scatter\"},{\"attributes\":{\"fill_alpha\":{\"value\":0.2},\"fill_color\":{\"value\":\"#6d904f\"},\"line_alpha\":{\"value\":0.2},\"line_color\":{\"value\":\"#6d904f\"},\"size\":{\"value\":5.477225575051661},\"x\":{\"field\":\"TotalCoinsMined\"},\"y\":{\"field\":\"TotalCoinSupply\"}},\"id\":\"8181\",\"type\":\"Scatter\"},{\"attributes\":{\"label\":{\"value\":\"3\"},\"renderers\":[{\"id\":\"8182\"}]},\"id\":\"8200\",\"type\":\"LegendItem\"},{\"attributes\":{\"children\":[{\"id\":\"8065\"},{\"id\":\"8073\"},{\"id\":\"8392\"}],\"margin\":[0,0,0,0],\"name\":\"Row17981\",\"tags\":[\"embedded\"]},\"id\":\"8064\",\"type\":\"Row\"},{\"attributes\":{\"data\":{\"Class\":[2],\"CoinName\":[\"BitTorrent\"],\"TotalCoinSupply\":[\"990000000000\"],\"TotalCoinsMined\":{\"__ndarray__\":\"xfR7nv3PbEI=\",\"dtype\":\"float64\",\"order\":\"little\",\"shape\":[1]}},\"selected\":{\"id\":\"8153\"},\"selection_policy\":{\"id\":\"8171\"}},\"id\":\"8152\",\"type\":\"ColumnDataSource\"},{\"attributes\":{\"bottom_units\":\"screen\",\"fill_alpha\":0.5,\"fill_color\":\"lightgrey\",\"left_units\":\"screen\",\"level\":\"overlay\",\"line_alpha\":1.0,\"line_color\":\"black\",\"line_dash\":[4,4],\"line_width\":2,\"right_units\":\"screen\",\"syncable\":false,\"top_units\":\"screen\"},\"id\":\"8095\",\"type\":\"BoxAnnotation\"},{\"attributes\":{},\"id\":\"8197\",\"type\":\"UnionRenderers\"}],\"root_ids\":[\"8064\"]},\"title\":\"Bokeh Application\",\"version\":\"2.3.2\"}};\n",
       "    var render_items = [{\"docid\":\"befafd61-11ac-4541-95e1-1f18026a737f\",\"root_ids\":[\"8064\"],\"roots\":{\"8064\":\"8e8920f7-63bb-4cc8-992a-f14a74b2e1c0\"}}];\n",
       "    root.Bokeh.embed.embed_items_notebook(docs_json, render_items);\n",
       "  }\n",
       "  if (root.Bokeh !== undefined && root.Bokeh.Panel !== undefined) {\n",
       "    embed_document(root);\n",
       "  } else {\n",
       "    var attempts = 0;\n",
       "    var timer = setInterval(function(root) {\n",
       "      if (root.Bokeh !== undefined && root.Bokeh.Panel !== undefined) {\n",
       "        clearInterval(timer);\n",
       "        embed_document(root);\n",
       "      } else if (document.readyState == \"complete\") {\n",
       "        attempts++;\n",
       "        if (attempts > 100) {\n",
       "          clearInterval(timer);\n",
       "          console.log(\"Bokeh: ERROR: Unable to run BokehJS code because BokehJS library is missing\");\n",
       "        }\n",
       "      }\n",
       "    }, 10, root)\n",
       "  }\n",
       "})(window);</script>"
      ],
      "text/plain": [
       ":NdOverlay   [Class]\n",
       "   :Scatter   [TotalCoinsMined]   (TotalCoinSupply,CoinName)"
      ]
     },
     "execution_count": 86,
     "metadata": {
      "application/vnd.holoviews_exec.v0+json": {
       "id": "8064"
      }
     },
     "output_type": "execute_result"
    }
   ],
   "source": [
    "# Create a hvplot.scatter plot using x=\"TotalCoinsMined\" and y=\"TotalCoinSupply\".\r\n",
    "new_clustered_df.hvplot.scatter(\r\n",
    "    x=\"TotalCoinsMined\",\r\n",
    "    y=\"TotalCoinSupply\",\r\n",
    "    by=\"Class\",\r\n",
    "    xlim=(0, 2e+11),\r\n",
    "    ylim=(0, 3.5e+11),\r\n",
    "    hover_cols=[\"CoinName\"],\r\n",
    "    frame_height=500,\r\n",
    "    frame_width=500)\r\n"
   ]
  },
  {
   "cell_type": "code",
   "execution_count": 77,
   "metadata": {},
   "outputs": [
    {
     "data": {},
     "metadata": {},
     "output_type": "display_data"
    },
    {
     "data": {
      "application/vnd.holoviews_exec.v0+json": "",
      "text/html": [
       "<div id='4290'>\n",
       "\n",
       "\n",
       "\n",
       "\n",
       "\n",
       "  <div class=\"bk-root\" id=\"f89fd42f-5135-4ef0-add1-62773a91b41f\" data-root-id=\"4290\"></div>\n",
       "</div>\n",
       "<script type=\"application/javascript\">(function(root) {\n",
       "  function embed_document(root) {\n",
       "    var docs_json = {\"1053dfbc-7789-42a5-8a44-398cd9d70e4d\":{\"defs\":[],\"roots\":{\"references\":[{\"attributes\":{\"angle\":{\"value\":0.0},\"fill_alpha\":{\"value\":1.0},\"fill_color\":{\"value\":\"#6d904f\"},\"hatch_alpha\":{\"value\":1.0},\"hatch_color\":{\"value\":\"black\"},\"hatch_scale\":{\"value\":12.0},\"hatch_weight\":{\"value\":1.0},\"line_alpha\":{\"value\":1.0},\"line_cap\":{\"value\":\"butt\"},\"line_color\":{\"value\":\"#6d904f\"},\"line_dash\":{\"value\":[]},\"line_dash_offset\":{\"value\":0},\"line_join\":{\"value\":\"bevel\"},\"line_width\":{\"value\":1},\"marker\":{\"value\":\"circle\"},\"size\":{\"value\":5.477225575051661},\"x\":{\"field\":\"TotalCoinsMined\"},\"y\":{\"field\":\"TotalCoinSupply\"}},\"id\":\"4427\",\"type\":\"Scatter\"},{\"attributes\":{\"fill_alpha\":{\"value\":0.1},\"fill_color\":{\"value\":\"#6d904f\"},\"line_alpha\":{\"value\":0.1},\"line_color\":{\"value\":\"#6d904f\"},\"size\":{\"value\":5.477225575051661},\"x\":{\"field\":\"TotalCoinsMined\"},\"y\":{\"field\":\"TotalCoinSupply\"}},\"id\":\"4406\",\"type\":\"Scatter\"},{\"attributes\":{},\"id\":\"4357\",\"type\":\"Selection\"},{\"attributes\":{\"data\":{\"Class\":[2],\"CoinName\":[\"BitTorrent\"],\"TotalCoinSupply\":[\"990000000000\"],\"TotalCoinsMined\":{\"__ndarray__\":\"xfR7nv3PbEI=\",\"dtype\":\"float64\",\"order\":\"little\",\"shape\":[1]}},\"selected\":{\"id\":\"4379\"},\"selection_policy\":{\"id\":\"4397\"}},\"id\":\"4378\",\"type\":\"ColumnDataSource\"},{\"attributes\":{\"source\":{\"id\":\"4402\"}},\"id\":\"4409\",\"type\":\"CDSView\"},{\"attributes\":{},\"id\":\"4373\",\"type\":\"UnionRenderers\"},{\"attributes\":{},\"id\":\"4403\",\"type\":\"Selection\"},{\"attributes\":{\"fill_color\":{\"value\":\"#fc4f30\"},\"line_color\":{\"value\":\"#fc4f30\"},\"size\":{\"value\":5.477225575051661},\"x\":{\"field\":\"TotalCoinsMined\"},\"y\":{\"field\":\"TotalCoinSupply\"}},\"id\":\"4359\",\"type\":\"Scatter\"},{\"attributes\":{\"fill_alpha\":{\"value\":0.2},\"fill_color\":{\"value\":\"#fc4f30\"},\"line_alpha\":{\"value\":0.2},\"line_color\":{\"value\":\"#fc4f30\"},\"size\":{\"value\":5.477225575051661},\"x\":{\"field\":\"TotalCoinsMined\"},\"y\":{\"field\":\"TotalCoinSupply\"}},\"id\":\"4361\",\"type\":\"Scatter\"},{\"attributes\":{\"fill_alpha\":{\"value\":0.1},\"fill_color\":{\"value\":\"#fc4f30\"},\"line_alpha\":{\"value\":0.1},\"line_color\":{\"value\":\"#fc4f30\"},\"size\":{\"value\":5.477225575051661},\"x\":{\"field\":\"TotalCoinsMined\"},\"y\":{\"field\":\"TotalCoinSupply\"}},\"id\":\"4360\",\"type\":\"Scatter\"},{\"attributes\":{\"angle\":{\"value\":0.0},\"fill_alpha\":{\"value\":1.0},\"fill_color\":{\"value\":\"#8b8b8b\"},\"hatch_alpha\":{\"value\":1.0},\"hatch_color\":{\"value\":\"black\"},\"hatch_scale\":{\"value\":12.0},\"hatch_weight\":{\"value\":1.0},\"line_alpha\":{\"value\":1.0},\"line_cap\":{\"value\":\"butt\"},\"line_color\":{\"value\":\"#8b8b8b\"},\"line_dash\":{\"value\":[]},\"line_dash_offset\":{\"value\":0},\"line_join\":{\"value\":\"bevel\"},\"line_width\":{\"value\":1},\"marker\":{\"value\":\"circle\"},\"size\":{\"value\":5.477225575051661},\"x\":{\"field\":\"TotalCoinsMined\"},\"y\":{\"field\":\"TotalCoinSupply\"}},\"id\":\"4455\",\"type\":\"Scatter\"},{\"attributes\":{\"fill_color\":{\"value\":\"#6d904f\"},\"line_color\":{\"value\":\"#6d904f\"},\"size\":{\"value\":5.477225575051661},\"x\":{\"field\":\"TotalCoinsMined\"},\"y\":{\"field\":\"TotalCoinSupply\"}},\"id\":\"4405\",\"type\":\"Scatter\"},{\"attributes\":{\"margin\":[5,5,5,5],\"name\":\"HSpacer09252\",\"sizing_mode\":\"stretch_width\"},\"id\":\"4291\",\"type\":\"Spacer\"},{\"attributes\":{},\"id\":\"4331\",\"type\":\"AllLabels\"},{\"attributes\":{\"data\":{\"Class\":[1,1,1,1,1,1,1,1,1,1,1,1,1,1,1,1,1,1,1,1,1,1,1,1,1,1,1,1,1,1,1,1,1,1,1,1,1,1,1,1,1,1,1,1,1,1,1,1,1,1,1,1,1,1,1,1,1,1,1,1,1,1,1,1,1,1,1,1,1,1,1,1,1,1,1,1,1,1,1,1,1,1,1,1,1,1,1,1,1,1,1,1,1,1,1,1,1,1,1,1,1,1,1,1,1,1,1,1,1,1,1,1,1,1,1,1,1,1,1,1,1,1,1,1,1,1,1,1,1,1,1,1,1,1,1,1,1,1,1,1,1,1,1,1,1,1,1,1,1,1,1,1,1,1,1,1,1,1,1,1,1,1,1,1,1,1,1,1,1,1,1,1,1,1,1,1,1,1,1,1,1,1,1,1,1,1,1,1,1,1,1,1,1,1,1,1,1,1,1,1,1,1,1,1,1,1,1,1,1,1,1,1,1,1,1,1,1,1,1,1,1,1,1,1,1,1,1,1,1,1,1,1,1],\"CoinName\":[\"Bitcoin\",\"Ethereum\",\"Litecoin\",\"Monero\",\"Ethereum Classic\",\"ZCash\",\"DigiByte\",\"ProsperCoin\",\"Spreadcoin\",\"Argentum\",\"MyriadCoin\",\"ZetaCoin\",\"SexCoin\",\"Quatloo\",\"QuarkCoin\",\"Riecoin\",\"Digitalcoin \",\"Catcoin\",\"CannaCoin\",\"CryptCoin\",\"Verge\",\"DevCoin\",\"EarthCoin\",\"E-Gulden\",\"Einsteinium\",\"Emerald\",\"Franko\",\"FeatherCoin\",\"GrandCoin\",\"GlobalCoin\",\"GoldCoin\",\"Infinite Coin\",\"IXcoin\",\"KrugerCoin\",\"LuckyCoin\",\"Litebar \",\"MegaCoin\",\"MediterraneanCoin\",\"MinCoin\",\"NobleCoin\",\"Namecoin\",\"NyanCoin\",\"RonPaulCoin\",\"StableCoin\",\"SmartCoin\",\"SysCoin\",\"TigerCoin\",\"TerraCoin\",\"UnbreakableCoin\",\"Unobtanium\",\"UroCoin\",\"ViaCoin\",\"Vertcoin\",\"WorldCoin\",\"JouleCoin\",\"DigitalNote \",\"MonaCoin\",\"Gulden\",\"PesetaCoin\",\"Wild Beast Coin\",\"Flo\",\"ArtByte\",\"Folding Coin\",\"Unitus\",\"CypherPunkCoin\",\"OmniCron\",\"GreenCoin\",\"Cryptonite\",\"MasterCoin\",\"SoonCoin\",\"1Credit\",\"MarsCoin \",\"Crypto\",\"Anarchists Prime\",\"BowsCoin\",\"Song Coin\",\"BitZeny\",\"Expanse\",\"Siacoin\",\"MindCoin\",\"I0coin\",\"Revolution VR\",\"HOdlcoin\",\"Gamecredits\",\"CarpeDiemCoin\",\"Adzcoin\",\"SoilCoin\",\"YoCoin\",\"SibCoin\",\"Francs\",\"BolivarCoin\",\"Omni\",\"PizzaCoin\",\"Komodo\",\"Karbo\",\"ZayedCoin\",\"Circuits of Value\",\"DopeCoin\",\"DollarCoin\",\"Shilling\",\"ZCoin\",\"Elementrem\",\"ZClassic\",\"KiloCoin\",\"ArtexCoin\",\"Kurrent\",\"Cannabis Industry Coin\",\"OsmiumCoin\",\"Bikercoins\",\"HexxCoin\",\"PacCoin\",\"Citadel\",\"BeaverCoin\",\"VaultCoin\",\"Zero\",\"Canada eCoin\",\"Zoin\",\"DubaiCoin\",\"EB3coin\",\"Coinonat\",\"BenjiRolls\",\"ILCoin\",\"EquiTrader\",\"Quantum Resistant Ledger\",\"Dynamic\",\"Nano\",\"ChanCoin\",\"Dinastycoin\",\"DigitalPrice\",\"Unify\",\"SocialCoin\",\"ArcticCoin\",\"DAS\",\"LeviarCoin\",\"Bitcore\",\"SmartCash\",\"Onix\",\"Bitcoin Cash\",\"Sojourn Coin\",\"NewYorkCoin\",\"FrazCoin\",\"Kronecoin\",\"AdCoin\",\"Linx\",\"Sumokoin\",\"BitcoinZ\",\"Elements\",\"VIVO Coin\",\"Bitcoin Gold\",\"Pirl\",\"eBoost\",\"Pura\",\"Innova\",\"Ellaism\",\"GoByte\",\"SHIELD\",\"UltraNote\",\"BitCoal\",\"DaxxCoin\",\"AC3\",\"Lethean\",\"PopularCoin\",\"Photon\",\"Sucre\",\"SparksPay\",\"GunCoin\",\"IrishCoin\",\"Pioneer Coin\",\"UnitedBitcoin\",\"Interzone\",\"MUNcoin\",\"Niobio Cash\",\"ShareChain\",\"Travelflex\",\"KREDS\",\"BitFlip\",\"LottoCoin\",\"Crypto Improvement Fund\",\"Callisto Network\",\"BitTube\",\"Poseidon\",\"Aidos Kuneen\",\"Bitrolium\",\"Alpenschillling\",\"FuturoCoin\",\"Monero Classic\",\"Jumpcoin\",\"Infinex\",\"KEYCO\",\"GINcoin\",\"PlatinCoin\",\"Loki\",\"Newton Coin\",\"MassGrid\",\"PluraCoin\",\"Motion\",\"PlusOneCoin\",\"Axe\",\"HexCoin\",\"Webchain\",\"Ryo\",\"Urals Coin\",\"Project Pai\",\"Azart\",\"Xchange\",\"CrypticCoin\",\"Actinium\",\"Bitcoin SV\",\"FREDEnergy\",\"Universal Molecule\",\"Lithium\",\"Exosis\",\"Block-Logic\",\"Beam\",\"Bithereum\",\"SLICE\",\"BLAST\",\"Bitcoin Rhodium\",\"GlobalToken\",\"SolarCoin\",\"UFO Coin\",\"BlakeCoin\",\"Crypto Escudo\",\"Crown Coin\",\"SmileyCoin\",\"Groestlcoin\",\"Bata\",\"Pakcoin\",\"JoinCoin\",\"Vollar\",\"Reality Clash\",\"Beldex\",\"Horizen\"],\"TotalCoinSupply\":[\"21000000\",\"0\",\"84000000\",\"0\",\"210000000\",\"21000000\",\"21000000000\",\"21000000\",\"20000000\",\"64000000\",\"2000000000\",\"169795588\",\"250000000\",\"100000000\",\"247000000\",\"84000000\",\"48166000\",\"21000000 \",\"13140000\",\"18000000\",\"16555000000\",\"21000000000\",\"13500000000\",\"21000000 \",\"299792458\",\"32000000\",\"11235813\",\"336000000\",\"1420609614\",\"70000000\",\"72245700\",\"90600000000\",\"21000000\",\"265420800\",\"20000000\",\"1350000\",\"42000000\",\"200000000\",\"10000000\",\"15000000000\",\"21000000\",\"337000000\",\"21000000\",\"250000000\",\"51200000\",\"888000000\",\"47011968\",\"42000000\",\"80000000\",\"250000\",\"0\",\"23000000\",\"84000000\",\"265420800\",\"45000000\",\"10000000000\",\"105120000\",\"1680000000\",\"166386000\",\"2628000\",\"160000000\",\"1000000000\",\"1000000000\",\"0\",\"0\",\"3371337\",\"10000000000\",\"1840000000\",\"619478\",\"21000000\",\"92000000000\",\"33000000\",\"65789100\",\"53760000\",\"21000000\",\"210240000\",\"250000000\",\"16906397\",\"0\",\"16000000\",\"21000000\",\"210000000\",\"81962100\",\"84000000\",\"21626280000 \",\"84000000\",\"30000000\",\"168351300\",\"24000000\",\"20000000\",\"25000000\",\"616448\",\"25000000\",\"200000000\",\"10000000\",\"9736000\",\"1200000000\",\"200000000\",\"10638298\",\"30000000\",\"21400000\",\"26205539\",\"21000000\",\"10000000000\",\"500000000\",\"228000000\",\"21000000\",\"2714286\",\"25000000\",\"9999999\",\"100000000000\",\"185000000\",\"3360000\",\"1000000000\",\"17000000\",\"100000000 \",\"21000000\",\"2232901\",\"4000000000\",\"48252000\",\"35520400\",\"2500000000\",\"72000000\",\"105000000\",\"0\",\"340282367\",\"30000000\",\"2000000000\",\"100000000\",\"19276800\",\" 75000000\",\"60000000\",\"18900000\",\"54000000\",\"21000000\",\"5000000000\",\"1100000000\",\"21000000\",\"10500000000\",\"0\",\"20000000\",\"84000000\",\"100000000\",\"100000000\",\"88888888\",\"21000000000\",\"1800000000\",\"27000000\",\"21000000\",\"156306732.71\",\"100000000\",\"350000000\",\"45000000\",\"280000000\",\"31800000\",\"660000000\",\"85000000000\",\"12500000\",\"10000000000\",\"550000000\",\"999481516\",\"4999999999\",\" 90000000000\",\"19800000\",\"21000000\",\"500000000\",\"64000000\",\"23000000\",\"20166000\",\"23000000\",\"16600000\",\"336000000\",\"10000000000\",\"100000000\",\"1100000000\",\"40000000\",\"18406979840\",\"500000000\",\"6500000000\",\"1000000000\",\"21000000\",\"25000000\",\"70000000\",\"300000000\",\"100000000\",\"18400000\",\"21000000\",\"26280000\",\"18000000\",\"10500000\",\"600000518\",\"150000000\",\"184000000000\",\"168000000\",\"1000000000\",\"22075700\",\"21000000\",\"21000000\",\"22105263\",\"1750000000\",\"88188888\",\"210000000\",\"2100000000\",\"25000000\",\"100000000\",\"7600000000\",\"84000000\",\"21000000\",\"8080000000\",\"105120001.44\",\"25228800\",\"21000000\",\"120000000\",\"262800000\",\"30886000\",\"100000000\",\"64000000\",\"2100000\",\"168000000\",\"98100000000\",\"4000000000\",\"7000000000\",\"1000000000\",\"42000000\",\"50000000000\",\"105000000\",\"5000000\",\"182000000\",\"2800000\",\"2100000000\",\"24487944\",\"1400222610\",\"21000000\"],\"TotalCoinsMined\":{\"__ndarray__\":\"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\",\"dtype\":\"float64\",\"order\":\"little\",\"shape\":[233]}},\"selected\":{\"id\":\"4357\"},\"selection_policy\":{\"id\":\"4373\"}},\"id\":\"4356\",\"type\":\"ColumnDataSource\"},{\"attributes\":{\"fill_alpha\":{\"value\":0.2},\"fill_color\":{\"value\":\"#6d904f\"},\"line_alpha\":{\"value\":0.2},\"line_color\":{\"value\":\"#6d904f\"},\"size\":{\"value\":5.477225575051661},\"x\":{\"field\":\"TotalCoinsMined\"},\"y\":{\"field\":\"TotalCoinSupply\"}},\"id\":\"4407\",\"type\":\"Scatter\"},{\"attributes\":{},\"id\":\"4329\",\"type\":\"BasicTickFormatter\"},{\"attributes\":{\"angle\":{\"value\":0.0},\"fill_alpha\":{\"value\":1.0},\"fill_color\":{\"value\":\"#fc4f30\"},\"hatch_alpha\":{\"value\":1.0},\"hatch_color\":{\"value\":\"black\"},\"hatch_scale\":{\"value\":12.0},\"hatch_weight\":{\"value\":1.0},\"line_alpha\":{\"value\":1.0},\"line_cap\":{\"value\":\"butt\"},\"line_color\":{\"value\":\"#fc4f30\"},\"line_dash\":{\"value\":[]},\"line_dash_offset\":{\"value\":0},\"line_join\":{\"value\":\"bevel\"},\"line_width\":{\"value\":1},\"marker\":{\"value\":\"circle\"},\"size\":{\"value\":5.477225575051661},\"x\":{\"field\":\"TotalCoinsMined\"},\"y\":{\"field\":\"TotalCoinSupply\"}},\"id\":\"4377\",\"type\":\"Scatter\"},{\"attributes\":{},\"id\":\"4423\",\"type\":\"UnionRenderers\"},{\"attributes\":{\"children\":[{\"id\":\"4291\"},{\"id\":\"4299\"},{\"id\":\"4618\"}],\"margin\":[0,0,0,0],\"name\":\"Row09248\",\"tags\":[\"embedded\"]},\"id\":\"4290\",\"type\":\"Row\"},{\"attributes\":{\"data\":{\"Class\":[0,0,0,0,0,0,0,0,0,0,0,0,0,0,0,0,0,0,0,0,0,0,0,0,0,0,0,0,0,0,0,0,0,0,0,0,0,0,0,0,0,0,0,0,0,0,0,0,0,0,0,0,0,0,0,0,0,0,0,0,0,0,0,0,0,0,0,0,0,0,0,0,0,0,0,0,0,0,0,0,0,0,0,0,0,0,0,0,0,0,0,0,0,0,0,0,0,0,0,0,0,0,0,0,0,0,0,0,0,0,0,0,0,0,0,0,0,0,0,0,0,0,0,0,0,0,0,0,0,0,0,0,0,0,0,0,0,0,0,0,0,0,0,0,0,0,0,0,0,0,0,0,0,0,0,0,0,0,0,0,0,0,0,0,0,0,0,0,0,0,0,0,0,0,0,0,0,0,0,0,0,0,0,0,0,0,0,0,0,0,0,0,0,0,0,0,0,0,0,0,0,0,0,0,0,0,0,0,0,0,0,0,0,0,0,0,0,0,0,0,0,0,0,0,0,0,0,0,0,0,0,0,0,0,0,0,0,0,0,0,0,0,0,0,0,0,0,0,0,0,0,0,0,0,0,0,0,0,0,0,0,0,0,0,0,0,0,0,0,0,0,0,0,0,0,0,0,0],\"CoinName\":[\"42 Coin\",\"404Coin\",\"Dash\",\"Bitshares\",\"BitcoinDark\",\"PayCoin\",\"KoboCoin\",\"Aurora Coin\",\"BlueCoin\",\"EnergyCoin\",\"BitBar\",\"CryptoBullion\",\"CasinoCoin\",\"Diamond\",\"Exclusive Coin\",\"FlutterCoin\",\"HoboNickels\",\"HyperStake\",\"IOCoin\",\"MaxCoin\",\"MintCoin\",\"MazaCoin\",\"Nautilus Coin\",\"NavCoin\",\"OpalCoin\",\"Orbitcoin\",\"PotCoin\",\"PhoenixCoin\",\"Reddcoin\",\"SuperCoin\",\"SyncCoin\",\"TeslaCoin\",\"TittieCoin\",\"TorCoin\",\"UnitaryStatus Dollar\",\"UltraCoin\",\"VeriCoin\",\"X11 Coin\",\"Crypti\",\"StealthCoin\",\"ZCC Coin\",\"BurstCoin\",\"StorjCoin\",\"Neutron\",\"FairCoin\",\"RubyCoin\",\"Kore\",\"Dnotes\",\"8BIT Coin\",\"Sativa Coin\",\"Ucoin\",\"Vtorrent\",\"IslaCoin\",\"Nexus\",\"Droidz\",\"Squall Coin\",\"Diggits\",\"Paycon\",\"Emercoin\",\"EverGreenCoin\",\"Decred\",\"EDRCoin\",\"Hitcoin\",\"DubaiCoin\",\"PWR Coin\",\"BillaryCoin\",\"GPU Coin\",\"EuropeCoin\",\"ZeitCoin\",\"SwingCoin\",\"SafeExchangeCoin\",\"Nebuchadnezzar\",\"Ratecoin\",\"Revenu\",\"Clockcoin\",\"VIP Tokens\",\"BitSend\",\"Let it Ride\",\"PutinCoin\",\"iBankCoin\",\"Frankywillcoin\",\"MudraCoin\",\"Lutetium Coin\",\"GoldBlocks\",\"CarterCoin\",\"BitTokens\",\"MustangCoin\",\"ZoneCoin\",\"RootCoin\",\"BitCurrency\",\"Swiscoin\",\"BuzzCoin\",\"Opair\",\"PesoBit\",\"Halloween Coin\",\"CoffeeCoin\",\"RoyalCoin\",\"GanjaCoin V2\",\"TeamUP\",\"LanaCoin\",\"InsaneCoin\",\"EmberCoin\",\"XenixCoin\",\"FreeCoin\",\"PLNCoin\",\"AquariusCoin\",\"Creatio\",\"Eternity\",\"Eurocoin\",\"BitcoinFast\",\"Stakenet\",\"BitConnect Coin\",\"MoneyCoin\",\"Enigma\",\"Russiacoin\",\"PandaCoin\",\"GameUnits\",\"GAKHcoin\",\"Allsafe\",\"LiteCreed\",\"Klingon Empire Darsek\",\"Internet of People\",\"KushCoin\",\"Printerium\",\"Impeach\",\"Zilbercoin\",\"FirstCoin\",\"FindCoin\",\"OpenChat\",\"RenosCoin\",\"VirtacoinPlus\",\"TajCoin\",\"Impact\",\"Atmos\",\"HappyCoin\",\"MacronCoin\",\"Condensate\",\"Independent Money System\",\"ArgusCoin\",\"LomoCoin\",\"ProCurrency\",\"GoldReserve\",\"GrowthCoin\",\"Phreak\",\"Degas Coin\",\"HTML5 Coin\",\"Ultimate Secure Cash\",\"QTUM\",\"Espers\",\"Denarius\",\"Virta Unique Coin\",\"Bitcoin Planet\",\"BritCoin\",\"Linda\",\"DeepOnion\",\"Signatum\",\"Cream\",\"Monoeci\",\"Draftcoin\",\"Stakecoin\",\"CoinonatX\",\"Ethereum Dark\",\"Obsidian\",\"Cardano\",\"Regalcoin\",\"TrezarCoin\",\"TerraNovaCoin\",\"Rupee\",\"WomenCoin\",\"Theresa May Coin\",\"NamoCoin\",\"LUXCoin\",\"Xios\",\"Bitcloud 2.0\",\"KekCoin\",\"BlackholeCoin\",\"Infinity Economics\",\"Magnet\",\"Electra\",\"Bitcoin Diamond\",\"Cash & Back Coin\",\"Bulwark\",\"Kalkulus\",\"GermanCoin\",\"LiteCoin Ultra\",\"PhantomX\",\"Digiwage\",\"Trollcoin\",\"Litecoin Plus\",\"Monkey Project\",\"TokenPay\",\"1717 Masonic Commemorative Token\",\"My Big Coin\",\"Unified Society USDEX\",\"Tokyo Coin\",\"Stipend\",\"Pushi\",\"Ellerium\",\"Velox\",\"Ontology\",\"Bitspace\",\"Briacoin\",\"Ignition\",\"MedicCoin\",\"Bitcoin Green\",\"Deviant Coin\",\"Abjcoin\",\"Carebit\",\"Zealium\",\"Proton\",\"iDealCash\",\"Bitcoin Incognito\",\"HollyWoodCoin\",\"Swisscoin\",\"Xt3ch\",\"TheVig\",\"EmaratCoin\",\"Dekado\",\"Poseidon Quark\",\"BitcoinWSpectrum\",\"Muse\",\"Trivechain\",\"Dystem\",\"Giant\",\"Peony Coin\",\"Absolute Coin\",\"Vitae\",\"TPCash\",\"ARENON\",\"EUNO\",\"MMOCoin\",\"Ketan\",\"XDNA\",\"PAXEX\",\"ThunderStake\",\"Kcash\",\"Acute Angle Cloud\",\"Bettex coin\",\"BitMoney\",\"Junson Ming Chan Coin\",\"HerbCoin\",\"PirateCash\",\"Oduwa\",\"Galilel\",\"Crypto Sports\",\"Credit\",\"Dash Platinum\",\"Nasdacoin\",\"Beetle Coin\",\"Titan Coin\",\"Award\",\"Insane Coin\",\"LiteDoge\",\"TruckCoin\",\"OrangeCoin\",\"BitstarCoin\",\"NeosCoin\",\"HyperCoin\",\"PinkCoin\",\"AudioCoin\",\"IncaKoin\",\"Piggy Coin\",\"Genstake\",\"XiaoMiCoin\",\"CapriCoin\",\" ClubCoin\",\"Radium\",\"Creditbit \",\"OKCash\",\"HiCoin\",\"WhiteCoin\",\"FriendshipCoin\",\"Triangles Coin\",\"TigerCash\",\"Particl\",\"Nxt\",\"Gapcoin\",\"BitcoinPlus\"],\"TotalCoinSupply\":[\"42\",\"532000000\",\"22000000\",\"3600570502\",\"22000000\",\"12500000\",\"350000000\",\"16768584\",\"0\",\"0\",\"500000\",\"1000000\",\"40000000000\",\"4380000\",\"0\",\"0\",\"120000000\",\"0\",\"22000000\",\"100000000\",\"0\",\"2419200000\",\"16180000\",\"0\",\"0\",\"3770000\",\"420000000\",\"98000000\",\"0\",\"0\",\"1000\",\"100000000\",\"2300000000\",\"10000000\",\"1600000000\",\"100000000\",\"0\",\"5500000\",\"0\",\"0\",\"1000000000\",\"2158812800\",\"500000000\",\"68000000\",\"0\",\"0\",\"12000000\",\"500000000\",\"0\",\"10000000\",\"20000000\",\"20000000\",\"0\",\"78000000\",\"5060000\",\"0\",\"100000000\",\"50000000\",\"1000000000\",\"26298000\",\"21000000\",\"22000000\",\"26550000000\",\"10500000\",\"0\",\"42000000\",\"221052632\",\"384000000\",\" 99000000000\",\"40000000\",\"2147483647\",\"20000000\",\"75000000\",\"222725000\",\"525000000\",\"90000000\",\"139000000\",\"33500000\",\"2000000000\",\"44333333\",\"100000000\",\"200000000\",\"657000000\",\"50000000\",\"90000000\",\"21000000\",\"3000000\",\"21000000\",\"0\",\"0\",\"3100000000\",\"20000000000\",\"74000000\",\"0\",\"1500000000\",\"39999898\",\"2500124\",\"100000000\",\"301000000\",\"7506000000\",\"30000000\",\"850000000\",\"3853326.77707314\",\"50000000\",\"38540000 \",\"42000000\",\"20000000\",\"60000000\",\"20000000\",\"33000000\",\"76500000\",\"28000000\",\"650659833\",\"5000000\",\"144000000\",\"32514916898\",\"13000000\",\"3315789\",\"15000000\",\"78835200\",\"500000000\",\"21000000\",\"9354000\",\"20000000\",\"21933333\",\"55000000\",\"110000000\",\"14524851.4827\",\"1000000000\",\"34426423\",\"100000000\",\"36900000\",\"110000000\",\"110290030\",\"100000000\",\"400000000\",\"500000000\",\"21212121\",\"28600000\",\"1000000000\",\"75000000000\",\"40000000\",\"2000000000\",\"30000000\",\"105000000\",\"90000000000\",\"200084200\",\"100000000\",\"50000000000\",\"10000000\",\"120000000\",\"100000000\",\"30000000\",\"50000000000\",\"18898187.6216583\",\"137500000\",\"100000000\",\"9507271\",\"17405891.19707116\",\"61599965\",\"48252000\",\"4200000\",\"91388946\",\"45000000000\",\"27000000\",\"400000000\",\"15733333\",\"24000000\",\"25000000000\",\"100000000\",\"1200000000\",\"60000000\",\"21000000\",\"200000000\",\"21000000\",\"14788275.991\",\"9000000000\",\"144000000\",\"30000000000\",\"210000000\",\"210000000\",\"27716121\",\"20000000\",\"50000000000\",\"150000000\",\"50000000\",\"120000000\",\"900000000\",\"4000000\",\"21000000\",\"25000000\",\"1618033\",\"30000000\",\"232000000\",\"800000000\",\"19340594\",\"25000000\",\"60000000\",\"124000000\",\"1000000000\",\"50000000\",\"3000000\",\"5000000\",\"500000000\",\"21000000\",\"88000000\",\"30000000\",\"200000000\",\"80000000\",\"45000000\",\"5121951220\",\"21000000\",\"26000000\",\"10200000000\",\"44000000\",\"100000000\",\"84000000\",\"90000000\",\"650000000 \",\"100262205\",\"18081806 \",\"82546564\",\"21000000\",\"5151000\",\"16880000000\",\"52500000\",\"100000000\",\"1000000000\",\"55000000\",\"50000000\",\"260000000\",\"210000000\",\"366000000\",\"100000000\",\"18000000000\",\"1000000000\",\"1000000000\",\"50000000\",\"70000000000\",\"0\",\"54000000\",\"105000000\",\"21000000\",\"19035999\",\"13370000\",\"74800000000\",\"19700000\",\"84000000\",\"500000000\",\"5000000000\",\"420000000\",\"30000000\",\"35000000000\",\"0\",\"200000000\",\"54256119\",\"21000000\",\"0\",\"500000000\",\"10500000000\",\"190000000\",\"1000000000\",\"15000000\",\"400000000\",\"208000000\",\"160000000\",\"9000000\",\"16504333\",\"105000000\",\"10008835635\",\"300000000\",\"60168145\",\"120000\",\"1000000000\",\"8634140\",\"1000000000\",\"250000000\",\"1000000\"],\"TotalCoinsMined\":{\"__ndarray__\":\"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\",\"dtype\":\"float64\",\"order\":\"little\",\"shape\":[278]}},\"selected\":{\"id\":\"4336\"},\"selection_policy\":{\"id\":\"4350\"}},\"id\":\"4335\",\"type\":\"ColumnDataSource\"},{\"attributes\":{\"label\":{\"value\":\"3\"},\"renderers\":[{\"id\":\"4408\"}]},\"id\":\"4426\",\"type\":\"LegendItem\"},{\"attributes\":{\"margin\":[5,5,5,5],\"name\":\"HSpacer09253\",\"sizing_mode\":\"stretch_width\"},\"id\":\"4618\",\"type\":\"Spacer\"},{\"attributes\":{\"fill_alpha\":{\"value\":0.1},\"fill_color\":{\"value\":\"#e5ae38\"},\"line_alpha\":{\"value\":0.1},\"line_color\":{\"value\":\"#e5ae38\"},\"size\":{\"value\":5.477225575051661},\"x\":{\"field\":\"TotalCoinsMined\"},\"y\":{\"field\":\"TotalCoinSupply\"}},\"id\":\"4382\",\"type\":\"Scatter\"},{\"attributes\":{\"bottom_units\":\"screen\",\"fill_alpha\":0.5,\"fill_color\":\"lightgrey\",\"left_units\":\"screen\",\"level\":\"overlay\",\"line_alpha\":1.0,\"line_color\":\"black\",\"line_dash\":[4,4],\"line_width\":2,\"right_units\":\"screen\",\"syncable\":false,\"top_units\":\"screen\"},\"id\":\"4321\",\"type\":\"BoxAnnotation\"},{\"attributes\":{\"end\":200000000000.0,\"reset_end\":200000000000.0,\"reset_start\":0,\"tags\":[[[\"TotalCoinsMined\",\"TotalCoinsMined\",null]]]},\"id\":\"4292\",\"type\":\"Range1d\"},{\"attributes\":{},\"id\":\"4379\",\"type\":\"Selection\"},{\"attributes\":{\"data_source\":{\"id\":\"4378\"},\"glyph\":{\"id\":\"4381\"},\"hover_glyph\":null,\"muted_glyph\":{\"id\":\"4383\"},\"nonselection_glyph\":{\"id\":\"4382\"},\"selection_glyph\":{\"id\":\"4401\"},\"view\":{\"id\":\"4385\"}},\"id\":\"4384\",\"type\":\"GlyphRenderer\"},{\"attributes\":{\"source\":{\"id\":\"4378\"}},\"id\":\"4385\",\"type\":\"CDSView\"},{\"attributes\":{\"data\":{\"Class\":[4,4,4,4,4,4,4,4,4,4,4,4,4,4,4],\"CoinName\":[\"EliteCoin\",\"MoonCoin\",\"ByteCoin\",\"ARK\",\"gCn Coin\",\"Lamden Tau\",\"TurtleCoin\",\"Semux\",\"Lynx\",\"Qwertycoin\",\"ALAX\",\"Lisk\",\"EOS\",\"Oxycoin\",\"ZEPHYR\"],\"TotalCoinSupply\":[\"314159265359\",\"384000000000\",\"184467440735\",\"125000000\",\"200000000000\",\"500000000\",\"1000000000000\",\"100000000\",\"92000000000\",\"184470000000\",\"1000000000\",\"159918400\",\"0\",\"0\",\"2000000000\"],\"TotalCoinsMined\":{\"__ndarray__\":\"xAK6QcJEG0IAAAAAAABWQAAAB3WebUVCAAAAkCHMmUEAAE6ra/tCQmFvfsfpK7FBPYqbEsO+KEIAAAAAK8kyQVnmi1WJITJCXc0A6tMtN0IAAAAAZc3NQQAAALD1nJxB2T2JBSNqzkEUrtdyjLnQQfOO0/5kzd1B\",\"dtype\":\"float64\",\"order\":\"little\",\"shape\":[15]}},\"selected\":{\"id\":\"4429\"},\"selection_policy\":{\"id\":\"4451\"}},\"id\":\"4428\",\"type\":\"ColumnDataSource\"},{\"attributes\":{\"fill_color\":{\"value\":\"#e5ae38\"},\"line_color\":{\"value\":\"#e5ae38\"},\"size\":{\"value\":5.477225575051661},\"x\":{\"field\":\"TotalCoinsMined\"},\"y\":{\"field\":\"TotalCoinSupply\"}},\"id\":\"4381\",\"type\":\"Scatter\"},{\"attributes\":{},\"id\":\"4317\",\"type\":\"PanTool\"},{\"attributes\":{\"angle\":{\"value\":0.0},\"fill_alpha\":{\"value\":1.0},\"fill_color\":{\"value\":\"#e5ae38\"},\"hatch_alpha\":{\"value\":1.0},\"hatch_color\":{\"value\":\"black\"},\"hatch_scale\":{\"value\":12.0},\"hatch_weight\":{\"value\":1.0},\"line_alpha\":{\"value\":1.0},\"line_cap\":{\"value\":\"butt\"},\"line_color\":{\"value\":\"#e5ae38\"},\"line_dash\":{\"value\":[]},\"line_dash_offset\":{\"value\":0},\"line_join\":{\"value\":\"bevel\"},\"line_width\":{\"value\":1},\"marker\":{\"value\":\"circle\"},\"size\":{\"value\":5.477225575051661},\"x\":{\"field\":\"TotalCoinsMined\"},\"y\":{\"field\":\"TotalCoinSupply\"}},\"id\":\"4401\",\"type\":\"Scatter\"},{\"attributes\":{\"data_source\":{\"id\":\"4356\"},\"glyph\":{\"id\":\"4359\"},\"hover_glyph\":null,\"muted_glyph\":{\"id\":\"4361\"},\"nonselection_glyph\":{\"id\":\"4360\"},\"selection_glyph\":{\"id\":\"4377\"},\"view\":{\"id\":\"4363\"}},\"id\":\"4362\",\"type\":\"GlyphRenderer\"},{\"attributes\":{},\"id\":\"4350\",\"type\":\"UnionRenderers\"},{\"attributes\":{\"fill_alpha\":{\"value\":0.2},\"fill_color\":{\"value\":\"#e5ae38\"},\"line_alpha\":{\"value\":0.2},\"line_color\":{\"value\":\"#e5ae38\"},\"size\":{\"value\":5.477225575051661},\"x\":{\"field\":\"TotalCoinsMined\"},\"y\":{\"field\":\"TotalCoinSupply\"}},\"id\":\"4383\",\"type\":\"Scatter\"},{\"attributes\":{\"label\":{\"value\":\"2\"},\"renderers\":[{\"id\":\"4384\"}]},\"id\":\"4400\",\"type\":\"LegendItem\"},{\"attributes\":{},\"id\":\"4332\",\"type\":\"BasicTickFormatter\"},{\"attributes\":{\"fill_alpha\":{\"value\":0.1},\"fill_color\":{\"value\":\"#8b8b8b\"},\"line_alpha\":{\"value\":0.1},\"line_color\":{\"value\":\"#8b8b8b\"},\"size\":{\"value\":5.477225575051661},\"x\":{\"field\":\"TotalCoinsMined\"},\"y\":{\"field\":\"TotalCoinSupply\"}},\"id\":\"4432\",\"type\":\"Scatter\"},{\"attributes\":{\"end\":390000000000.0,\"reset_end\":390000000000.0,\"reset_start\":0,\"tags\":[[[\"TotalCoinSupply\",\"TotalCoinSupply\",null]]]},\"id\":\"4293\",\"type\":\"Range1d\"},{\"attributes\":{\"data_source\":{\"id\":\"4402\"},\"glyph\":{\"id\":\"4405\"},\"hover_glyph\":null,\"muted_glyph\":{\"id\":\"4407\"},\"nonselection_glyph\":{\"id\":\"4406\"},\"selection_glyph\":{\"id\":\"4427\"},\"view\":{\"id\":\"4409\"}},\"id\":\"4408\",\"type\":\"GlyphRenderer\"},{\"attributes\":{},\"id\":\"4334\",\"type\":\"AllLabels\"},{\"attributes\":{\"click_policy\":\"mute\",\"items\":[{\"id\":\"4354\"},{\"id\":\"4376\"},{\"id\":\"4400\"},{\"id\":\"4426\"},{\"id\":\"4454\"}],\"location\":[0,0],\"title\":\"Class\"},\"id\":\"4353\",\"type\":\"Legend\"},{\"attributes\":{\"text\":\"Total Coins Supplied Vs Mined (AXIS LIMITED!)\",\"text_color\":\"black\",\"text_font_size\":\"12pt\"},\"id\":\"4300\",\"type\":\"Title\"},{\"attributes\":{},\"id\":\"4429\",\"type\":\"Selection\"},{\"attributes\":{\"data_source\":{\"id\":\"4428\"},\"glyph\":{\"id\":\"4431\"},\"hover_glyph\":null,\"muted_glyph\":{\"id\":\"4433\"},\"nonselection_glyph\":{\"id\":\"4432\"},\"selection_glyph\":{\"id\":\"4455\"},\"view\":{\"id\":\"4435\"}},\"id\":\"4434\",\"type\":\"GlyphRenderer\"},{\"attributes\":{\"source\":{\"id\":\"4428\"}},\"id\":\"4435\",\"type\":\"CDSView\"},{\"attributes\":{\"axis_label\":\"TotalCoinsMined\",\"formatter\":{\"id\":\"4329\"},\"major_label_policy\":{\"id\":\"4331\"},\"ticker\":{\"id\":\"4309\"}},\"id\":\"4308\",\"type\":\"LinearAxis\"},{\"attributes\":{},\"id\":\"4336\",\"type\":\"Selection\"},{\"attributes\":{\"fill_color\":{\"value\":\"#30a2da\"},\"line_color\":{\"value\":\"#30a2da\"},\"size\":{\"value\":5.477225575051661},\"x\":{\"field\":\"TotalCoinsMined\"},\"y\":{\"field\":\"TotalCoinSupply\"}},\"id\":\"4338\",\"type\":\"Scatter\"},{\"attributes\":{\"fill_color\":{\"value\":\"#8b8b8b\"},\"line_color\":{\"value\":\"#8b8b8b\"},\"size\":{\"value\":5.477225575051661},\"x\":{\"field\":\"TotalCoinsMined\"},\"y\":{\"field\":\"TotalCoinSupply\"}},\"id\":\"4431\",\"type\":\"Scatter\"},{\"attributes\":{},\"id\":\"4397\",\"type\":\"UnionRenderers\"},{\"attributes\":{\"callback\":null,\"renderers\":[{\"id\":\"4341\"},{\"id\":\"4362\"},{\"id\":\"4384\"},{\"id\":\"4408\"},{\"id\":\"4434\"}],\"tags\":[\"hv_created\"],\"tooltips\":[[\"Class\",\"@{Class}\"],[\"TotalCoinsMined\",\"@{TotalCoinsMined}\"],[\"TotalCoinSupply\",\"@{TotalCoinSupply}\"],[\"CoinName\",\"@{CoinName}\"]]},\"id\":\"4294\",\"type\":\"HoverTool\"},{\"attributes\":{\"below\":[{\"id\":\"4308\"}],\"center\":[{\"id\":\"4311\"},{\"id\":\"4315\"}],\"left\":[{\"id\":\"4312\"}],\"margin\":[5,5,5,5],\"min_border_bottom\":10,\"min_border_left\":10,\"min_border_right\":10,\"min_border_top\":10,\"renderers\":[{\"id\":\"4341\"},{\"id\":\"4362\"},{\"id\":\"4384\"},{\"id\":\"4408\"},{\"id\":\"4434\"}],\"right\":[{\"id\":\"4353\"}],\"sizing_mode\":\"fixed\",\"title\":{\"id\":\"4300\"},\"toolbar\":{\"id\":\"4322\"},\"width\":1200,\"x_range\":{\"id\":\"4292\"},\"x_scale\":{\"id\":\"4304\"},\"y_range\":{\"id\":\"4293\"},\"y_scale\":{\"id\":\"4306\"}},\"id\":\"4299\",\"subtype\":\"Figure\",\"type\":\"Plot\"},{\"attributes\":{\"fill_alpha\":{\"value\":0.1},\"fill_color\":{\"value\":\"#30a2da\"},\"line_alpha\":{\"value\":0.1},\"line_color\":{\"value\":\"#30a2da\"},\"size\":{\"value\":5.477225575051661},\"x\":{\"field\":\"TotalCoinsMined\"},\"y\":{\"field\":\"TotalCoinSupply\"}},\"id\":\"4339\",\"type\":\"Scatter\"},{\"attributes\":{\"fill_alpha\":{\"value\":0.2},\"fill_color\":{\"value\":\"#8b8b8b\"},\"line_alpha\":{\"value\":0.2},\"line_color\":{\"value\":\"#8b8b8b\"},\"size\":{\"value\":5.477225575051661},\"x\":{\"field\":\"TotalCoinsMined\"},\"y\":{\"field\":\"TotalCoinSupply\"}},\"id\":\"4433\",\"type\":\"Scatter\"},{\"attributes\":{\"data_source\":{\"id\":\"4335\"},\"glyph\":{\"id\":\"4338\"},\"hover_glyph\":null,\"muted_glyph\":{\"id\":\"4340\"},\"nonselection_glyph\":{\"id\":\"4339\"},\"selection_glyph\":{\"id\":\"4355\"},\"view\":{\"id\":\"4342\"}},\"id\":\"4341\",\"type\":\"GlyphRenderer\"},{\"attributes\":{\"label\":{\"value\":\"4\"},\"renderers\":[{\"id\":\"4434\"}]},\"id\":\"4454\",\"type\":\"LegendItem\"},{\"attributes\":{},\"id\":\"4306\",\"type\":\"LinearScale\"},{\"attributes\":{\"label\":{\"value\":\"0\"},\"renderers\":[{\"id\":\"4341\"}]},\"id\":\"4354\",\"type\":\"LegendItem\"},{\"attributes\":{\"source\":{\"id\":\"4335\"}},\"id\":\"4342\",\"type\":\"CDSView\"},{\"attributes\":{\"angle\":{\"value\":0.0},\"fill_alpha\":{\"value\":1.0},\"fill_color\":{\"value\":\"#30a2da\"},\"hatch_alpha\":{\"value\":1.0},\"hatch_color\":{\"value\":\"black\"},\"hatch_scale\":{\"value\":12.0},\"hatch_weight\":{\"value\":1.0},\"line_alpha\":{\"value\":1.0},\"line_cap\":{\"value\":\"butt\"},\"line_color\":{\"value\":\"#30a2da\"},\"line_dash\":{\"value\":[]},\"line_dash_offset\":{\"value\":0},\"line_join\":{\"value\":\"bevel\"},\"line_width\":{\"value\":1},\"marker\":{\"value\":\"circle\"},\"size\":{\"value\":5.477225575051661},\"x\":{\"field\":\"TotalCoinsMined\"},\"y\":{\"field\":\"TotalCoinSupply\"}},\"id\":\"4355\",\"type\":\"Scatter\"},{\"attributes\":{\"source\":{\"id\":\"4356\"}},\"id\":\"4363\",\"type\":\"CDSView\"},{\"attributes\":{\"axis\":{\"id\":\"4312\"},\"dimension\":1,\"grid_line_color\":null,\"ticker\":null},\"id\":\"4315\",\"type\":\"Grid\"},{\"attributes\":{\"fill_alpha\":{\"value\":0.2},\"fill_color\":{\"value\":\"#30a2da\"},\"line_alpha\":{\"value\":0.2},\"line_color\":{\"value\":\"#30a2da\"},\"size\":{\"value\":5.477225575051661},\"x\":{\"field\":\"TotalCoinsMined\"},\"y\":{\"field\":\"TotalCoinSupply\"}},\"id\":\"4340\",\"type\":\"Scatter\"},{\"attributes\":{\"axis\":{\"id\":\"4308\"},\"grid_line_color\":null,\"ticker\":null},\"id\":\"4311\",\"type\":\"Grid\"},{\"attributes\":{\"label\":{\"value\":\"1\"},\"renderers\":[{\"id\":\"4362\"}]},\"id\":\"4376\",\"type\":\"LegendItem\"},{\"attributes\":{},\"id\":\"4304\",\"type\":\"LinearScale\"},{\"attributes\":{},\"id\":\"4316\",\"type\":\"SaveTool\"},{\"attributes\":{},\"id\":\"4313\",\"type\":\"BasicTicker\"},{\"attributes\":{},\"id\":\"4309\",\"type\":\"BasicTicker\"},{\"attributes\":{\"data\":{\"Class\":[3,3,3,3,3],\"CoinName\":[\"Vechain\",\"BiblePay\",\"LitecoinCash\",\"Poa Network\",\"Waves\"],\"TotalCoinSupply\":[\"86712634466\",\"5200000000\",\"840000000\",\"252460800\",\"100000000\"],\"TotalCoinsMined\":{\"__ndarray__\":\"AACgM7jSKULx13gn/mfaQZawGn54BsNBAAAAfjRgqEEAAAAAhNeXQQ==\",\"dtype\":\"float64\",\"order\":\"little\",\"shape\":[5]}},\"selected\":{\"id\":\"4403\"},\"selection_policy\":{\"id\":\"4423\"}},\"id\":\"4402\",\"type\":\"ColumnDataSource\"},{\"attributes\":{},\"id\":\"4451\",\"type\":\"UnionRenderers\"},{\"attributes\":{},\"id\":\"4318\",\"type\":\"WheelZoomTool\"},{\"attributes\":{\"axis_label\":\"TotalCoinSupply\",\"formatter\":{\"id\":\"4332\"},\"major_label_policy\":{\"id\":\"4334\"},\"ticker\":{\"id\":\"4313\"}},\"id\":\"4312\",\"type\":\"LinearAxis\"},{\"attributes\":{\"active_multi\":null,\"tools\":[{\"id\":\"4294\"},{\"id\":\"4316\"},{\"id\":\"4317\"},{\"id\":\"4318\"},{\"id\":\"4319\"},{\"id\":\"4320\"}]},\"id\":\"4322\",\"type\":\"Toolbar\"},{\"attributes\":{\"overlay\":{\"id\":\"4321\"}},\"id\":\"4319\",\"type\":\"BoxZoomTool\"},{\"attributes\":{},\"id\":\"4320\",\"type\":\"ResetTool\"}],\"root_ids\":[\"4290\"]},\"title\":\"Bokeh Application\",\"version\":\"2.3.2\"}};\n",
       "    var render_items = [{\"docid\":\"1053dfbc-7789-42a5-8a44-398cd9d70e4d\",\"root_ids\":[\"4290\"],\"roots\":{\"4290\":\"f89fd42f-5135-4ef0-add1-62773a91b41f\"}}];\n",
       "    root.Bokeh.embed.embed_items_notebook(docs_json, render_items);\n",
       "  }\n",
       "  if (root.Bokeh !== undefined && root.Bokeh.Panel !== undefined) {\n",
       "    embed_document(root);\n",
       "  } else {\n",
       "    var attempts = 0;\n",
       "    var timer = setInterval(function(root) {\n",
       "      if (root.Bokeh !== undefined && root.Bokeh.Panel !== undefined) {\n",
       "        clearInterval(timer);\n",
       "        embed_document(root);\n",
       "      } else if (document.readyState == \"complete\") {\n",
       "        attempts++;\n",
       "        if (attempts > 100) {\n",
       "          clearInterval(timer);\n",
       "          console.log(\"Bokeh: ERROR: Unable to run BokehJS code because BokehJS library is missing\");\n",
       "        }\n",
       "      }\n",
       "    }, 10, root)\n",
       "  }\n",
       "})(window);</script>"
      ],
      "text/plain": [
       ":NdOverlay   [Class]\n",
       "   :Scatter   [TotalCoinsMined]   (TotalCoinSupply,CoinName)"
      ]
     },
     "execution_count": 77,
     "metadata": {
      "application/vnd.holoviews_exec.v0+json": {
       "id": "4290"
      }
     },
     "output_type": "execute_result"
    }
   ],
   "source": [
    "# if we ignore some of the extreme outliers and graph the above by setting lower axis limits\r\n",
    "clustered_df.hvplot.scatter(\r\n",
    "    x=\"TotalCoinsMined\", \r\n",
    "    y=\"TotalCoinSupply\", \r\n",
    "    xlim=(0, 2e+11),\r\n",
    "    ylim=(0, 3.9e+11),\r\n",
    "    width=1200, height=600,\r\n",
    "    by=\"Class\",\r\n",
    "    hover_cols=[\"CoinName\"],\r\n",
    "    title = \"Total Coins Supplied Vs Mined (AXIS LIMITED!)\"\r\n",
    ")"
   ]
  }
 ],
 "metadata": {
  "file_extension": ".py",
  "interpreter": {
   "hash": "5b498ed6bbff247839b21efdb7f9f4c1fd5c99b664153fbf032f55fae0b65230"
  },
  "kernelspec": {
   "display_name": "Python 3.9.4 64-bit ('mlenv': conda)",
   "name": "python3"
  },
  "language_info": {
   "codemirror_mode": {
    "name": "ipython",
    "version": 3
   },
   "file_extension": ".py",
   "mimetype": "text/x-python",
   "name": "python",
   "nbconvert_exporter": "python",
   "pygments_lexer": "ipython3",
   "version": "3.9.4"
  },
  "latex_envs": {
   "LaTeX_envs_menu_present": true,
   "autoclose": false,
   "autocomplete": true,
   "bibliofile": "biblio.bib",
   "cite_by": "apalike",
   "current_citInitial": 1,
   "eqLabelWithNumbers": true,
   "eqNumInitial": 1,
   "hotkeys": {
    "equation": "Ctrl-E",
    "itemize": "Ctrl-I"
   },
   "labels_anchors": false,
   "latex_user_defs": false,
   "report_style_numbering": false,
   "user_envs_cfg": false
  },
  "mimetype": "text/x-python",
  "name": "python",
  "npconvert_exporter": "python",
  "pygments_lexer": "ipython3",
  "version": 3
 },
 "nbformat": 4,
 "nbformat_minor": 2
}